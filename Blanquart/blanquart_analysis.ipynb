{
 "cells": [
  {
   "cell_type": "code",
   "execution_count": 1,
   "metadata": {},
   "outputs": [],
   "source": [
    "import pandas as pd\n",
    "import numpy as np"
   ]
  },
  {
   "cell_type": "code",
   "execution_count": 2,
   "metadata": {},
   "outputs": [],
   "source": [
    "df = pd.read_csv('blanquart.couples.for.fitting.all.columns.csv')\n",
    "df = df.set_index('Couple')"
   ]
  },
  {
   "cell_type": "code",
   "execution_count": 3,
   "metadata": {},
   "outputs": [
    {
     "data": {
      "text/html": [
       "<div>\n",
       "<style scoped>\n",
       "    .dataframe tbody tr th:only-of-type {\n",
       "        vertical-align: middle;\n",
       "    }\n",
       "\n",
       "    .dataframe tbody tr th {\n",
       "        vertical-align: top;\n",
       "    }\n",
       "\n",
       "    .dataframe thead th {\n",
       "        text-align: right;\n",
       "    }\n",
       "</style>\n",
       "<table border=\"1\" class=\"dataframe\">\n",
       "  <thead>\n",
       "    <tr style=\"text-align: right;\">\n",
       "      <th></th>\n",
       "      <th>male.firstPosDate</th>\n",
       "      <th>male.lastNegDate</th>\n",
       "      <th>female.firstPosDate</th>\n",
       "      <th>female.lastNegDate</th>\n",
       "      <th>male.index</th>\n",
       "      <th>female.index</th>\n",
       "      <th>female.firstObsDate</th>\n",
       "      <th>male.firstObsDate</th>\n",
       "      <th>female.lastObsDate</th>\n",
       "      <th>male.lastObsDate</th>\n",
       "      <th>...</th>\n",
       "      <th>assay</th>\n",
       "      <th>n.vl.ur</th>\n",
       "      <th>spvl.ur</th>\n",
       "      <th>partner.ever.seroconverted</th>\n",
       "      <th>partner.first.pos.after.art</th>\n",
       "      <th>partner.seroconverted.before.art</th>\n",
       "      <th>index.inferred.spvl.start.date</th>\n",
       "      <th>partner.inferred.seroconversion.date</th>\n",
       "      <th>infectious.contact.period.end</th>\n",
       "      <th>duration</th>\n",
       "    </tr>\n",
       "    <tr>\n",
       "      <th>Couple</th>\n",
       "      <th></th>\n",
       "      <th></th>\n",
       "      <th></th>\n",
       "      <th></th>\n",
       "      <th></th>\n",
       "      <th></th>\n",
       "      <th></th>\n",
       "      <th></th>\n",
       "      <th></th>\n",
       "      <th></th>\n",
       "      <th></th>\n",
       "      <th></th>\n",
       "      <th></th>\n",
       "      <th></th>\n",
       "      <th></th>\n",
       "      <th></th>\n",
       "      <th></th>\n",
       "      <th></th>\n",
       "      <th></th>\n",
       "      <th></th>\n",
       "      <th></th>\n",
       "    </tr>\n",
       "  </thead>\n",
       "  <tbody>\n",
       "    <tr>\n",
       "      <th>1</th>\n",
       "      <td>2002.1</td>\n",
       "      <td>2000.8</td>\n",
       "      <td>1994.9</td>\n",
       "      <td>NaN</td>\n",
       "      <td>False</td>\n",
       "      <td>True</td>\n",
       "      <td>1994.9</td>\n",
       "      <td>1994.9</td>\n",
       "      <td>2002.1</td>\n",
       "      <td>2002.1</td>\n",
       "      <td>...</td>\n",
       "      <td>Roche 1.0</td>\n",
       "      <td>4</td>\n",
       "      <td>3.085649</td>\n",
       "      <td>True</td>\n",
       "      <td>False</td>\n",
       "      <td>True</td>\n",
       "      <td>1995.4</td>\n",
       "      <td>2001.45</td>\n",
       "      <td>2001.45</td>\n",
       "      <td>6.05</td>\n",
       "    </tr>\n",
       "    <tr>\n",
       "      <th>7</th>\n",
       "      <td>inf</td>\n",
       "      <td>1995.7</td>\n",
       "      <td>1994.9</td>\n",
       "      <td>NaN</td>\n",
       "      <td>False</td>\n",
       "      <td>True</td>\n",
       "      <td>1994.9</td>\n",
       "      <td>1994.9</td>\n",
       "      <td>1995.7</td>\n",
       "      <td>1995.7</td>\n",
       "      <td>...</td>\n",
       "      <td>Roche 1.0</td>\n",
       "      <td>1</td>\n",
       "      <td>2.750508</td>\n",
       "      <td>False</td>\n",
       "      <td>False</td>\n",
       "      <td>False</td>\n",
       "      <td>1995.4</td>\n",
       "      <td>inf</td>\n",
       "      <td>1995.70</td>\n",
       "      <td>0.30</td>\n",
       "    </tr>\n",
       "    <tr>\n",
       "      <th>9</th>\n",
       "      <td>2002.1</td>\n",
       "      <td>2000.8</td>\n",
       "      <td>inf</td>\n",
       "      <td>2007.9</td>\n",
       "      <td>True</td>\n",
       "      <td>False</td>\n",
       "      <td>2002.1</td>\n",
       "      <td>2002.1</td>\n",
       "      <td>2003.3</td>\n",
       "      <td>2002.1</td>\n",
       "      <td>...</td>\n",
       "      <td>Roche 1.0</td>\n",
       "      <td>1</td>\n",
       "      <td>5.669317</td>\n",
       "      <td>False</td>\n",
       "      <td>False</td>\n",
       "      <td>False</td>\n",
       "      <td>2002.6</td>\n",
       "      <td>inf</td>\n",
       "      <td>2003.30</td>\n",
       "      <td>0.70</td>\n",
       "    </tr>\n",
       "    <tr>\n",
       "      <th>11</th>\n",
       "      <td>inf</td>\n",
       "      <td>1996.5</td>\n",
       "      <td>1994.9</td>\n",
       "      <td>NaN</td>\n",
       "      <td>False</td>\n",
       "      <td>True</td>\n",
       "      <td>1994.9</td>\n",
       "      <td>1994.9</td>\n",
       "      <td>1996.5</td>\n",
       "      <td>1996.5</td>\n",
       "      <td>...</td>\n",
       "      <td>Roche 1.0</td>\n",
       "      <td>5</td>\n",
       "      <td>3.595304</td>\n",
       "      <td>False</td>\n",
       "      <td>False</td>\n",
       "      <td>False</td>\n",
       "      <td>1995.4</td>\n",
       "      <td>inf</td>\n",
       "      <td>1996.50</td>\n",
       "      <td>1.10</td>\n",
       "    </tr>\n",
       "    <tr>\n",
       "      <th>14</th>\n",
       "      <td>1994.9</td>\n",
       "      <td>NaN</td>\n",
       "      <td>inf</td>\n",
       "      <td>2000.9</td>\n",
       "      <td>True</td>\n",
       "      <td>False</td>\n",
       "      <td>1999.8</td>\n",
       "      <td>1999.8</td>\n",
       "      <td>2000.9</td>\n",
       "      <td>2000.7</td>\n",
       "      <td>...</td>\n",
       "      <td>Roche 1.0</td>\n",
       "      <td>1</td>\n",
       "      <td>3.327359</td>\n",
       "      <td>False</td>\n",
       "      <td>False</td>\n",
       "      <td>False</td>\n",
       "      <td>1995.4</td>\n",
       "      <td>inf</td>\n",
       "      <td>2000.90</td>\n",
       "      <td>5.50</td>\n",
       "    </tr>\n",
       "    <tr>\n",
       "      <th>...</th>\n",
       "      <td>...</td>\n",
       "      <td>...</td>\n",
       "      <td>...</td>\n",
       "      <td>...</td>\n",
       "      <td>...</td>\n",
       "      <td>...</td>\n",
       "      <td>...</td>\n",
       "      <td>...</td>\n",
       "      <td>...</td>\n",
       "      <td>...</td>\n",
       "      <td>...</td>\n",
       "      <td>...</td>\n",
       "      <td>...</td>\n",
       "      <td>...</td>\n",
       "      <td>...</td>\n",
       "      <td>...</td>\n",
       "      <td>...</td>\n",
       "      <td>...</td>\n",
       "      <td>...</td>\n",
       "      <td>...</td>\n",
       "      <td>...</td>\n",
       "    </tr>\n",
       "    <tr>\n",
       "      <th>3111</th>\n",
       "      <td>inf</td>\n",
       "      <td>2008.2</td>\n",
       "      <td>1995.4</td>\n",
       "      <td>NaN</td>\n",
       "      <td>False</td>\n",
       "      <td>True</td>\n",
       "      <td>2004.8</td>\n",
       "      <td>2004.9</td>\n",
       "      <td>2008.2</td>\n",
       "      <td>2008.2</td>\n",
       "      <td>...</td>\n",
       "      <td>Roche 1.5</td>\n",
       "      <td>1</td>\n",
       "      <td>5.745893</td>\n",
       "      <td>False</td>\n",
       "      <td>False</td>\n",
       "      <td>False</td>\n",
       "      <td>1995.9</td>\n",
       "      <td>inf</td>\n",
       "      <td>2005.20</td>\n",
       "      <td>9.30</td>\n",
       "    </tr>\n",
       "    <tr>\n",
       "      <th>3114</th>\n",
       "      <td>inf</td>\n",
       "      <td>2009.1</td>\n",
       "      <td>2005.6</td>\n",
       "      <td>NaN</td>\n",
       "      <td>False</td>\n",
       "      <td>True</td>\n",
       "      <td>2005.6</td>\n",
       "      <td>2005.6</td>\n",
       "      <td>2009.1</td>\n",
       "      <td>2009.1</td>\n",
       "      <td>...</td>\n",
       "      <td>Roche 1.5</td>\n",
       "      <td>1</td>\n",
       "      <td>2.966611</td>\n",
       "      <td>False</td>\n",
       "      <td>False</td>\n",
       "      <td>False</td>\n",
       "      <td>2006.1</td>\n",
       "      <td>inf</td>\n",
       "      <td>2007.30</td>\n",
       "      <td>1.20</td>\n",
       "    </tr>\n",
       "    <tr>\n",
       "      <th>3117</th>\n",
       "      <td>inf</td>\n",
       "      <td>2013.5</td>\n",
       "      <td>2002.6</td>\n",
       "      <td>NaN</td>\n",
       "      <td>False</td>\n",
       "      <td>True</td>\n",
       "      <td>2006.7</td>\n",
       "      <td>2006.7</td>\n",
       "      <td>2011.6</td>\n",
       "      <td>2011.6</td>\n",
       "      <td>...</td>\n",
       "      <td>Roche 1.5</td>\n",
       "      <td>1</td>\n",
       "      <td>3.723456</td>\n",
       "      <td>False</td>\n",
       "      <td>False</td>\n",
       "      <td>False</td>\n",
       "      <td>2003.1</td>\n",
       "      <td>inf</td>\n",
       "      <td>2005.20</td>\n",
       "      <td>2.10</td>\n",
       "    </tr>\n",
       "    <tr>\n",
       "      <th>3121</th>\n",
       "      <td>2008.7</td>\n",
       "      <td>NaN</td>\n",
       "      <td>inf</td>\n",
       "      <td>2014.1</td>\n",
       "      <td>True</td>\n",
       "      <td>False</td>\n",
       "      <td>2008.7</td>\n",
       "      <td>2008.7</td>\n",
       "      <td>2011.9</td>\n",
       "      <td>2011.9</td>\n",
       "      <td>...</td>\n",
       "      <td>Roche 1.5</td>\n",
       "      <td>1</td>\n",
       "      <td>3.069298</td>\n",
       "      <td>False</td>\n",
       "      <td>False</td>\n",
       "      <td>False</td>\n",
       "      <td>2009.2</td>\n",
       "      <td>inf</td>\n",
       "      <td>2011.90</td>\n",
       "      <td>2.70</td>\n",
       "    </tr>\n",
       "    <tr>\n",
       "      <th>3124</th>\n",
       "      <td>2011.4</td>\n",
       "      <td>2009.7</td>\n",
       "      <td>2006.4</td>\n",
       "      <td>NaN</td>\n",
       "      <td>False</td>\n",
       "      <td>True</td>\n",
       "      <td>2009.7</td>\n",
       "      <td>2009.7</td>\n",
       "      <td>2011.4</td>\n",
       "      <td>2011.4</td>\n",
       "      <td>...</td>\n",
       "      <td>Roche 1.5</td>\n",
       "      <td>1</td>\n",
       "      <td>5.509463</td>\n",
       "      <td>True</td>\n",
       "      <td>True</td>\n",
       "      <td>False</td>\n",
       "      <td>2006.9</td>\n",
       "      <td>2010.55</td>\n",
       "      <td>2007.20</td>\n",
       "      <td>0.30</td>\n",
       "    </tr>\n",
       "  </tbody>\n",
       "</table>\n",
       "<p>759 rows × 36 columns</p>\n",
       "</div>"
      ],
      "text/plain": [
       "        male.firstPosDate  male.lastNegDate  female.firstPosDate  \\\n",
       "Couple                                                             \n",
       "1                  2002.1            2000.8               1994.9   \n",
       "7                     inf            1995.7               1994.9   \n",
       "9                  2002.1            2000.8                  inf   \n",
       "11                    inf            1996.5               1994.9   \n",
       "14                 1994.9               NaN                  inf   \n",
       "...                   ...               ...                  ...   \n",
       "3111                  inf            2008.2               1995.4   \n",
       "3114                  inf            2009.1               2005.6   \n",
       "3117                  inf            2013.5               2002.6   \n",
       "3121               2008.7               NaN                  inf   \n",
       "3124               2011.4            2009.7               2006.4   \n",
       "\n",
       "        female.lastNegDate  male.index  female.index  female.firstObsDate  \\\n",
       "Couple                                                                      \n",
       "1                      NaN       False          True               1994.9   \n",
       "7                      NaN       False          True               1994.9   \n",
       "9                   2007.9        True         False               2002.1   \n",
       "11                     NaN       False          True               1994.9   \n",
       "14                  2000.9        True         False               1999.8   \n",
       "...                    ...         ...           ...                  ...   \n",
       "3111                   NaN       False          True               2004.8   \n",
       "3114                   NaN       False          True               2005.6   \n",
       "3117                   NaN       False          True               2006.7   \n",
       "3121                2014.1        True         False               2008.7   \n",
       "3124                   NaN       False          True               2009.7   \n",
       "\n",
       "        male.firstObsDate  female.lastObsDate  male.lastObsDate  ...  \\\n",
       "Couple                                                           ...   \n",
       "1                  1994.9              2002.1            2002.1  ...   \n",
       "7                  1994.9              1995.7            1995.7  ...   \n",
       "9                  2002.1              2003.3            2002.1  ...   \n",
       "11                 1994.9              1996.5            1996.5  ...   \n",
       "14                 1999.8              2000.9            2000.7  ...   \n",
       "...                   ...                 ...               ...  ...   \n",
       "3111               2004.9              2008.2            2008.2  ...   \n",
       "3114               2005.6              2009.1            2009.1  ...   \n",
       "3117               2006.7              2011.6            2011.6  ...   \n",
       "3121               2008.7              2011.9            2011.9  ...   \n",
       "3124               2009.7              2011.4            2011.4  ...   \n",
       "\n",
       "            assay  n.vl.ur   spvl.ur  partner.ever.seroconverted  \\\n",
       "Couple                                                             \n",
       "1       Roche 1.0        4  3.085649                        True   \n",
       "7       Roche 1.0        1  2.750508                       False   \n",
       "9       Roche 1.0        1  5.669317                       False   \n",
       "11      Roche 1.0        5  3.595304                       False   \n",
       "14      Roche 1.0        1  3.327359                       False   \n",
       "...           ...      ...       ...                         ...   \n",
       "3111    Roche 1.5        1  5.745893                       False   \n",
       "3114    Roche 1.5        1  2.966611                       False   \n",
       "3117    Roche 1.5        1  3.723456                       False   \n",
       "3121    Roche 1.5        1  3.069298                       False   \n",
       "3124    Roche 1.5        1  5.509463                        True   \n",
       "\n",
       "        partner.first.pos.after.art  partner.seroconverted.before.art  \\\n",
       "Couple                                                                  \n",
       "1                             False                              True   \n",
       "7                             False                             False   \n",
       "9                             False                             False   \n",
       "11                            False                             False   \n",
       "14                            False                             False   \n",
       "...                             ...                               ...   \n",
       "3111                          False                             False   \n",
       "3114                          False                             False   \n",
       "3117                          False                             False   \n",
       "3121                          False                             False   \n",
       "3124                           True                             False   \n",
       "\n",
       "        index.inferred.spvl.start.date  partner.inferred.seroconversion.date  \\\n",
       "Couple                                                                         \n",
       "1                               1995.4                               2001.45   \n",
       "7                               1995.4                                   inf   \n",
       "9                               2002.6                                   inf   \n",
       "11                              1995.4                                   inf   \n",
       "14                              1995.4                                   inf   \n",
       "...                                ...                                   ...   \n",
       "3111                            1995.9                                   inf   \n",
       "3114                            2006.1                                   inf   \n",
       "3117                            2003.1                                   inf   \n",
       "3121                            2009.2                                   inf   \n",
       "3124                            2006.9                               2010.55   \n",
       "\n",
       "        infectious.contact.period.end  duration  \n",
       "Couple                                           \n",
       "1                             2001.45      6.05  \n",
       "7                             1995.70      0.30  \n",
       "9                             2003.30      0.70  \n",
       "11                            1996.50      1.10  \n",
       "14                            2000.90      5.50  \n",
       "...                               ...       ...  \n",
       "3111                          2005.20      9.30  \n",
       "3114                          2007.30      1.20  \n",
       "3117                          2005.20      2.10  \n",
       "3121                          2011.90      2.70  \n",
       "3124                          2007.20      0.30  \n",
       "\n",
       "[759 rows x 36 columns]"
      ]
     },
     "execution_count": 3,
     "metadata": {},
     "output_type": "execute_result"
    }
   ],
   "source": [
    "df"
   ]
  },
  {
   "cell_type": "markdown",
   "metadata": {},
   "source": [
    "# Distribution of set point viral load"
   ]
  },
  {
   "cell_type": "code",
   "execution_count": 4,
   "metadata": {},
   "outputs": [
    {
     "data": {
      "text/plain": [
       "<Axes: ylabel='Frequency'>"
      ]
     },
     "execution_count": 4,
     "metadata": {},
     "output_type": "execute_result"
    },
    {
     "data": {
      "image/png": "[encoded data removed]",
      "text/plain": [
       "<Figure size 640x480 with 1 Axes>"
      ]
     },
     "metadata": {},
     "output_type": "display_data"
    }
   ],
   "source": [
    "df['spvl'].plot.hist(bins=25, cumulative=False)"
   ]
  },
  {
   "cell_type": "code",
   "execution_count": 5,
   "metadata": {},
   "outputs": [
    {
     "data": {
      "text/plain": [
       "[<matplotlib.lines.Line2D at 0x17e471510>]"
      ]
     },
     "execution_count": 5,
     "metadata": {},
     "output_type": "execute_result"
    },
    {
     "data": {
      "image/png": "[encoded data removed]",
      "text/plain": [
       "<Figure size 640x480 with 1 Axes>"
      ]
     },
     "metadata": {},
     "output_type": "display_data"
    }
   ],
   "source": [
    "from scipy.stats import kstest, norm\n",
    "\n",
    "ax = df['spvl'].plot.hist(bins=25, cumulative=True, density=True)\n",
    "x = np.linspace(df['spvl'].min(), df['spvl'].max(), 100)\n",
    "ax.plot(x, norm(df['spvl'].mean(), df['spvl'].std()).cdf(x))"
   ]
  },
  {
   "cell_type": "code",
   "execution_count": 6,
   "metadata": {},
   "outputs": [
    {
     "data": {
      "text/plain": [
       "0.043098851411678796"
      ]
     },
     "execution_count": 6,
     "metadata": {},
     "output_type": "execute_result"
    }
   ],
   "source": [
    "kstest(df['spvl'], norm(df['spvl'].mean(), df['spvl'].std()).cdf).pvalue"
   ]
  },
  {
   "cell_type": "markdown",
   "metadata": {},
   "source": [
    "**Observation:** the data is not normally distributed."
   ]
  },
  {
   "cell_type": "markdown",
   "metadata": {},
   "source": [
    "# False negativity analysis"
   ]
  },
  {
   "cell_type": "markdown",
   "metadata": {},
   "source": [
    "In the RCSS data used by Blanquart et al. the viral load measurement had a detection threshold of 400 copies/mL. Measurements below this threshold were censored. The authors identify a number of reasons that a measurement might be below the detection threshold:\n",
    "\n",
    "1. The participant is an 'elite controller' who truly has a low viral load at the time of measurement.\n",
    "2. A measurement error and/or degradation of the RNA sample.\n",
    "3. The participant was prescribed ART in a clinic other than the RHSP clinics and did not report that fact.\n",
    "4. The participant is falsely believed to be infected.\n",
    "\n",
    "In order to account for factor 2, Blanquart et al. \"assumed that any single viral load measure below 400 copies/mL in a participant with more than one measure over 400 copies/mL was due to either error or sample degradation, and we removed these measurements from our analysis (44 measures out of 2135).\"\n",
    "\n",
    "If we assume that the event of a measurement error or sample degradation is independent of how many past measurements have been made of the individual and independent of the participant's viral load, then the measurements rejected by above can be seen as establishing a minimum false negative rate of $44/2135 \\approx 2.06 \\%$."
   ]
  },
  {
   "cell_type": "markdown",
   "metadata": {},
   "source": [
    "# Transmission given undetectable viral load"
   ]
  },
  {
   "cell_type": "markdown",
   "metadata": {},
   "source": [
    "Four couples where the index partner always recorded an undectable viral load (5 measurements total; average = 1.25) had a seroconversion in the recipient partner. In and of itself, this is a notable finding because the metastudy of sexual transmission given low-level viremia by Broyles et al. included RCSS only up through the Gray study (2000) which had 0 transmission events when the index partner had undectable viral load."
   ]
  },
  {
   "cell_type": "code",
   "execution_count": 7,
   "metadata": {},
   "outputs": [
    {
     "data": {
      "text/plain": [
       "Couple\n",
       "356     1\n",
       "942     2\n",
       "1255    1\n",
       "2504    1\n",
       "Name: n.vl, dtype: int64"
      ]
     },
     "execution_count": 7,
     "metadata": {},
     "output_type": "execute_result"
    }
   ],
   "source": [
    "df[(df['n.vl.ur'] == 0) & df['partner.seroconverted.before.art']]['n.vl']"
   ]
  },
  {
   "cell_type": "markdown",
   "metadata": {},
   "source": [
    "Given a putative false negative rate of $2.06 \\%$ (this is likely a lower bound on the false negative rate), we can query the significance of these four observations with the following framework:\n",
    "\n",
    "1. Null hypothesis: given undetectable (< 400 copies/mL) viral load in the index partner, transmission is impossible.\n",
    "2. Evaluate the p-value for rejecting the null hypothesis given four transmission events and a false negative rate of $2.06\\%$.\n",
    "\n",
    "To complete (2) in the simplest way, we consider all couples where the recipient partner seroconverted regardless of viral load. Given the distribution of viral load measurements across those index partners, we ask how likely would it be to have four or more index partners record only undetectable viral loads due to independently random measurement failures at a rate of $2.06\\%$"
   ]
  },
  {
   "cell_type": "code",
   "execution_count": 8,
   "metadata": {},
   "outputs": [],
   "source": [
    "n_measurements = df[df['partner.seroconverted.before.art']]['n.vl']"
   ]
  },
  {
   "cell_type": "code",
   "execution_count": 9,
   "metadata": {},
   "outputs": [],
   "source": [
    "from scipy.stats import binom\n",
    "\n",
    "p_false_negative = 0.0206\n",
    "n_undectables = []\n",
    "for i in range(20000):\n",
    "    n_failure_samples = binom(n_measurements, p_false_negative).rvs()\n",
    "    n_undetectable = np.sum(n_failure_samples == n_measurements)\n",
    "    n_undectables.append(n_undetectable)\n",
    "n_undectables = np.array(n_undectables)"
   ]
  },
  {
   "cell_type": "code",
   "execution_count": 10,
   "metadata": {},
   "outputs": [
    {
     "data": {
      "text/plain": [
       "3.0"
      ]
     },
     "execution_count": 10,
     "metadata": {},
     "output_type": "execute_result"
    }
   ],
   "source": [
    "np.quantile(n_undectables, 0.95)"
   ]
  },
  {
   "cell_type": "code",
   "execution_count": 11,
   "metadata": {},
   "outputs": [
    {
     "data": {
      "text/plain": [
       "array([0.018])"
      ]
     },
     "execution_count": 11,
     "metadata": {},
     "output_type": "execute_result"
    }
   ],
   "source": [
    "np.sum(n_undectables >= 4) / np.shape(n_undectables)"
   ]
  },
  {
   "cell_type": "markdown",
   "metadata": {},
   "source": [
    "**Observation:** with a false negative rate of 2.06%, we can reject the null hypothesis that transmission is impossible for index patients who only record undetectable results. (This assumes the only mode of measurement inaccuracy is complete failure. It does not include noise in the measurement.)\n",
    "\n",
    "**Note:** we also aren't including the possibility for extra-partner transmission. (Recall: these cases aren't confirmed to be linked.)"
   ]
  },
  {
   "cell_type": "markdown",
   "metadata": {},
   "source": [
    "# False negative rates and normality of the distribution\n",
    "\n",
    "We resample the distribution by assuming X% of the undetectable measurements were false negatives. We handle this process in two ways\n",
    "\n",
    "1. Remove the undetectable measurement and recalculate VL as if the measurement didn't exist.\n",
    "2. After removing all those measurements, calculate the mean and variance of SPVL and then draw random values from the normal with that mean and variance and reassign them to the presumptive false negatives.\n",
    "\n",
    "In each case, we then compare the resultant distribution to a normal distribution using the KS test.\n",
    "\n",
    "**Note:** neither of these approaches corrects for the fact that instead of doing something sensible for the censored data, we supply 200 copies / mL for all of the ones that *aren't* false negative in both cases."
   ]
  },
  {
   "cell_type": "code",
   "execution_count": 12,
   "metadata": {},
   "outputs": [],
   "source": [
    "def resample(df, p_false_negative):\n",
    "    df = df.copy()\n",
    "    # for negative tests, assume that p fraction was false negative\n",
    "    # ie the true viral load was > 400 copies/mL\n",
    "    n_now_positive = binom(df['n.vl'] - df['n.vl.ur'], p_false_negative).rvs()\n",
    "\n",
    "    # since it's unclear what VL to supply as the true VL in these observations,\n",
    "    # we try two approaches\n",
    "    # (1) hide those measurements\n",
    "    df['spvl2'] = (df['spvl'] * df['n.vl'] - n_now_positive * np.log10(200)) / (df['n.vl'] - n_now_positive)\n",
    "    df_hidden = df[(df['n.vl'] - n_now_positive) > 0]\n",
    "    df['spvl2'] = np.where(\n",
    "        (df['n.vl'] - n_now_positive) == 0,\n",
    "        0,\n",
    "        df['spvl2']\n",
    "    )\n",
    "\n",
    "    # (2) after hiding those measurements, calculate the mean and variance of distribution\n",
    "    # and then replace those measurements with RVs from the normal distribution with that mean and variance\n",
    "    mean, std = df['spvl2'].mean(), df['spvl2'].std()\n",
    "    n = norm(mean, std)\n",
    "    replacement_vls = n.rvs(np.sum(n_now_positive))\n",
    "    added_vl = []\n",
    "    i = 0\n",
    "    for n in n_now_positive:\n",
    "        added_vl.append(np.sum(replacement_vls[i:i+n]))\n",
    "        i += n\n",
    "    df['spvl3'] = (df['spvl2'] * (df['n.vl'] - n_now_positive) + added_vl) / (df['n.vl'])\n",
    "\n",
    "    return df_hidden['spvl2'], df['spvl3']"
   ]
  },
  {
   "cell_type": "code",
   "execution_count": 13,
   "metadata": {},
   "outputs": [],
   "source": [
    "p_false_negative = 0.10\n",
    "\n",
    "spvl_hidden, spvl_resampled = resample(df, p_false_negative)"
   ]
  },
  {
   "cell_type": "code",
   "execution_count": 14,
   "metadata": {},
   "outputs": [
    {
     "data": {
      "text/plain": [
       "False"
      ]
     },
     "execution_count": 14,
     "metadata": {},
     "output_type": "execute_result"
    }
   ],
   "source": [
    "pd.isna(spvl_resampled).any()"
   ]
  },
  {
   "cell_type": "markdown",
   "metadata": {},
   "source": [
    "## Hide false negatives"
   ]
  },
  {
   "cell_type": "code",
   "execution_count": 15,
   "metadata": {},
   "outputs": [
    {
     "data": {
      "text/plain": [
       "0.05430997438678198"
      ]
     },
     "execution_count": 15,
     "metadata": {},
     "output_type": "execute_result"
    },
    {
     "data": {
      "image/png": "[encoded data removed]",
      "text/plain": [
       "<Figure size 640x480 with 1 Axes>"
      ]
     },
     "metadata": {},
     "output_type": "display_data"
    }
   ],
   "source": [
    "ax = spvl_hidden.plot.hist(bins=25, cumulative=True, density=True)\n",
    "x = np.linspace(spvl_hidden.min(), spvl_hidden.max(), 100)\n",
    "ax.plot(x, norm(spvl_hidden.mean(), spvl_hidden.std()).cdf(x))\n",
    "\n",
    "kstest(spvl_hidden, norm(spvl_hidden.mean(), spvl_hidden.std()).cdf).pvalue"
   ]
  },
  {
   "cell_type": "markdown",
   "metadata": {},
   "source": [
    "## Replace false negatives"
   ]
  },
  {
   "cell_type": "code",
   "execution_count": 211,
   "metadata": {},
   "outputs": [
    {
     "data": {
      "text/plain": [
       "(4.108205421844114, 0.9036287353551126)"
      ]
     },
     "execution_count": 211,
     "metadata": {},
     "output_type": "execute_result"
    }
   ],
   "source": [
    "spvl_hidden.mean(), spvl_hidden.std()"
   ]
  },
  {
   "cell_type": "code",
   "execution_count": 16,
   "metadata": {},
   "outputs": [
    {
     "data": {
      "text/plain": [
       "0.13178637985386454"
      ]
     },
     "execution_count": 16,
     "metadata": {},
     "output_type": "execute_result"
    },
    {
     "data": {
      "image/png": "[encoded data removed]",
      "text/plain": [
       "<Figure size 640x480 with 1 Axes>"
      ]
     },
     "metadata": {},
     "output_type": "display_data"
    }
   ],
   "source": [
    "ax = spvl_resampled.plot.hist(bins=25, cumulative=True, density=True)\n",
    "x = np.linspace(spvl_resampled.min(), spvl_resampled.max(), 100)\n",
    "ax.plot(x, norm(spvl_resampled.mean(), spvl_resampled.std()).cdf(x))\n",
    "ax.plot(x, norm(spvl_hidden.mean(), spvl_hidden.std()).cdf(x))\n",
    "\n",
    "kstest(spvl_resampled, norm(spvl_resampled.mean(), spvl_resampled.std()).cdf).pvalue"
   ]
  },
  {
   "cell_type": "markdown",
   "metadata": {},
   "source": [
    "**Observation:** as obviously is expected, when we replace the \"false negative\" values with the samples from the normal distribution with mean + variance determiend by non-false-negative-values, we get a distribution that is closer to normal."
   ]
  },
  {
   "cell_type": "code",
   "execution_count": 17,
   "metadata": {},
   "outputs": [
    {
     "data": {
      "image/png": "[encoded data removed]",
      "text/plain": [
       "<Figure size 640x480 with 1 Axes>"
      ]
     },
     "metadata": {},
     "output_type": "display_data"
    }
   ],
   "source": [
    "_, spvl_resampled = resample(df, 0.35)\n",
    "ax = spvl_resampled.plot.hist(bins=25, density=True)"
   ]
  },
  {
   "cell_type": "markdown",
   "metadata": {},
   "source": [
    "**Observation:** even with a large false negative rate (35% above), the data still apppears enriched at small values relative to a normal."
   ]
  },
  {
   "cell_type": "markdown",
   "metadata": {},
   "source": [
    "# Model part 1: population model and observation model towards redistributing censored data\n",
    "\n",
    "- Problem: the viral load measurements are censored if their value is below 400 copies / mL.\n",
    "- Desire: redistribute the censored viral load measurements (taking into account the possibility of false negatives) below 400 copies / mL\n",
    "- Approach: propose a model for the viral load distribution in the population and a model for the observation process. Find the parameters for the population viral load model and observation model that maximize the likelihood of observing our data. Then redistribute censored data in accordance with the population model.\n",
    "\n",
    "## Population model:\n",
    "\n",
    "- Two classes of individuals: elite controllers and ordinary individuals. Fraction $q$ of individuals are elite, fraction $1-q$ are not.\n",
    "- Viral load among elite controllers: $\\text{Normal} (\\mu_{\\text{e}}, \\sigma^2_\\text{e})$. PDF: $f_\\text{elite}$.\n",
    "- Viral load among non-elite contorllers $\\text{Normal} (\\mu_{\\text{o}}, \\sigma^2_\\text{o})$. PDF: $f_\\text{ordinary}$.\n",
    "- PDF of viral load in the population:\n",
    "\n",
    "$$ f_\\text{pop} (\\text{VL}_\\text{true}) =  q f_\\text{elite} (\\text{VL}_\\text{true}) + (1 - q) f_\\text{ordinary} (\\text{VL}_\\text{true}).$$\n",
    "\n",
    "## Observation model:\n",
    "\n",
    "- Assume that every individual has a fixed $\\text{VL}_\\text{true} = \\text{SPVL}_\\text{true}$.\n",
    "- Measurements have Gaussian noise $\\text{Normal}(0, \\sigma_\\text{noise}^2)$.\n",
    "- Any measurement of a value below $\\text{LLD} = 400$ copies / mL (after noise) is censored.\n",
    "- Additionally and *independently*, there is a constant probability that a viral load measurement will appear censored due to a false negative: $p_\\text{false negative}$.\n",
    "- The number of measurements made of an individual are independent of any feature of that individual. **Is this true? Is there some weird entanglement where once your partner seroconverts you get dropped from the data so maybe we have more observations for people with low viral loads?** \n",
    "\n",
    "## Observation content:\n",
    "\n",
    "For each individual $i$, we make the following observation:\n",
    "\n",
    "$$\\mathcal{O}_i = \\{ n_i, k_i, \\text{SPVL}_i^o \\}$$\n",
    "\n",
    "- $n_i$: number of times viral load is measured.\n",
    "- $k_i$: number of times an undetectable result is recorded. $k_i \\le n_i$.\n",
    "- $\\text{SPVL}^o_i$: the observed ($=^o$) average (in log space) of **uncensored** viral load observations.\n",
    "\n",
    "## Likelihood of observation given the two models\n",
    "\n",
    "Let the collection of all model parameters be called $\\theta$\n",
    "\n",
    "$$ \\theta = \\theta_\\text{pop} \\cup \\theta_\\text{obs} = \\{ q, \\mu_e, \\sigma_e, \\mu_o, \\sigma_o \\} \\cup \\{ p_\\text{false negative}, \\sigma_\\text{noise} \\}$$\n",
    "\n",
    "By assumption, individual $i$ has a fixed $\\text{VL}_\\text{true} = \\text{SPVL}_\\text{true}$. By the law of total probability, the likelihood of observing $\\mathcal{O}_i$ given the model is:\n",
    "\n",
    "$$ \\mathcal{L} (\\mathcal{O}_i | \\theta ) = \\int_{\\text{VL}_\\text{true} = 0}^\\infty f_\\text{pop} (\\text{VL}_\\text{true}; \\theta_\\text{pop}) P(\\mathcal{O}_i | \\text{VL}_\\text{true}; \\theta_\\text{obs}) d\\text{VL}_\\text{true}$$\n",
    "\n",
    "The first term in the integral is known:\n",
    "\n",
    "$$ f_\\text{pop} (\\text{VL}_\\text{true}; \\theta_\\text{pop}) =  q f_\\text{elite} (\\text{VL}_\\text{true}; \\theta_\\text{pop}) + (1 - q) f_\\text{ordinary} (\\text{VL}_\\text{true}; \\theta_\\text{pop}).$$\n",
    "\n",
    "The second term in the integral is more complicated to evaluate.\n",
    "\n",
    "### The probability of an observation given a known fixed viral load\n",
    "\n",
    "The probability of $\\mathcal{O}_i$ given the model and the viral load may be split apart into a probability for observing $k_i$ undetectable results in $n_i$ tries and a probability for observing the given mean among the $n-k$ other measurements:\n",
    "\n",
    "$$ P(\\mathcal{O}_i | \\text{VL}_\\text{true}; \\theta_\\text{obs}) = P((n_i,k_i) | \\text{VL}_\\text{true}; \\theta_\\text{obs}) P( (\\text{SPVL}_i^o, n - k) | \\text{VL}_\\text{true}; \\theta_\\text{obs}) $$\n",
    "\n",
    "For a given true viral load, the observations of (the log 10 of) that viral load would follow the normal distribution $\\text{Normal} (\\text{VL}_\\text{true}, \\sigma_\\text{noise}^2)$ if not for censoring and false negatives. Let $F_\\text{uncensored}$ be the CDF of this normal distribution without censoring.\n",
    "\n",
    "Then for the first term in the previous equation we have:\n",
    "\n",
    "$$ P((n_i,k_i) | \\text{VL}_\\text{true}; \\theta_\\text{obs}) = \\text{Binom}(n_i, P(\\text{undetectable} | \\text{VL}_\\text{true}; \\theta_\\text{obs})) (k_i) $$\n",
    "\n",
    "where the probability of an undetectable result is the probability that either we have a false negative or would-be measurement below 400 copies / mL. Given independence:\n",
    "\n",
    "$$P(\\text{undetectable} | \\text{VL}_\\text{true}; \\theta_\\text{obs}) = 1 - (1 - p_\\text{false negative}) (1 - F_\\text{uncensored}(\\log_{10} (\\text{LLD})))$$\n",
    "\n",
    "That resolves one term. For the second term, we need to know the probability that we observe an average value of $\\text{SPVL}^o_i$ across $n-k$ measurements, which weren't censored, given a true viral load $\\text{VL}_\\text{true}$ and a model $\\theta_\\text{obs}$. The outcome of one observation of a viral load given that it was not censored is a random variable, call it $X$, distributed as a half-truncated normal distribution. The probability in question is \n",
    "\n",
    "$$ P( (\\text{SPVL}_i^o, n - k) | \\text{VL}_\\text{true}; \\theta_\\text{obs}) = f_{\\frac{X + X + \\ldots + X}{n -k}} (\\text{SPVL}^o_i)\\\\\n",
    "X \\sim \\text{TruncatedNormal}(\\text{SPVL}^o_i, \\sigma_\\text{noise}, x \\in [\\log_{10} (\\text{LLD}), \\infty))$$\n",
    "\n",
    "ie the probability that the value of $n - k$ convolutions of $X$ produces $(n - k) \\cdot \\text{SPVL}^o_i$. To my knowledge this probability cannot be evaluated analytically, so we will numerically compute it.\n",
    "\n",
    "So in all:\n",
    "\n",
    "$$ \\mathcal{L} (\\mathcal{O}_i | \\theta ) = \\int_{\\text{VL}_\\text{true} = 0}^\\infty f_\\text{pop} (\\text{VL}_\\text{true}; \\theta_\\text{pop}) f_{\\frac{X + X + \\ldots + X}{n -k}} (\\text{SPVL}^o_i) \\text{Binom}(n_i, P(\\text{undetectable} | \\text{VL}_\\text{true}; \\theta_\\text{obs})) (k_i) d\\text{VL}_\\text{true}\\\\\n",
    "P(\\text{undetectable} | \\text{VL}_\\text{true}; \\theta_\\text{obs}) = 1 - (1 - p_\\text{false negative}) (1 - F_\\text{uncensored}(\\log_{10}(\\text{LLD})))$$"
   ]
  },
  {
   "cell_type": "code",
   "execution_count": 473,
   "metadata": {},
   "outputs": [],
   "source": [
    "from dataclasses import dataclass\n",
    "import scipy.integrate\n",
    "from scipy.stats import truncnorm\n",
    "from scipy.signal import convolve\n",
    "\n",
    "@dataclass()\n",
    "class ThetaObs():\n",
    "    p_false_negative: float\n",
    "    sigma_noise: float\n",
    "\n",
    "@dataclass()\n",
    "class ThetaPop():\n",
    "    q: float\n",
    "    mu_e: float\n",
    "    sigma_e: float\n",
    "    mu_o: float\n",
    "    sigma_o: float\n",
    "\n",
    "    def __post_init__(self):\n",
    "        self.pdf_e = norm(self.mu_e, self.sigma_e).pdf\n",
    "        self.pdf_o = norm(self.mu_o, self.sigma_o).pdf\n",
    "\n",
    "def build_convolution(spvl, sigma_noise, lld, n_detectable, delta=1e-4):\n",
    "    print(n_detectable)\n",
    "    if n_detectable == 0:\n",
    "        return lambda x: 1\n",
    "    # why not just LLD? see scipy documentation notes about truncation being based on std\n",
    "    t = truncnorm((lld - spvl)/sigma_noise, np.inf, loc=spvl, scale=sigma_noise)\n",
    "    if n_detectable == 1:\n",
    "        return t.pdf\n",
    "    # go 10 stds above mean to capture all probability\n",
    "    grid = np.arange(0, spvl * n_detectable + 10 * sigma_noise * n_detectable, delta)\n",
    "\n",
    "    # discretize the pdf of the truncated normal on this grid as a pmf\n",
    "    pmf = t.pdf(grid) * delta\n",
    "    #print(\"HERE:\", np.trapz(pmf, grid))\n",
    "    c = pmf.copy()\n",
    "    # n-1 because we start with our first convolution which happens when we have 2 observations\n",
    "    for i in range(n_detectable-1):\n",
    "        c = convolve(c, pmf, 'full')[0:len(grid)]\n",
    "        #print(np.trapz(c / delta, grid), max(c/delta), n_detectable)\n",
    "\n",
    "    # / delta to convert pmf back to --> pdf\n",
    "    c_pdf = c / delta\n",
    "\n",
    "    # only need to calculate convolution once per spvl, sigma_noise, lld, n_detectable\n",
    "    # and then can query x in constant time as a lookup\n",
    "    def query_convolution(x):\n",
    "        # converting from average to sum for the x=VL_true that we query:\n",
    "        x = x*n_detectable\n",
    "        \n",
    "        delta = (grid[1]-grid[0])\n",
    "        index_of_x = int(np.round(x / delta))\n",
    "        # if we are above the top of the grid, we'll say the probability is 0\n",
    "        # (the integrator may look up here, but the probability is truly infinitessimal)\n",
    "        if x > grid[-1]:\n",
    "            return 0\n",
    "\n",
    "        # the nearest value to x calculated in our big grid\n",
    "        # * n_detectable due to the change of variables x => n*x\n",
    "        return c_pdf[index_of_x] * n_detectable\n",
    "    return query_convolution\n",
    "\n",
    "# some day we can worry about vectorizing this, for now let's focus on step 1\n",
    "LLD = np.log10(400)\n",
    "\n",
    "def get_integrand(n_i, k_i, spvl_i, theta_obs, theta_pop):\n",
    "    f_pop = lambda x: theta_pop.q * theta_pop.pdf_e(x) + (1 - theta_pop.q) * theta_pop.pdf_o(x)\n",
    "    F_uncensored = lambda x: norm(x, theta_obs.sigma_noise).cdf(LLD)\n",
    "    p_undectable = lambda x: 1 - (1 - theta_obs.p_false_negative) * (1 - F_uncensored(x))\n",
    "    f_binom = lambda x: binom(n_i, p_undectable(x)).pmf(k_i)\n",
    "    f_conv = build_convolution(spvl_i, theta_obs.sigma_noise, LLD, n_i - k_i)\n",
    "    def integrand(x):\n",
    "        return f_conv(x) * f_binom(x) * f_pop(x)\n",
    "    def verbose_integrand(x):\n",
    "        f_c = f_conv(x)\n",
    "        f_b = f_binom(x)\n",
    "        f_p = f_pop(x)\n",
    "        return f_c * f_b * f_p, f_c, f_b, f_p\n",
    "    return integrand, verbose_integrand\n",
    "\n",
    "def logl_i(n_i, k_i, spvl_i, theta_obs, theta_pop):\n",
    "    integrand, _ = get_integrand(n_i, k_i, spvl_i, theta_obs, theta_pop)\n",
    "    return np.log(scipy.integrate.quad(integrand, 0.0, np.inf, limit=50)[0])"
   ]
  },
  {
   "cell_type": "code",
   "execution_count": 474,
   "metadata": {},
   "outputs": [],
   "source": [
    "theta_obs = ThetaObs(0.0206, 0.25)\n",
    "theta_pop = ThetaPop(0.07, np.log10(50), 0.1, 4.1, 0.9036287353551126)"
   ]
  },
  {
   "cell_type": "code",
   "execution_count": 475,
   "metadata": {},
   "outputs": [
    {
     "data": {
      "text/plain": [
       "(5, 1, 3.085649001)"
      ]
     },
     "execution_count": 475,
     "metadata": {},
     "output_type": "execute_result"
    }
   ],
   "source": [
    "row = df.iloc[0]\n",
    "row['n.vl'], row['n.vl'] - row['n.vl.ur'], row['spvl.ur']"
   ]
  },
  {
   "cell_type": "code",
   "execution_count": 476,
   "metadata": {},
   "outputs": [
    {
     "name": "stdout",
     "output_type": "stream",
     "text": [
      "4\n"
     ]
    }
   ],
   "source": [
    "_, f = get_integrand(row['n.vl'], row['n.vl'] - row['n.vl.ur'], row['spvl.ur'], theta_obs, theta_pop)\n",
    "\n",
    "x = np.linspace(0, 6.0, 100)\n",
    "y = [f(x) for x in x]"
   ]
  },
  {
   "cell_type": "code",
   "execution_count": 477,
   "metadata": {},
   "outputs": [],
   "source": [
    "integrand, f_c, f_b, f_p = zip(*y)"
   ]
  },
  {
   "cell_type": "code",
   "execution_count": 478,
   "metadata": {},
   "outputs": [
    {
     "name": "stdout",
     "output_type": "stream",
     "text": [
      "4\n",
      "<function build_convolution.<locals>.query_convolution at 0x2cfa25240>\n"
     ]
    }
   ],
   "source": [
    "z = build_convolution(row['spvl.ur'], theta_obs.sigma_noise, LLD, 4)\n",
    "print(z)\n",
    "x2 = np.linspace(0.0, 6.0, 10000)"
   ]
  },
  {
   "cell_type": "code",
   "execution_count": 479,
   "metadata": {},
   "outputs": [
    {
     "name": "stdout",
     "output_type": "stream",
     "text": [
      "1\n",
      "2\n",
      "3\n",
      "4\n"
     ]
    },
    {
     "data": {
      "text/plain": [
       "[<matplotlib.lines.Line2D at 0x17ec019c0>]"
      ]
     },
     "execution_count": 479,
     "metadata": {},
     "output_type": "execute_result"
    },
    {
     "data": {
      "image/png": "[encoded data removed]",
      "text/plain": [
       "<Figure size 640x480 with 1 Axes>"
      ]
     },
     "metadata": {},
     "output_type": "display_data"
    }
   ],
   "source": [
    "z1 = build_convolution(row['spvl.ur'], theta_obs.sigma_noise, LLD, 1)\n",
    "z2 = build_convolution(row['spvl.ur'], theta_obs.sigma_noise, LLD, 2)\n",
    "z3 = build_convolution(row['spvl.ur'], theta_obs.sigma_noise, LLD, 3)\n",
    "z4 = build_convolution(row['spvl.ur'], theta_obs.sigma_noise, LLD, 4)\n",
    "\n",
    "\n",
    "plt.plot(x2, [z1(a) for a in x2])\n",
    "plt.plot(x2, [z2(a) for a in x2])\n",
    "plt.plot(x2, [z3(a) for a in x2])\n",
    "plt.plot(x2, [z4(a) for a in x2])\n"
   ]
  },
  {
   "cell_type": "code",
   "execution_count": 480,
   "metadata": {},
   "outputs": [
    {
     "data": {
      "text/plain": [
       "[<matplotlib.lines.Line2D at 0x2a9f92500>]"
      ]
     },
     "execution_count": 480,
     "metadata": {},
     "output_type": "execute_result"
    },
    {
     "data": {
      "image/png": "[encoded data removed]",
      "text/plain": [
       "<Figure size 640x480 with 1 Axes>"
      ]
     },
     "metadata": {},
     "output_type": "display_data"
    }
   ],
   "source": [
    "plt.plot(x, y)\n",
    "plt.plot(x2, [z(a) for a in x2])"
   ]
  },
  {
   "cell_type": "code",
   "execution_count": 471,
   "metadata": {},
   "outputs": [
    {
     "name": "stdout",
     "output_type": "stream",
     "text": [
      "4\n",
      "1.0000050456787528 1.1835228798007713 4\n",
      "1.0000075685276766 0.9732528685600189 4\n",
      "1.0000100913829655 0.8456532685039997 4\n"
     ]
    },
    {
     "name": "stderr",
     "output_type": "stream",
     "text": [
      "/var/folders/sv/t8bxbx_j571g94rv2ngmvx3m0000gn/T/ipykernel_16399/3351697812.py:84: IntegrationWarning: The occurrence of roundoff error is detected, which prevents \n",
      "  the requested tolerance from being achieved.  The error may be \n",
      "  underestimated.\n",
      "  return np.log(scipy.integrate.quad(integrand, 0.0, np.inf, limit=50)[0])\n"
     ]
    },
    {
     "data": {
      "text/plain": [
       "-3.1532219848468475"
      ]
     },
     "execution_count": 471,
     "metadata": {},
     "output_type": "execute_result"
    }
   ],
   "source": [
    "# when integrating between 2 and 3 get roundoff error, seems to maybe be the culprit for evaluating the full integral?\n",
    "# same deal between 3 and 4\n",
    "# but <2 and >4 no problems\n",
    "\n",
    "# maybe numerical trouble is because the convolution pdf is only evaluated on a particular scale, the integrator is having trouble as it tries to traverse x values at a very fine scale because the pdf is discretized\n",
    "logl_i(row['n.vl'], row['n.vl'] - row['n.vl.ur'], row['spvl.ur'], theta_obs, theta_pop)"
   ]
  },
  {
   "cell_type": "code",
   "execution_count": 379,
   "metadata": {},
   "outputs": [
    {
     "name": "stdout",
     "output_type": "stream",
     "text": [
      "1.0000100913829655 0.8456532685039997 4\n"
     ]
    },
    {
     "name": "stderr",
     "output_type": "stream",
     "text": [
      "/var/folders/sv/t8bxbx_j571g94rv2ngmvx3m0000gn/T/ipykernel_16399/538540619.py:82: IntegrationWarning: The maximum number of subdivisions (50) has been achieved.\n",
      "  If increasing the limit yields no improvement it is advised to analyze \n",
      "  the integrand in order to determine the difficulties.  If the position of a \n",
      "  local difficulty can be determined (singularity, discontinuity) one will \n",
      "  probably gain from splitting up the interval and calling the integrator \n",
      "  on the subranges.  Perhaps a special-purpose integrator should be used.\n",
      "  return np.log(scipy.integrate.quad(integrand, 0.0, np.inf, limit=50)[0])\n"
     ]
    },
    {
     "name": "stdout",
     "output_type": "stream",
     "text": [
      "1.0000000298032188 0.7137603891733025 5\n",
      "1.0000000000000013 0.6514700140817592 6\n",
      "1.0000000026263716 0.7978953753744238 4\n"
     ]
    },
    {
     "name": "stderr",
     "output_type": "stream",
     "text": [
      "/var/folders/sv/t8bxbx_j571g94rv2ngmvx3m0000gn/T/ipykernel_16399/538540619.py:82: IntegrationWarning: The occurrence of roundoff error is detected, which prevents \n",
      "  the requested tolerance from being achieved.  The error may be \n",
      "  underestimated.\n",
      "  return np.log(scipy.integrate.quad(integrand, 0.0, np.inf, limit=50)[0])\n"
     ]
    },
    {
     "name": "stdout",
     "output_type": "stream",
     "text": [
      "1.0000000026263716 0.7978953753744238 4\n",
      "1.0000000026263716 0.7978953753744238 4\n",
      "1.0000000000000004 0.7978845607445724 4\n",
      "1.0000000000000002 1.1283791670378591 2\n",
      "1.0000000000000113 0.6031440340157123 7\n",
      "1.0000000000000469 0.9213177310400004 3\n",
      "1.0000000000000002 0.6514700147276185 6\n",
      "1.0000062221956054 0.9640596438710428 3\n",
      "1.0000000000002567 0.7978845603721042 4\n",
      "1.0000000000000004 0.9213177318557672 3\n",
      "1.0000000000000004 0.9213177318557672 3\n",
      "1.0000024126815403 1.1530447093259584 2\n",
      "1.0000000000000004 1.1283791638290015 2\n",
      "1.0000000000000002 0.9213177292889903 3\n",
      "0.9999999999999998 0.9213177259742422 3\n",
      "0.9999999999999997 0.7136496450448891 5\n",
      "1.0000000000000024 0.4811424934368689 11\n",
      "1.0000000000000002 0.9213177316028118 3\n",
      "1.0000000472489197 0.9215854935725569 3\n",
      "1.0000000000000007 0.921317729451272 3\n",
      "1.0000000004017349 1.128381453864951 2\n",
      "0.9999999999999999 1.1283791593176127 2\n",
      "1.0000000000000004 0.7136496449261083 5\n",
      "1.0000000000000033 0.9213177290461296 3\n",
      "1.000001525987335 0.8053964677416343 4\n",
      "1.0000000000000004 0.9213177310050885 3\n",
      "1.0000000107432208 0.7979310574405906 4\n",
      "1.0000000000000004 0.9213177278815702 3\n",
      "1.0000000000000009 0.7978845599254997 4\n"
     ]
    },
    {
     "ename": "KeyboardInterrupt",
     "evalue": "",
     "output_type": "error",
     "traceback": [
      "\u001b[0;31m---------------------------------------------------------------------------\u001b[0m",
      "\u001b[0;31mKeyboardInterrupt\u001b[0m                         Traceback (most recent call last)",
      "Cell \u001b[0;32mIn[379], line 3\u001b[0m\n\u001b[1;32m      1\u001b[0m logl \u001b[38;5;241m=\u001b[39m []\n\u001b[1;32m      2\u001b[0m \u001b[38;5;28;01mfor\u001b[39;00m i,row \u001b[38;5;129;01min\u001b[39;00m df\u001b[38;5;241m.\u001b[39miterrows():\n\u001b[0;32m----> 3\u001b[0m     logl\u001b[38;5;241m.\u001b[39mappend(\u001b[43mlogl_i\u001b[49m\u001b[43m(\u001b[49m\u001b[43mrow\u001b[49m\u001b[43m[\u001b[49m\u001b[38;5;124;43m'\u001b[39;49m\u001b[38;5;124;43mn.vl\u001b[39;49m\u001b[38;5;124;43m'\u001b[39;49m\u001b[43m]\u001b[49m\u001b[43m,\u001b[49m\u001b[43m \u001b[49m\u001b[43mrow\u001b[49m\u001b[43m[\u001b[49m\u001b[38;5;124;43m'\u001b[39;49m\u001b[38;5;124;43mn.vl\u001b[39;49m\u001b[38;5;124;43m'\u001b[39;49m\u001b[43m]\u001b[49m\u001b[43m \u001b[49m\u001b[38;5;241;43m-\u001b[39;49m\u001b[43m \u001b[49m\u001b[43mrow\u001b[49m\u001b[43m[\u001b[49m\u001b[38;5;124;43m'\u001b[39;49m\u001b[38;5;124;43mn.vl.ur\u001b[39;49m\u001b[38;5;124;43m'\u001b[39;49m\u001b[43m]\u001b[49m\u001b[43m,\u001b[49m\u001b[43m \u001b[49m\u001b[43mrow\u001b[49m\u001b[43m[\u001b[49m\u001b[38;5;124;43m'\u001b[39;49m\u001b[38;5;124;43mspvl.ur\u001b[39;49m\u001b[38;5;124;43m'\u001b[39;49m\u001b[43m]\u001b[49m\u001b[43m,\u001b[49m\u001b[43m \u001b[49m\u001b[43mtheta_obs\u001b[49m\u001b[43m,\u001b[49m\u001b[43m \u001b[49m\u001b[43mtheta_pop\u001b[49m\u001b[43m)\u001b[49m)\n\u001b[1;32m      5\u001b[0m df[\u001b[38;5;124m'\u001b[39m\u001b[38;5;124mlogl\u001b[39m\u001b[38;5;124m'\u001b[39m] \u001b[38;5;241m=\u001b[39m logl\n",
      "Cell \u001b[0;32mIn[378], line 82\u001b[0m, in \u001b[0;36mlogl_i\u001b[0;34m(n_i, k_i, spvl_i, theta_obs, theta_pop)\u001b[0m\n\u001b[1;32m     80\u001b[0m \u001b[38;5;28;01mdef\u001b[39;00m \u001b[38;5;21mlogl_i\u001b[39m(n_i, k_i, spvl_i, theta_obs, theta_pop):\n\u001b[1;32m     81\u001b[0m     integrand, _ \u001b[38;5;241m=\u001b[39m get_integrand(n_i, k_i, spvl_i, theta_obs, theta_pop)\n\u001b[0;32m---> 82\u001b[0m     \u001b[38;5;28;01mreturn\u001b[39;00m np\u001b[38;5;241m.\u001b[39mlog(\u001b[43mscipy\u001b[49m\u001b[38;5;241;43m.\u001b[39;49m\u001b[43mintegrate\u001b[49m\u001b[38;5;241;43m.\u001b[39;49m\u001b[43mquad\u001b[49m\u001b[43m(\u001b[49m\u001b[43mintegrand\u001b[49m\u001b[43m,\u001b[49m\u001b[43m \u001b[49m\u001b[38;5;241;43m0.0\u001b[39;49m\u001b[43m,\u001b[49m\u001b[43m \u001b[49m\u001b[43mnp\u001b[49m\u001b[38;5;241;43m.\u001b[39;49m\u001b[43minf\u001b[49m\u001b[43m,\u001b[49m\u001b[43m \u001b[49m\u001b[43mlimit\u001b[49m\u001b[38;5;241;43m=\u001b[39;49m\u001b[38;5;241;43m50\u001b[39;49m\u001b[43m)\u001b[49m[\u001b[38;5;241m0\u001b[39m])\n",
      "File \u001b[0;32m~/develop/hiv-parameters/.venv/lib/python3.10/site-packages/scipy/integrate/_quadpack_py.py:464\u001b[0m, in \u001b[0;36mquad\u001b[0;34m(func, a, b, args, full_output, epsabs, epsrel, limit, points, weight, wvar, wopts, maxp1, limlst, complex_func)\u001b[0m\n\u001b[1;32m    461\u001b[0m     \u001b[38;5;28;01mreturn\u001b[39;00m retval\n\u001b[1;32m    463\u001b[0m \u001b[38;5;28;01mif\u001b[39;00m weight \u001b[38;5;129;01mis\u001b[39;00m \u001b[38;5;28;01mNone\u001b[39;00m:\n\u001b[0;32m--> 464\u001b[0m     retval \u001b[38;5;241m=\u001b[39m \u001b[43m_quad\u001b[49m\u001b[43m(\u001b[49m\u001b[43mfunc\u001b[49m\u001b[43m,\u001b[49m\u001b[43m \u001b[49m\u001b[43ma\u001b[49m\u001b[43m,\u001b[49m\u001b[43m \u001b[49m\u001b[43mb\u001b[49m\u001b[43m,\u001b[49m\u001b[43m \u001b[49m\u001b[43margs\u001b[49m\u001b[43m,\u001b[49m\u001b[43m \u001b[49m\u001b[43mfull_output\u001b[49m\u001b[43m,\u001b[49m\u001b[43m \u001b[49m\u001b[43mepsabs\u001b[49m\u001b[43m,\u001b[49m\u001b[43m \u001b[49m\u001b[43mepsrel\u001b[49m\u001b[43m,\u001b[49m\u001b[43m \u001b[49m\u001b[43mlimit\u001b[49m\u001b[43m,\u001b[49m\n\u001b[1;32m    465\u001b[0m \u001b[43m                   \u001b[49m\u001b[43mpoints\u001b[49m\u001b[43m)\u001b[49m\n\u001b[1;32m    466\u001b[0m \u001b[38;5;28;01melse\u001b[39;00m:\n\u001b[1;32m    467\u001b[0m     \u001b[38;5;28;01mif\u001b[39;00m points \u001b[38;5;129;01mis\u001b[39;00m \u001b[38;5;129;01mnot\u001b[39;00m \u001b[38;5;28;01mNone\u001b[39;00m:\n",
      "File \u001b[0;32m~/develop/hiv-parameters/.venv/lib/python3.10/site-packages/scipy/integrate/_quadpack_py.py:613\u001b[0m, in \u001b[0;36m_quad\u001b[0;34m(func, a, b, args, full_output, epsabs, epsrel, limit, points)\u001b[0m\n\u001b[1;32m    611\u001b[0m         \u001b[38;5;28;01mreturn\u001b[39;00m _quadpack\u001b[38;5;241m.\u001b[39m_qagse(func,a,b,args,full_output,epsabs,epsrel,limit)\n\u001b[1;32m    612\u001b[0m     \u001b[38;5;28;01melse\u001b[39;00m:\n\u001b[0;32m--> 613\u001b[0m         \u001b[38;5;28;01mreturn\u001b[39;00m \u001b[43m_quadpack\u001b[49m\u001b[38;5;241;43m.\u001b[39;49m\u001b[43m_qagie\u001b[49m\u001b[43m(\u001b[49m\u001b[43mfunc\u001b[49m\u001b[43m,\u001b[49m\u001b[43m \u001b[49m\u001b[43mbound\u001b[49m\u001b[43m,\u001b[49m\u001b[43m \u001b[49m\u001b[43minfbounds\u001b[49m\u001b[43m,\u001b[49m\u001b[43m \u001b[49m\u001b[43margs\u001b[49m\u001b[43m,\u001b[49m\u001b[43m \u001b[49m\u001b[43mfull_output\u001b[49m\u001b[43m,\u001b[49m\u001b[43m \u001b[49m\n\u001b[1;32m    614\u001b[0m \u001b[43m                                \u001b[49m\u001b[43mepsabs\u001b[49m\u001b[43m,\u001b[49m\u001b[43m \u001b[49m\u001b[43mepsrel\u001b[49m\u001b[43m,\u001b[49m\u001b[43m \u001b[49m\u001b[43mlimit\u001b[49m\u001b[43m)\u001b[49m\n\u001b[1;32m    615\u001b[0m \u001b[38;5;28;01melse\u001b[39;00m:\n\u001b[1;32m    616\u001b[0m     \u001b[38;5;28;01mif\u001b[39;00m infbounds \u001b[38;5;241m!=\u001b[39m \u001b[38;5;241m0\u001b[39m:\n",
      "Cell \u001b[0;32mIn[378], line 72\u001b[0m, in \u001b[0;36mget_integrand.<locals>.integrand\u001b[0;34m(x)\u001b[0m\n\u001b[1;32m     71\u001b[0m \u001b[38;5;28;01mdef\u001b[39;00m \u001b[38;5;21mintegrand\u001b[39m(x):\n\u001b[0;32m---> 72\u001b[0m     \u001b[38;5;28;01mreturn\u001b[39;00m f_conv(x) \u001b[38;5;241m*\u001b[39m \u001b[43mf_binom\u001b[49m\u001b[43m(\u001b[49m\u001b[43mx\u001b[49m\u001b[43m)\u001b[49m \u001b[38;5;241m*\u001b[39m f_pop(x)\n",
      "Cell \u001b[0;32mIn[378], line 69\u001b[0m, in \u001b[0;36mget_integrand.<locals>.<lambda>\u001b[0;34m(x)\u001b[0m\n\u001b[1;32m     67\u001b[0m F_uncensored \u001b[38;5;241m=\u001b[39m \u001b[38;5;28;01mlambda\u001b[39;00m x: norm(x, theta_obs\u001b[38;5;241m.\u001b[39msigma_noise)\u001b[38;5;241m.\u001b[39mcdf(LLD)\n\u001b[1;32m     68\u001b[0m p_undectable \u001b[38;5;241m=\u001b[39m \u001b[38;5;28;01mlambda\u001b[39;00m x: \u001b[38;5;241m1\u001b[39m \u001b[38;5;241m-\u001b[39m (\u001b[38;5;241m1\u001b[39m \u001b[38;5;241m-\u001b[39m theta_obs\u001b[38;5;241m.\u001b[39mp_false_negative) \u001b[38;5;241m*\u001b[39m (\u001b[38;5;241m1\u001b[39m \u001b[38;5;241m-\u001b[39m F_uncensored(x))\n\u001b[0;32m---> 69\u001b[0m f_binom \u001b[38;5;241m=\u001b[39m \u001b[38;5;28;01mlambda\u001b[39;00m x: binom(n_i, \u001b[43mp_undectable\u001b[49m\u001b[43m(\u001b[49m\u001b[43mx\u001b[49m\u001b[43m)\u001b[49m)\u001b[38;5;241m.\u001b[39mpmf(k_i)\n\u001b[1;32m     70\u001b[0m f_conv \u001b[38;5;241m=\u001b[39m build_convolution(spvl_i, theta_obs\u001b[38;5;241m.\u001b[39msigma_noise, LLD, n_i \u001b[38;5;241m-\u001b[39m k_i)\n\u001b[1;32m     71\u001b[0m \u001b[38;5;28;01mdef\u001b[39;00m \u001b[38;5;21mintegrand\u001b[39m(x):\n",
      "Cell \u001b[0;32mIn[378], line 68\u001b[0m, in \u001b[0;36mget_integrand.<locals>.<lambda>\u001b[0;34m(x)\u001b[0m\n\u001b[1;32m     66\u001b[0m f_pop \u001b[38;5;241m=\u001b[39m \u001b[38;5;28;01mlambda\u001b[39;00m x: theta_pop\u001b[38;5;241m.\u001b[39mq \u001b[38;5;241m*\u001b[39m theta_pop\u001b[38;5;241m.\u001b[39mpdf_e(x) \u001b[38;5;241m+\u001b[39m (\u001b[38;5;241m1\u001b[39m \u001b[38;5;241m-\u001b[39m theta_pop\u001b[38;5;241m.\u001b[39mq) \u001b[38;5;241m*\u001b[39m theta_pop\u001b[38;5;241m.\u001b[39mpdf_o(x)\n\u001b[1;32m     67\u001b[0m F_uncensored \u001b[38;5;241m=\u001b[39m \u001b[38;5;28;01mlambda\u001b[39;00m x: norm(x, theta_obs\u001b[38;5;241m.\u001b[39msigma_noise)\u001b[38;5;241m.\u001b[39mcdf(LLD)\n\u001b[0;32m---> 68\u001b[0m p_undectable \u001b[38;5;241m=\u001b[39m \u001b[38;5;28;01mlambda\u001b[39;00m x: \u001b[38;5;241m1\u001b[39m \u001b[38;5;241m-\u001b[39m (\u001b[38;5;241m1\u001b[39m \u001b[38;5;241m-\u001b[39m theta_obs\u001b[38;5;241m.\u001b[39mp_false_negative) \u001b[38;5;241m*\u001b[39m (\u001b[38;5;241m1\u001b[39m \u001b[38;5;241m-\u001b[39m \u001b[43mF_uncensored\u001b[49m\u001b[43m(\u001b[49m\u001b[43mx\u001b[49m\u001b[43m)\u001b[49m)\n\u001b[1;32m     69\u001b[0m f_binom \u001b[38;5;241m=\u001b[39m \u001b[38;5;28;01mlambda\u001b[39;00m x: binom(n_i, p_undectable(x))\u001b[38;5;241m.\u001b[39mpmf(k_i)\n\u001b[1;32m     70\u001b[0m f_conv \u001b[38;5;241m=\u001b[39m build_convolution(spvl_i, theta_obs\u001b[38;5;241m.\u001b[39msigma_noise, LLD, n_i \u001b[38;5;241m-\u001b[39m k_i)\n",
      "Cell \u001b[0;32mIn[378], line 67\u001b[0m, in \u001b[0;36mget_integrand.<locals>.<lambda>\u001b[0;34m(x)\u001b[0m\n\u001b[1;32m     65\u001b[0m \u001b[38;5;28;01mdef\u001b[39;00m \u001b[38;5;21mget_integrand\u001b[39m(n_i, k_i, spvl_i, theta_obs, theta_pop):\n\u001b[1;32m     66\u001b[0m     f_pop \u001b[38;5;241m=\u001b[39m \u001b[38;5;28;01mlambda\u001b[39;00m x: theta_pop\u001b[38;5;241m.\u001b[39mq \u001b[38;5;241m*\u001b[39m theta_pop\u001b[38;5;241m.\u001b[39mpdf_e(x) \u001b[38;5;241m+\u001b[39m (\u001b[38;5;241m1\u001b[39m \u001b[38;5;241m-\u001b[39m theta_pop\u001b[38;5;241m.\u001b[39mq) \u001b[38;5;241m*\u001b[39m theta_pop\u001b[38;5;241m.\u001b[39mpdf_o(x)\n\u001b[0;32m---> 67\u001b[0m     F_uncensored \u001b[38;5;241m=\u001b[39m \u001b[38;5;28;01mlambda\u001b[39;00m x: \u001b[43mnorm\u001b[49m\u001b[43m(\u001b[49m\u001b[43mx\u001b[49m\u001b[43m,\u001b[49m\u001b[43m \u001b[49m\u001b[43mtheta_obs\u001b[49m\u001b[38;5;241;43m.\u001b[39;49m\u001b[43msigma_noise\u001b[49m\u001b[43m)\u001b[49m\u001b[38;5;241m.\u001b[39mcdf(LLD)\n\u001b[1;32m     68\u001b[0m     p_undectable \u001b[38;5;241m=\u001b[39m \u001b[38;5;28;01mlambda\u001b[39;00m x: \u001b[38;5;241m1\u001b[39m \u001b[38;5;241m-\u001b[39m (\u001b[38;5;241m1\u001b[39m \u001b[38;5;241m-\u001b[39m theta_obs\u001b[38;5;241m.\u001b[39mp_false_negative) \u001b[38;5;241m*\u001b[39m (\u001b[38;5;241m1\u001b[39m \u001b[38;5;241m-\u001b[39m F_uncensored(x))\n\u001b[1;32m     69\u001b[0m     f_binom \u001b[38;5;241m=\u001b[39m \u001b[38;5;28;01mlambda\u001b[39;00m x: binom(n_i, p_undectable(x))\u001b[38;5;241m.\u001b[39mpmf(k_i)\n",
      "File \u001b[0;32m~/develop/hiv-parameters/.venv/lib/python3.10/site-packages/scipy/stats/_distn_infrastructure.py:851\u001b[0m, in \u001b[0;36mrv_generic.__call__\u001b[0;34m(self, *args, **kwds)\u001b[0m\n\u001b[1;32m    850\u001b[0m \u001b[38;5;28;01mdef\u001b[39;00m \u001b[38;5;21m__call__\u001b[39m(\u001b[38;5;28mself\u001b[39m, \u001b[38;5;241m*\u001b[39margs, \u001b[38;5;241m*\u001b[39m\u001b[38;5;241m*\u001b[39mkwds):\n\u001b[0;32m--> 851\u001b[0m     \u001b[38;5;28;01mreturn\u001b[39;00m \u001b[38;5;28;43mself\u001b[39;49m\u001b[38;5;241;43m.\u001b[39;49m\u001b[43mfreeze\u001b[49m\u001b[43m(\u001b[49m\u001b[38;5;241;43m*\u001b[39;49m\u001b[43margs\u001b[49m\u001b[43m,\u001b[49m\u001b[43m \u001b[49m\u001b[38;5;241;43m*\u001b[39;49m\u001b[38;5;241;43m*\u001b[39;49m\u001b[43mkwds\u001b[49m\u001b[43m)\u001b[49m\n",
      "File \u001b[0;32m~/develop/hiv-parameters/.venv/lib/python3.10/site-packages/scipy/stats/_distn_infrastructure.py:846\u001b[0m, in \u001b[0;36mrv_generic.freeze\u001b[0;34m(self, *args, **kwds)\u001b[0m\n\u001b[1;32m    831\u001b[0m \u001b[38;5;250m\u001b[39m\u001b[38;5;124;03m\"\"\"Freeze the distribution for the given arguments.\u001b[39;00m\n\u001b[1;32m    832\u001b[0m \n\u001b[1;32m    833\u001b[0m \u001b[38;5;124;03mParameters\u001b[39;00m\n\u001b[0;32m   (...)\u001b[0m\n\u001b[1;32m    843\u001b[0m \n\u001b[1;32m    844\u001b[0m \u001b[38;5;124;03m\"\"\"\u001b[39;00m\n\u001b[1;32m    845\u001b[0m \u001b[38;5;28;01mif\u001b[39;00m \u001b[38;5;28misinstance\u001b[39m(\u001b[38;5;28mself\u001b[39m, rv_continuous):\n\u001b[0;32m--> 846\u001b[0m     \u001b[38;5;28;01mreturn\u001b[39;00m \u001b[43mrv_continuous_frozen\u001b[49m\u001b[43m(\u001b[49m\u001b[38;5;28;43mself\u001b[39;49m\u001b[43m,\u001b[49m\u001b[43m \u001b[49m\u001b[38;5;241;43m*\u001b[39;49m\u001b[43margs\u001b[49m\u001b[43m,\u001b[49m\u001b[43m \u001b[49m\u001b[38;5;241;43m*\u001b[39;49m\u001b[38;5;241;43m*\u001b[39;49m\u001b[43mkwds\u001b[49m\u001b[43m)\u001b[49m\n\u001b[1;32m    847\u001b[0m \u001b[38;5;28;01melse\u001b[39;00m:\n\u001b[1;32m    848\u001b[0m     \u001b[38;5;28;01mreturn\u001b[39;00m rv_discrete_frozen(\u001b[38;5;28mself\u001b[39m, \u001b[38;5;241m*\u001b[39margs, \u001b[38;5;241m*\u001b[39m\u001b[38;5;241m*\u001b[39mkwds)\n",
      "File \u001b[0;32m~/develop/hiv-parameters/.venv/lib/python3.10/site-packages/scipy/stats/_distn_infrastructure.py:465\u001b[0m, in \u001b[0;36mrv_frozen.__init__\u001b[0;34m(self, dist, *args, **kwds)\u001b[0m\n\u001b[1;32m    462\u001b[0m \u001b[38;5;28mself\u001b[39m\u001b[38;5;241m.\u001b[39mkwds \u001b[38;5;241m=\u001b[39m kwds\n\u001b[1;32m    464\u001b[0m \u001b[38;5;66;03m# create a new instance\u001b[39;00m\n\u001b[0;32m--> 465\u001b[0m \u001b[38;5;28mself\u001b[39m\u001b[38;5;241m.\u001b[39mdist \u001b[38;5;241m=\u001b[39m \u001b[43mdist\u001b[49m\u001b[38;5;241;43m.\u001b[39;49m\u001b[38;5;18;43m__class__\u001b[39;49m\u001b[43m(\u001b[49m\u001b[38;5;241;43m*\u001b[39;49m\u001b[38;5;241;43m*\u001b[39;49m\u001b[43mdist\u001b[49m\u001b[38;5;241;43m.\u001b[39;49m\u001b[43m_updated_ctor_param\u001b[49m\u001b[43m(\u001b[49m\u001b[43m)\u001b[49m\u001b[43m)\u001b[49m\n\u001b[1;32m    467\u001b[0m shapes, _, _ \u001b[38;5;241m=\u001b[39m \u001b[38;5;28mself\u001b[39m\u001b[38;5;241m.\u001b[39mdist\u001b[38;5;241m.\u001b[39m_parse_args(\u001b[38;5;241m*\u001b[39margs, \u001b[38;5;241m*\u001b[39m\u001b[38;5;241m*\u001b[39mkwds)\n\u001b[1;32m    468\u001b[0m \u001b[38;5;28mself\u001b[39m\u001b[38;5;241m.\u001b[39ma, \u001b[38;5;28mself\u001b[39m\u001b[38;5;241m.\u001b[39mb \u001b[38;5;241m=\u001b[39m \u001b[38;5;28mself\u001b[39m\u001b[38;5;241m.\u001b[39mdist\u001b[38;5;241m.\u001b[39m_get_support(\u001b[38;5;241m*\u001b[39mshapes)\n",
      "File \u001b[0;32m~/develop/hiv-parameters/.venv/lib/python3.10/site-packages/scipy/stats/_distn_infrastructure.py:1848\u001b[0m, in \u001b[0;36mrv_continuous.__init__\u001b[0;34m(self, momtype, a, b, xtol, badvalue, name, longname, shapes, seed)\u001b[0m\n\u001b[1;32m   1846\u001b[0m \u001b[38;5;28;01melse\u001b[39;00m:\n\u001b[1;32m   1847\u001b[0m     dct \u001b[38;5;241m=\u001b[39m \u001b[38;5;28mdict\u001b[39m(distcont)\n\u001b[0;32m-> 1848\u001b[0m     \u001b[38;5;28;43mself\u001b[39;49m\u001b[38;5;241;43m.\u001b[39;49m\u001b[43m_construct_doc\u001b[49m\u001b[43m(\u001b[49m\u001b[43mdocdict\u001b[49m\u001b[43m,\u001b[49m\u001b[43m \u001b[49m\u001b[43mdct\u001b[49m\u001b[38;5;241;43m.\u001b[39;49m\u001b[43mget\u001b[49m\u001b[43m(\u001b[49m\u001b[38;5;28;43mself\u001b[39;49m\u001b[38;5;241;43m.\u001b[39;49m\u001b[43mname\u001b[49m\u001b[43m)\u001b[49m\u001b[43m)\u001b[49m\n",
      "File \u001b[0;32m~/develop/hiv-parameters/.venv/lib/python3.10/site-packages/scipy/stats/_distn_infrastructure.py:812\u001b[0m, in \u001b[0;36mrv_generic._construct_doc\u001b[0;34m(self, docdict, shapes_vals)\u001b[0m\n\u001b[1;32m    810\u001b[0m     \u001b[38;5;28mself\u001b[39m\u001b[38;5;241m.\u001b[39m\u001b[38;5;18m__doc__\u001b[39m \u001b[38;5;241m=\u001b[39m \u001b[38;5;28mself\u001b[39m\u001b[38;5;241m.\u001b[39m\u001b[38;5;18m__doc__\u001b[39m\u001b[38;5;241m.\u001b[39mreplace(\u001b[38;5;124m\"\u001b[39m\u001b[38;5;132;01m%(shapes)s\u001b[39;00m\u001b[38;5;124m, \u001b[39m\u001b[38;5;124m\"\u001b[39m, \u001b[38;5;124m\"\u001b[39m\u001b[38;5;124m\"\u001b[39m)\n\u001b[1;32m    811\u001b[0m \u001b[38;5;28;01mtry\u001b[39;00m:\n\u001b[0;32m--> 812\u001b[0m     \u001b[38;5;28mself\u001b[39m\u001b[38;5;241m.\u001b[39m\u001b[38;5;18m__doc__\u001b[39m \u001b[38;5;241m=\u001b[39m \u001b[43mdoccer\u001b[49m\u001b[38;5;241;43m.\u001b[39;49m\u001b[43mdocformat\u001b[49m\u001b[43m(\u001b[49m\u001b[38;5;28;43mself\u001b[39;49m\u001b[38;5;241;43m.\u001b[39;49m\u001b[38;5;18;43m__doc__\u001b[39;49m\u001b[43m,\u001b[49m\u001b[43m \u001b[49m\u001b[43mtempdict\u001b[49m\u001b[43m)\u001b[49m\n\u001b[1;32m    813\u001b[0m \u001b[38;5;28;01mexcept\u001b[39;00m \u001b[38;5;167;01mTypeError\u001b[39;00m \u001b[38;5;28;01mas\u001b[39;00m e:\n\u001b[1;32m    814\u001b[0m     \u001b[38;5;28;01mraise\u001b[39;00m \u001b[38;5;167;01mException\u001b[39;00m(\u001b[38;5;124m\"\u001b[39m\u001b[38;5;124mUnable to construct docstring for \u001b[39m\u001b[38;5;124m\"\u001b[39m\n\u001b[1;32m    815\u001b[0m                     \u001b[38;5;124mf\u001b[39m\u001b[38;5;124m\"\u001b[39m\u001b[38;5;124mdistribution \u001b[39m\u001b[38;5;130;01m\\\"\u001b[39;00m\u001b[38;5;132;01m{\u001b[39;00m\u001b[38;5;28mself\u001b[39m\u001b[38;5;241m.\u001b[39mname\u001b[38;5;132;01m}\u001b[39;00m\u001b[38;5;130;01m\\\"\u001b[39;00m\u001b[38;5;124m: \u001b[39m\u001b[38;5;132;01m{\u001b[39;00m\u001b[38;5;28mrepr\u001b[39m(e)\u001b[38;5;132;01m}\u001b[39;00m\u001b[38;5;124m\"\u001b[39m) \u001b[38;5;28;01mfrom\u001b[39;00m \u001b[38;5;21;01me\u001b[39;00m\n",
      "File \u001b[0;32m~/develop/hiv-parameters/.venv/lib/python3.10/site-packages/scipy/_lib/doccer.py:61\u001b[0m, in \u001b[0;36mdocformat\u001b[0;34m(docstring, docdict)\u001b[0m\n\u001b[1;32m     59\u001b[0m indented \u001b[38;5;241m=\u001b[39m {}\n\u001b[1;32m     60\u001b[0m \u001b[38;5;28;01mfor\u001b[39;00m name, dstr \u001b[38;5;129;01min\u001b[39;00m docdict\u001b[38;5;241m.\u001b[39mitems():\n\u001b[0;32m---> 61\u001b[0m     lines \u001b[38;5;241m=\u001b[39m \u001b[43mdstr\u001b[49m\u001b[38;5;241;43m.\u001b[39;49m\u001b[43mexpandtabs\u001b[49m\u001b[43m(\u001b[49m\u001b[43m)\u001b[49m\u001b[38;5;241m.\u001b[39msplitlines()\n\u001b[1;32m     62\u001b[0m     \u001b[38;5;28;01mtry\u001b[39;00m:\n\u001b[1;32m     63\u001b[0m         newlines \u001b[38;5;241m=\u001b[39m [lines[\u001b[38;5;241m0\u001b[39m]]\n",
      "\u001b[0;31mKeyboardInterrupt\u001b[0m: "
     ]
    }
   ],
   "source": [
    "logl = []\n",
    "for i,row in df.iterrows():\n",
    "    logl.append(logl_i(row['n.vl'], row['n.vl'] - row['n.vl.ur'], row['spvl.ur'], theta_obs, theta_pop))\n",
    "\n",
    "df['logl'] = logl"
   ]
  },
  {
   "cell_type": "markdown",
   "metadata": {},
   "source": [
    "### How to numerically evaluate $m$ convolutions of a truncated normal"
   ]
  },
  {
   "cell_type": "code",
   "execution_count": 207,
   "metadata": {},
   "outputs": [
    {
     "data": {
      "text/plain": [
       "[<matplotlib.lines.Line2D at 0x29f5adfc0>]"
      ]
     },
     "execution_count": 207,
     "metadata": {},
     "output_type": "execute_result"
    },
    {
     "data": {
      "image/png": "[encoded data removed]",
      "text/plain": [
       "<Figure size 640x480 with 1 Axes>"
      ]
     },
     "metadata": {},
     "output_type": "display_data"
    }
   ],
   "source": [
    "import matplotlib.pyplot as plt\n",
    "from scipy.stats import truncnorm\n",
    "\n",
    "# Note from the scipy documentation, the a and b parameters to truncnorm\n",
    "# are not the x coordinates of truncation, but the left and right STDs of truncation\n",
    "# if we want to truncate at x_left = a_trunc and x_right = b_trunc then this formula converts:\n",
    "# a, b = (a_trunc - loc) / scale, (b_trunc - loc) / scale\n",
    "# where loc = mean and scale = std\n",
    "# https://docs.scipy.org/doc/scipy/reference/generated/scipy.stats.truncnorm.html\n",
    "\n",
    "x = np.linspace(0.0, 12, 200)\n",
    "mean = 4.0\n",
    "std = 1.0\n",
    "t = truncnorm((np.log10(400) - mean)/std, np.inf, loc=mean, scale=std)\n",
    "\n",
    "plt.plot(x, t.pdf(x))"
   ]
  },
  {
   "cell_type": "code",
   "execution_count": 193,
   "metadata": {},
   "outputs": [],
   "source": [
    "from scipy.signal import convolve\n",
    "\n",
    "def f_convolution(x, spvl, sigma_noise, lld, n_detectable, delta=1e-4):\n",
    "    if n_detectable == 0:\n",
    "        return 1\n",
    "    \n",
    "    # why not just LLD? see scipy documentation notes about truncation being based on std\n",
    "    t = truncnorm((lld - spvl)/std, np.inf, loc=spvl, scale=sigma_noise)\n",
    "\n",
    "    if n_detectable == 1:\n",
    "        return t.pdf(x)\n",
    "    \n",
    "    # go 10 stds above mean to capture all probability\n",
    "    grid = np.arange(0, spvl + 10 * sigma_noise * n_detectable, delta)\n",
    "    # discretize the pdf of the truncated normal on this grid as a pmf\n",
    "    pmf = t.pdf(grid) * delta\n",
    "    print(np.trapz(pmf, grid))\n",
    "    c = pmf.copy()\n",
    "    # n-1 because we start with our first convolution which happens when we have 2 observations\n",
    "    for i in range(n_detectable-1):\n",
    "        c = convolve(c, pmf, 'full')[0:len(grid)]\n",
    "\n",
    "    print(np.trapz(c / delta, grid))\n",
    "    # the nearest value to x calculated in our big grid\n",
    "    index_of_x = int(np.round(x / delta))\n",
    "    return c[index_of_x] / delta, c / delta, pmf / delta, grid"
   ]
  },
  {
   "cell_type": "code",
   "execution_count": 273,
   "metadata": {},
   "outputs": [
    {
     "name": "stdout",
     "output_type": "stream",
     "text": [
      "0.0 46.1938\n"
     ]
    },
    {
     "ename": "TypeError",
     "evalue": "cannot unpack non-iterable int object",
     "output_type": "error",
     "traceback": [
      "\u001b[0;31m---------------------------------------------------------------------------\u001b[0m",
      "\u001b[0;31mTypeError\u001b[0m                                 Traceback (most recent call last)",
      "Cell \u001b[0;32mIn[273], line 1\u001b[0m\n\u001b[0;32m----> 1\u001b[0m p, c_pmf, original_pmf, grid \u001b[38;5;241m=\u001b[39m f_convolution(np\u001b[38;5;241m.\u001b[39mlog10(\u001b[38;5;241m500\u001b[39m)\u001b[38;5;241m*\u001b[39m\u001b[38;5;241m3\u001b[39m, np\u001b[38;5;241m.\u001b[39mlog10(\u001b[38;5;241m500\u001b[39m), \u001b[38;5;241m0.5\u001b[39m, np\u001b[38;5;241m.\u001b[39mlog10(\u001b[38;5;241m400\u001b[39m), \u001b[38;5;241m6\u001b[39m)\n",
      "\u001b[0;31mTypeError\u001b[0m: cannot unpack non-iterable int object"
     ]
    }
   ],
   "source": [
    "p, c_pmf, original_pmf, grid = f_convolution(np.log10(500)*3, np.log10(500), 0.5, np.log10(400), 6)"
   ]
  },
  {
   "cell_type": "code",
   "execution_count": 203,
   "metadata": {},
   "outputs": [
    {
     "data": {
      "text/plain": [
       "0.03405438402051446"
      ]
     },
     "execution_count": 203,
     "metadata": {},
     "output_type": "execute_result"
    }
   ],
   "source": [
    "p"
   ]
  },
  {
   "cell_type": "code",
   "execution_count": 192,
   "metadata": {},
   "outputs": [
    {
     "data": {
      "text/plain": [
       "[<matplotlib.lines.Line2D at 0x29f3ecc40>]"
      ]
     },
     "execution_count": 192,
     "metadata": {},
     "output_type": "execute_result"
    },
    {
     "data": {
      "image/png": "[encoded data removed]",
      "text/plain": [
       "<Figure size 640x480 with 1 Axes>"
      ]
     },
     "metadata": {},
     "output_type": "display_data"
    }
   ],
   "source": [
    "plt.plot(grid, c_pmf)\n",
    "plt.plot(grid, original_pmf)"
   ]
  },
  {
   "cell_type": "markdown",
   "metadata": {},
   "source": [
    "$$ P(Z = z) = \\sum_{k=-\\infty}^\\infty P(X = k) P(Y= z-k)"
   ]
  },
  {
   "cell_type": "code",
   "execution_count": 138,
   "metadata": {},
   "outputs": [
    {
     "data": {
      "text/plain": [
       "8.913267608338033e-05"
      ]
     },
     "execution_count": 138,
     "metadata": {},
     "output_type": "execute_result"
    }
   ],
   "source": [
    "c[int(np.round(2/delta))]"
   ]
  },
  {
   "cell_type": "code",
   "execution_count": 158,
   "metadata": {},
   "outputs": [
    {
     "data": {
      "text/plain": [
       "array([ 0,  0,  1,  4, 10, 12,  9])"
      ]
     },
     "execution_count": 158,
     "metadata": {},
     "output_type": "execute_result"
    }
   ],
   "source": [
    "x = [0,1,2,3]\n",
    "#   [3,2,1,0]\n",
    "\n",
    "# there are 4 + 3 places to put the endpoint of the reversed array\n",
    "np.convolve(x,x)"
   ]
  },
  {
   "cell_type": "code",
   "execution_count": 156,
   "metadata": {},
   "outputs": [
    {
     "data": {
      "text/plain": [
       "array([  0,   0,   0,   0,   0,   0,   1,   4,  10,  20,  35,  56,  84,\n",
       "       120, 165, 220, 286, 364, 429, 480, 516, 536, 539, 524, 490, 436,\n",
       "       361, 264, 144])"
      ]
     },
     "execution_count": 156,
     "metadata": {},
     "output_type": "execute_result"
    }
   ],
   "source": [
    "x = [0,1,2,3,4,5,6,7,8,9,10,11,12,13,14]\n",
    "A = [0,0,0,1,2,3,4,5,6,7 ,8 ,9,10,11,12] # [0,0,0,1,2] \n",
    "np.convolve(A, A, mode='full')\n",
    "\n",
    "# the sum of the indices is constant at each slot in the convolution and gives z\n",
    "# so the 0th entry of the full convolution is z=0\n",
    "# the 1st entry of the full convolution is z=1\n",
    "# the last entry of the full convolution is z = 2*n - 1"
   ]
  },
  {
   "cell_type": "code",
   "execution_count": null,
   "metadata": {},
   "outputs": [],
   "source": [
    "# our question is what x values correspond to the values of the convolved arrays"
   ]
  },
  {
   "cell_type": "code",
   "execution_count": 153,
   "metadata": {},
   "outputs": [
    {
     "data": {
      "text/plain": [
       "array([  4,  10,  20,  35,  56,  84, 120, 165, 220, 286, 364, 429, 480,\n",
       "       516, 536])"
      ]
     },
     "execution_count": 153,
     "metadata": {},
     "output_type": "execute_result"
    }
   ],
   "source": [
    "np.convolve(A, A, mode='same')"
   ]
  },
  {
   "cell_type": "code",
   "execution_count": null,
   "metadata": {},
   "outputs": [],
   "source": []
  }
 ],
 "metadata": {
  "kernelspec": {
   "display_name": ".venv",
   "language": "python",
   "name": "python3"
  },
  "language_info": {
   "codemirror_mode": {
    "name": "ipython",
    "version": 3
   },
   "file_extension": ".py",
   "mimetype": "text/x-python",
   "name": "python",
   "nbconvert_exporter": "python",
   "pygments_lexer": "ipython3",
   "version": "3.10.13"
  }
 },
 "nbformat": 4,
 "nbformat_minor": 2
}
