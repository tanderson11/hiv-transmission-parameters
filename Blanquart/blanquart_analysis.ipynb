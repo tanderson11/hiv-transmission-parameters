{
 "cells": [
  {
   "cell_type": "code",
   "execution_count": 7,
   "metadata": {},
   "outputs": [],
   "source": [
    "import pandas as pd\n",
    "import numpy as np"
   ]
  },
  {
   "cell_type": "code",
   "execution_count": 8,
   "metadata": {},
   "outputs": [],
   "source": [
    "df = pd.read_csv('blanquart.couples.for.fitting.all.columns.csv')\n",
    "df = df.set_index('Couple')"
   ]
  },
  {
   "cell_type": "code",
   "execution_count": 9,
   "metadata": {},
   "outputs": [
    {
     "data": {
      "text/html": [
       "<div>\n",
       "<style scoped>\n",
       "    .dataframe tbody tr th:only-of-type {\n",
       "        vertical-align: middle;\n",
       "    }\n",
       "\n",
       "    .dataframe tbody tr th {\n",
       "        vertical-align: top;\n",
       "    }\n",
       "\n",
       "    .dataframe thead th {\n",
       "        text-align: right;\n",
       "    }\n",
       "</style>\n",
       "<table border=\"1\" class=\"dataframe\">\n",
       "  <thead>\n",
       "    <tr style=\"text-align: right;\">\n",
       "      <th></th>\n",
       "      <th>male.firstPosDate</th>\n",
       "      <th>male.lastNegDate</th>\n",
       "      <th>female.firstPosDate</th>\n",
       "      <th>female.lastNegDate</th>\n",
       "      <th>male.index</th>\n",
       "      <th>female.index</th>\n",
       "      <th>female.firstObsDate</th>\n",
       "      <th>male.firstObsDate</th>\n",
       "      <th>female.lastObsDate</th>\n",
       "      <th>male.lastObsDate</th>\n",
       "      <th>...</th>\n",
       "      <th>assay</th>\n",
       "      <th>n.vl.ur</th>\n",
       "      <th>spvl.ur</th>\n",
       "      <th>partner.ever.seroconverted</th>\n",
       "      <th>partner.first.pos.after.art</th>\n",
       "      <th>partner.seroconverted.before.art</th>\n",
       "      <th>index.inferred.spvl.start.date</th>\n",
       "      <th>partner.inferred.seroconversion.date</th>\n",
       "      <th>infectious.contact.period.end</th>\n",
       "      <th>duration</th>\n",
       "    </tr>\n",
       "    <tr>\n",
       "      <th>Couple</th>\n",
       "      <th></th>\n",
       "      <th></th>\n",
       "      <th></th>\n",
       "      <th></th>\n",
       "      <th></th>\n",
       "      <th></th>\n",
       "      <th></th>\n",
       "      <th></th>\n",
       "      <th></th>\n",
       "      <th></th>\n",
       "      <th></th>\n",
       "      <th></th>\n",
       "      <th></th>\n",
       "      <th></th>\n",
       "      <th></th>\n",
       "      <th></th>\n",
       "      <th></th>\n",
       "      <th></th>\n",
       "      <th></th>\n",
       "      <th></th>\n",
       "      <th></th>\n",
       "    </tr>\n",
       "  </thead>\n",
       "  <tbody>\n",
       "    <tr>\n",
       "      <th>1</th>\n",
       "      <td>2002.1</td>\n",
       "      <td>2000.8</td>\n",
       "      <td>1994.9</td>\n",
       "      <td>NaN</td>\n",
       "      <td>False</td>\n",
       "      <td>True</td>\n",
       "      <td>1994.9</td>\n",
       "      <td>1994.9</td>\n",
       "      <td>2002.1</td>\n",
       "      <td>2002.1</td>\n",
       "      <td>...</td>\n",
       "      <td>Roche 1.0</td>\n",
       "      <td>4</td>\n",
       "      <td>3.085649</td>\n",
       "      <td>True</td>\n",
       "      <td>False</td>\n",
       "      <td>True</td>\n",
       "      <td>1995.4</td>\n",
       "      <td>2001.45</td>\n",
       "      <td>2001.45</td>\n",
       "      <td>6.05</td>\n",
       "    </tr>\n",
       "    <tr>\n",
       "      <th>7</th>\n",
       "      <td>inf</td>\n",
       "      <td>1995.7</td>\n",
       "      <td>1994.9</td>\n",
       "      <td>NaN</td>\n",
       "      <td>False</td>\n",
       "      <td>True</td>\n",
       "      <td>1994.9</td>\n",
       "      <td>1994.9</td>\n",
       "      <td>1995.7</td>\n",
       "      <td>1995.7</td>\n",
       "      <td>...</td>\n",
       "      <td>Roche 1.0</td>\n",
       "      <td>1</td>\n",
       "      <td>2.750508</td>\n",
       "      <td>False</td>\n",
       "      <td>False</td>\n",
       "      <td>False</td>\n",
       "      <td>1995.4</td>\n",
       "      <td>inf</td>\n",
       "      <td>1995.70</td>\n",
       "      <td>0.30</td>\n",
       "    </tr>\n",
       "    <tr>\n",
       "      <th>9</th>\n",
       "      <td>2002.1</td>\n",
       "      <td>2000.8</td>\n",
       "      <td>inf</td>\n",
       "      <td>2007.9</td>\n",
       "      <td>True</td>\n",
       "      <td>False</td>\n",
       "      <td>2002.1</td>\n",
       "      <td>2002.1</td>\n",
       "      <td>2003.3</td>\n",
       "      <td>2002.1</td>\n",
       "      <td>...</td>\n",
       "      <td>Roche 1.0</td>\n",
       "      <td>1</td>\n",
       "      <td>5.669317</td>\n",
       "      <td>False</td>\n",
       "      <td>False</td>\n",
       "      <td>False</td>\n",
       "      <td>2002.6</td>\n",
       "      <td>inf</td>\n",
       "      <td>2003.30</td>\n",
       "      <td>0.70</td>\n",
       "    </tr>\n",
       "    <tr>\n",
       "      <th>11</th>\n",
       "      <td>inf</td>\n",
       "      <td>1996.5</td>\n",
       "      <td>1994.9</td>\n",
       "      <td>NaN</td>\n",
       "      <td>False</td>\n",
       "      <td>True</td>\n",
       "      <td>1994.9</td>\n",
       "      <td>1994.9</td>\n",
       "      <td>1996.5</td>\n",
       "      <td>1996.5</td>\n",
       "      <td>...</td>\n",
       "      <td>Roche 1.0</td>\n",
       "      <td>5</td>\n",
       "      <td>3.595304</td>\n",
       "      <td>False</td>\n",
       "      <td>False</td>\n",
       "      <td>False</td>\n",
       "      <td>1995.4</td>\n",
       "      <td>inf</td>\n",
       "      <td>1996.50</td>\n",
       "      <td>1.10</td>\n",
       "    </tr>\n",
       "    <tr>\n",
       "      <th>14</th>\n",
       "      <td>1994.9</td>\n",
       "      <td>NaN</td>\n",
       "      <td>inf</td>\n",
       "      <td>2000.9</td>\n",
       "      <td>True</td>\n",
       "      <td>False</td>\n",
       "      <td>1999.8</td>\n",
       "      <td>1999.8</td>\n",
       "      <td>2000.9</td>\n",
       "      <td>2000.7</td>\n",
       "      <td>...</td>\n",
       "      <td>Roche 1.0</td>\n",
       "      <td>1</td>\n",
       "      <td>3.327359</td>\n",
       "      <td>False</td>\n",
       "      <td>False</td>\n",
       "      <td>False</td>\n",
       "      <td>1995.4</td>\n",
       "      <td>inf</td>\n",
       "      <td>2000.90</td>\n",
       "      <td>5.50</td>\n",
       "    </tr>\n",
       "    <tr>\n",
       "      <th>...</th>\n",
       "      <td>...</td>\n",
       "      <td>...</td>\n",
       "      <td>...</td>\n",
       "      <td>...</td>\n",
       "      <td>...</td>\n",
       "      <td>...</td>\n",
       "      <td>...</td>\n",
       "      <td>...</td>\n",
       "      <td>...</td>\n",
       "      <td>...</td>\n",
       "      <td>...</td>\n",
       "      <td>...</td>\n",
       "      <td>...</td>\n",
       "      <td>...</td>\n",
       "      <td>...</td>\n",
       "      <td>...</td>\n",
       "      <td>...</td>\n",
       "      <td>...</td>\n",
       "      <td>...</td>\n",
       "      <td>...</td>\n",
       "      <td>...</td>\n",
       "    </tr>\n",
       "    <tr>\n",
       "      <th>3111</th>\n",
       "      <td>inf</td>\n",
       "      <td>2008.2</td>\n",
       "      <td>1995.4</td>\n",
       "      <td>NaN</td>\n",
       "      <td>False</td>\n",
       "      <td>True</td>\n",
       "      <td>2004.8</td>\n",
       "      <td>2004.9</td>\n",
       "      <td>2008.2</td>\n",
       "      <td>2008.2</td>\n",
       "      <td>...</td>\n",
       "      <td>Roche 1.5</td>\n",
       "      <td>1</td>\n",
       "      <td>5.745893</td>\n",
       "      <td>False</td>\n",
       "      <td>False</td>\n",
       "      <td>False</td>\n",
       "      <td>1995.9</td>\n",
       "      <td>inf</td>\n",
       "      <td>2005.20</td>\n",
       "      <td>9.30</td>\n",
       "    </tr>\n",
       "    <tr>\n",
       "      <th>3114</th>\n",
       "      <td>inf</td>\n",
       "      <td>2009.1</td>\n",
       "      <td>2005.6</td>\n",
       "      <td>NaN</td>\n",
       "      <td>False</td>\n",
       "      <td>True</td>\n",
       "      <td>2005.6</td>\n",
       "      <td>2005.6</td>\n",
       "      <td>2009.1</td>\n",
       "      <td>2009.1</td>\n",
       "      <td>...</td>\n",
       "      <td>Roche 1.5</td>\n",
       "      <td>1</td>\n",
       "      <td>2.966611</td>\n",
       "      <td>False</td>\n",
       "      <td>False</td>\n",
       "      <td>False</td>\n",
       "      <td>2006.1</td>\n",
       "      <td>inf</td>\n",
       "      <td>2007.30</td>\n",
       "      <td>1.20</td>\n",
       "    </tr>\n",
       "    <tr>\n",
       "      <th>3117</th>\n",
       "      <td>inf</td>\n",
       "      <td>2013.5</td>\n",
       "      <td>2002.6</td>\n",
       "      <td>NaN</td>\n",
       "      <td>False</td>\n",
       "      <td>True</td>\n",
       "      <td>2006.7</td>\n",
       "      <td>2006.7</td>\n",
       "      <td>2011.6</td>\n",
       "      <td>2011.6</td>\n",
       "      <td>...</td>\n",
       "      <td>Roche 1.5</td>\n",
       "      <td>1</td>\n",
       "      <td>3.723456</td>\n",
       "      <td>False</td>\n",
       "      <td>False</td>\n",
       "      <td>False</td>\n",
       "      <td>2003.1</td>\n",
       "      <td>inf</td>\n",
       "      <td>2005.20</td>\n",
       "      <td>2.10</td>\n",
       "    </tr>\n",
       "    <tr>\n",
       "      <th>3121</th>\n",
       "      <td>2008.7</td>\n",
       "      <td>NaN</td>\n",
       "      <td>inf</td>\n",
       "      <td>2014.1</td>\n",
       "      <td>True</td>\n",
       "      <td>False</td>\n",
       "      <td>2008.7</td>\n",
       "      <td>2008.7</td>\n",
       "      <td>2011.9</td>\n",
       "      <td>2011.9</td>\n",
       "      <td>...</td>\n",
       "      <td>Roche 1.5</td>\n",
       "      <td>1</td>\n",
       "      <td>3.069298</td>\n",
       "      <td>False</td>\n",
       "      <td>False</td>\n",
       "      <td>False</td>\n",
       "      <td>2009.2</td>\n",
       "      <td>inf</td>\n",
       "      <td>2011.90</td>\n",
       "      <td>2.70</td>\n",
       "    </tr>\n",
       "    <tr>\n",
       "      <th>3124</th>\n",
       "      <td>2011.4</td>\n",
       "      <td>2009.7</td>\n",
       "      <td>2006.4</td>\n",
       "      <td>NaN</td>\n",
       "      <td>False</td>\n",
       "      <td>True</td>\n",
       "      <td>2009.7</td>\n",
       "      <td>2009.7</td>\n",
       "      <td>2011.4</td>\n",
       "      <td>2011.4</td>\n",
       "      <td>...</td>\n",
       "      <td>Roche 1.5</td>\n",
       "      <td>1</td>\n",
       "      <td>5.509463</td>\n",
       "      <td>True</td>\n",
       "      <td>True</td>\n",
       "      <td>False</td>\n",
       "      <td>2006.9</td>\n",
       "      <td>2010.55</td>\n",
       "      <td>2007.20</td>\n",
       "      <td>0.30</td>\n",
       "    </tr>\n",
       "  </tbody>\n",
       "</table>\n",
       "<p>759 rows × 36 columns</p>\n",
       "</div>"
      ],
      "text/plain": [
       "        male.firstPosDate  male.lastNegDate  female.firstPosDate  \\\n",
       "Couple                                                             \n",
       "1                  2002.1            2000.8               1994.9   \n",
       "7                     inf            1995.7               1994.9   \n",
       "9                  2002.1            2000.8                  inf   \n",
       "11                    inf            1996.5               1994.9   \n",
       "14                 1994.9               NaN                  inf   \n",
       "...                   ...               ...                  ...   \n",
       "3111                  inf            2008.2               1995.4   \n",
       "3114                  inf            2009.1               2005.6   \n",
       "3117                  inf            2013.5               2002.6   \n",
       "3121               2008.7               NaN                  inf   \n",
       "3124               2011.4            2009.7               2006.4   \n",
       "\n",
       "        female.lastNegDate  male.index  female.index  female.firstObsDate  \\\n",
       "Couple                                                                      \n",
       "1                      NaN       False          True               1994.9   \n",
       "7                      NaN       False          True               1994.9   \n",
       "9                   2007.9        True         False               2002.1   \n",
       "11                     NaN       False          True               1994.9   \n",
       "14                  2000.9        True         False               1999.8   \n",
       "...                    ...         ...           ...                  ...   \n",
       "3111                   NaN       False          True               2004.8   \n",
       "3114                   NaN       False          True               2005.6   \n",
       "3117                   NaN       False          True               2006.7   \n",
       "3121                2014.1        True         False               2008.7   \n",
       "3124                   NaN       False          True               2009.7   \n",
       "\n",
       "        male.firstObsDate  female.lastObsDate  male.lastObsDate  ...  \\\n",
       "Couple                                                           ...   \n",
       "1                  1994.9              2002.1            2002.1  ...   \n",
       "7                  1994.9              1995.7            1995.7  ...   \n",
       "9                  2002.1              2003.3            2002.1  ...   \n",
       "11                 1994.9              1996.5            1996.5  ...   \n",
       "14                 1999.8              2000.9            2000.7  ...   \n",
       "...                   ...                 ...               ...  ...   \n",
       "3111               2004.9              2008.2            2008.2  ...   \n",
       "3114               2005.6              2009.1            2009.1  ...   \n",
       "3117               2006.7              2011.6            2011.6  ...   \n",
       "3121               2008.7              2011.9            2011.9  ...   \n",
       "3124               2009.7              2011.4            2011.4  ...   \n",
       "\n",
       "            assay  n.vl.ur   spvl.ur  partner.ever.seroconverted  \\\n",
       "Couple                                                             \n",
       "1       Roche 1.0        4  3.085649                        True   \n",
       "7       Roche 1.0        1  2.750508                       False   \n",
       "9       Roche 1.0        1  5.669317                       False   \n",
       "11      Roche 1.0        5  3.595304                       False   \n",
       "14      Roche 1.0        1  3.327359                       False   \n",
       "...           ...      ...       ...                         ...   \n",
       "3111    Roche 1.5        1  5.745893                       False   \n",
       "3114    Roche 1.5        1  2.966611                       False   \n",
       "3117    Roche 1.5        1  3.723456                       False   \n",
       "3121    Roche 1.5        1  3.069298                       False   \n",
       "3124    Roche 1.5        1  5.509463                        True   \n",
       "\n",
       "        partner.first.pos.after.art  partner.seroconverted.before.art  \\\n",
       "Couple                                                                  \n",
       "1                             False                              True   \n",
       "7                             False                             False   \n",
       "9                             False                             False   \n",
       "11                            False                             False   \n",
       "14                            False                             False   \n",
       "...                             ...                               ...   \n",
       "3111                          False                             False   \n",
       "3114                          False                             False   \n",
       "3117                          False                             False   \n",
       "3121                          False                             False   \n",
       "3124                           True                             False   \n",
       "\n",
       "        index.inferred.spvl.start.date  partner.inferred.seroconversion.date  \\\n",
       "Couple                                                                         \n",
       "1                               1995.4                               2001.45   \n",
       "7                               1995.4                                   inf   \n",
       "9                               2002.6                                   inf   \n",
       "11                              1995.4                                   inf   \n",
       "14                              1995.4                                   inf   \n",
       "...                                ...                                   ...   \n",
       "3111                            1995.9                                   inf   \n",
       "3114                            2006.1                                   inf   \n",
       "3117                            2003.1                                   inf   \n",
       "3121                            2009.2                                   inf   \n",
       "3124                            2006.9                               2010.55   \n",
       "\n",
       "        infectious.contact.period.end  duration  \n",
       "Couple                                           \n",
       "1                             2001.45      6.05  \n",
       "7                             1995.70      0.30  \n",
       "9                             2003.30      0.70  \n",
       "11                            1996.50      1.10  \n",
       "14                            2000.90      5.50  \n",
       "...                               ...       ...  \n",
       "3111                          2005.20      9.30  \n",
       "3114                          2007.30      1.20  \n",
       "3117                          2005.20      2.10  \n",
       "3121                          2011.90      2.70  \n",
       "3124                          2007.20      0.30  \n",
       "\n",
       "[759 rows x 36 columns]"
      ]
     },
     "execution_count": 9,
     "metadata": {},
     "output_type": "execute_result"
    }
   ],
   "source": [
    "df"
   ]
  },
  {
   "cell_type": "markdown",
   "metadata": {},
   "source": [
    "# Distribution of set point viral load"
   ]
  },
  {
   "cell_type": "code",
   "execution_count": 10,
   "metadata": {},
   "outputs": [
    {
     "data": {
      "text/plain": [
       "<Axes: ylabel='Frequency'>"
      ]
     },
     "execution_count": 10,
     "metadata": {},
     "output_type": "execute_result"
    },
    {
     "data": {
      "image/png": "[encoded data removed]",
      "text/plain": [
       "<Figure size 640x480 with 1 Axes>"
      ]
     },
     "metadata": {},
     "output_type": "display_data"
    }
   ],
   "source": [
    "df['spvl'].plot.hist(bins=25, cumulative=False)"
   ]
  },
  {
   "cell_type": "code",
   "execution_count": 11,
   "metadata": {},
   "outputs": [
    {
     "data": {
      "text/plain": [
       "[<matplotlib.lines.Line2D at 0x2989074f0>]"
      ]
     },
     "execution_count": 11,
     "metadata": {},
     "output_type": "execute_result"
    },
    {
     "data": {
      "image/png": "[encoded data removed]",
      "text/plain": [
       "<Figure size 640x480 with 1 Axes>"
      ]
     },
     "metadata": {},
     "output_type": "display_data"
    }
   ],
   "source": [
    "from scipy.stats import kstest, norm\n",
    "\n",
    "ax = df['spvl'].plot.hist(bins=25, cumulative=True, density=True)\n",
    "x = np.linspace(df['spvl'].min(), df['spvl'].max(), 100)\n",
    "ax.plot(x, norm(df['spvl'].mean(), df['spvl'].std()).cdf(x))"
   ]
  },
  {
   "cell_type": "code",
   "execution_count": 12,
   "metadata": {},
   "outputs": [
    {
     "data": {
      "text/plain": [
       "0.043098851411678796"
      ]
     },
     "execution_count": 12,
     "metadata": {},
     "output_type": "execute_result"
    }
   ],
   "source": [
    "kstest(df['spvl'], norm(df['spvl'].mean(), df['spvl'].std()).cdf).pvalue"
   ]
  },
  {
   "cell_type": "markdown",
   "metadata": {},
   "source": [
    "**Observation:** the data is not normally distributed."
   ]
  },
  {
   "cell_type": "markdown",
   "metadata": {},
   "source": [
    "# False negativity analysis"
   ]
  },
  {
   "cell_type": "markdown",
   "metadata": {},
   "source": [
    "In the RCSS data used by Blanquart et al. the viral load measurement had a detection threshold of 400 copies/mL. Measurements below this threshold were censored. The authors identify a number of reasons that a measurement might be below the detection threshold:\n",
    "\n",
    "1. The participant is an 'elite controller' who truly has a low viral load at the time of measurement.\n",
    "2. A measurement error and/or degradation of the RNA sample.\n",
    "3. The participant was prescribed ART in a clinic other than the RHSP clinics and did not report that fact.\n",
    "4. The participant is falsely believed to be infected.\n",
    "\n",
    "In order to account for factor 2, Blanquart et al. \"assumed that any single viral load measure below 400 copies/mL in a participant with more than one measure over 400 copies/mL was due to either error or sample degradation, and we removed these measurements from our analysis (44 measures out of 2135).\"\n",
    "\n",
    "If we assume that the event of a measurement error or sample degradation is independent of how many past measurements have been made of the individual and independent of the participant's viral load, then the measurements rejected by above can be seen as establishing a minimum false negative rate of $44/2135 \\approx 2.06 \\%$."
   ]
  },
  {
   "cell_type": "markdown",
   "metadata": {},
   "source": [
    "# Transmission given undetectable viral load"
   ]
  },
  {
   "cell_type": "markdown",
   "metadata": {},
   "source": [
    "Four couples where the index partner always recorded an undectable viral load (5 measurements total; average = 1.25) had a seroconversion in the recipient partner. In and of itself, this is a notable finding because the metastudy of sexual transmission given low-level viremia by Broyles et al. included RCSS only up through the Gray study (2000) which had 0 transmission events when the index partner had undectable viral load."
   ]
  },
  {
   "cell_type": "code",
   "execution_count": 13,
   "metadata": {},
   "outputs": [
    {
     "data": {
      "text/plain": [
       "Couple\n",
       "356     1\n",
       "942     2\n",
       "1255    1\n",
       "2504    1\n",
       "Name: n.vl, dtype: int64"
      ]
     },
     "execution_count": 13,
     "metadata": {},
     "output_type": "execute_result"
    }
   ],
   "source": [
    "df[(df['n.vl.ur'] == 0) & df['partner.seroconverted.before.art']]['n.vl']"
   ]
  },
  {
   "cell_type": "markdown",
   "metadata": {},
   "source": [
    "Given a putative false negative rate of $2.06 \\%$ (this is likely a lower bound on the false negative rate), we can query the significance of these four observations with the following framework:\n",
    "\n",
    "1. Null hypothesis: given undetectable (< 400 copies/mL) viral load in the index partner, transmission is impossible.\n",
    "2. Evaluate the p-value for rejecting the null hypothesis given four transmission events and a false negative rate of $2.06\\%$.\n",
    "\n",
    "To complete (2) in the simplest way, we consider all couples where the recipient partner seroconverted regardless of viral load. Given the distribution of viral load measurements across those index partners, we ask how likely would it be to have four or more index partners record only undetectable viral loads due to independently random measurement failures at a rate of $2.06\\%$\n",
    "\n",
    "Anjalika raises the question: should I include the people who were always undetectable. Are they \"part of\" the null hypothesis. In my mind, yes they are because the null hypothesis is \"we would never observe an always-undetectable index partner transmitting unless there was a false negative\" -- so it includes the possibility of someone with all false negative measurements.\n"
   ]
  },
  {
   "cell_type": "code",
   "execution_count": 14,
   "metadata": {},
   "outputs": [],
   "source": [
    "n_measurements = df[df['partner.seroconverted.before.art']]['n.vl']"
   ]
  },
  {
   "cell_type": "code",
   "execution_count": 15,
   "metadata": {},
   "outputs": [],
   "source": [
    "from scipy.stats import binom\n",
    "\n",
    "p_false_negative = 0.0206\n",
    "n_undectables = []\n",
    "for i in range(20000):\n",
    "    n_failure_samples = binom(n_measurements, p_false_negative).rvs()\n",
    "    n_undetectable = np.sum(n_failure_samples == n_measurements)\n",
    "    n_undectables.append(n_undetectable)\n",
    "n_undectables = np.array(n_undectables)"
   ]
  },
  {
   "cell_type": "code",
   "execution_count": 16,
   "metadata": {},
   "outputs": [
    {
     "data": {
      "text/plain": [
       "3.0"
      ]
     },
     "execution_count": 16,
     "metadata": {},
     "output_type": "execute_result"
    }
   ],
   "source": [
    "np.quantile(n_undectables, 0.95)"
   ]
  },
  {
   "cell_type": "code",
   "execution_count": 17,
   "metadata": {},
   "outputs": [
    {
     "name": "stdout",
     "output_type": "stream",
     "text": [
      "P value for rejecting null hypothesis: [1.68]\n"
     ]
    }
   ],
   "source": [
    "print(\"P value for rejecting null hypothesis:\", np.sum(n_undectables >= 4) / np.shape(n_undectables) * 100)"
   ]
  },
  {
   "cell_type": "markdown",
   "metadata": {},
   "source": [
    "**Observation:** with a false negative rate of 2.06%, we can reject the null hypothesis that transmission is impossible for index patients who only record undetectable results. (This assumes the only mode of measurement inaccuracy is complete failure. It does not include noise in the measurement.)\n",
    "\n",
    "**Note:** we also aren't including the possibility for extra-partner transmission. (Recall: these cases aren't confirmed to be linked.)"
   ]
  },
  {
   "cell_type": "markdown",
   "metadata": {},
   "source": [
    "# False negative rates and normality of the distribution\n",
    "\n",
    "We resample the distribution by assuming X% of the undetectable measurements were false negatives. We handle this process in two ways\n",
    "\n",
    "1. Remove the undetectable measurement and recalculate VL as if the measurement didn't exist.\n",
    "2. After removing all those measurements, calculate the mean and variance of SPVL and then draw random values from the normal with that mean and variance and reassign them to the presumptive false negatives.\n",
    "\n",
    "In each case, we then compare the resultant distribution to a normal distribution using the KS test.\n",
    "\n",
    "**Note:** neither of these approaches corrects for the fact that instead of doing something sensible for the censored data, we supply 200 copies / mL for all of the ones that *aren't* false negative in both cases."
   ]
  },
  {
   "cell_type": "code",
   "execution_count": 18,
   "metadata": {},
   "outputs": [],
   "source": [
    "def resample(df, p_false_negative):\n",
    "    df = df.copy()\n",
    "    # for negative tests, assume that p fraction was false negative\n",
    "    # ie the true viral load was > 400 copies/mL\n",
    "    n_now_positive = binom(df['n.vl'] - df['n.vl.ur'], p_false_negative).rvs()\n",
    "\n",
    "    # since it's unclear what VL to supply as the true VL in these observations,\n",
    "    # we try two approaches\n",
    "    # (1) hide those measurements\n",
    "    df['spvl2'] = (df['spvl'] * df['n.vl'] - n_now_positive * np.log10(200)) / (df['n.vl'] - n_now_positive)\n",
    "    df_hidden = df[(df['n.vl'] - n_now_positive) > 0]\n",
    "    df['spvl2'] = np.where(\n",
    "        (df['n.vl'] - n_now_positive) == 0,\n",
    "        0,\n",
    "        df['spvl2']\n",
    "    )\n",
    "\n",
    "    # (2) after hiding those measurements, calculate the mean and variance of distribution\n",
    "    # and then replace those measurements with RVs from the normal distribution with that mean and variance\n",
    "    mean, std = df['spvl2'].mean(), df['spvl2'].std()\n",
    "    n = norm(mean, std)\n",
    "    replacement_vls = n.rvs(np.sum(n_now_positive))\n",
    "    added_vl = []\n",
    "    i = 0\n",
    "    for n in n_now_positive:\n",
    "        added_vl.append(np.sum(replacement_vls[i:i+n]))\n",
    "        i += n\n",
    "    df['spvl3'] = (df['spvl2'] * (df['n.vl'] - n_now_positive) + added_vl) / (df['n.vl'])\n",
    "\n",
    "    return df_hidden['spvl2'], df['spvl3']"
   ]
  },
  {
   "cell_type": "code",
   "execution_count": 19,
   "metadata": {},
   "outputs": [],
   "source": [
    "p_false_negative = 0.10\n",
    "\n",
    "spvl_hidden, spvl_resampled = resample(df, p_false_negative)"
   ]
  },
  {
   "cell_type": "code",
   "execution_count": 20,
   "metadata": {},
   "outputs": [
    {
     "data": {
      "text/plain": [
       "False"
      ]
     },
     "execution_count": 20,
     "metadata": {},
     "output_type": "execute_result"
    }
   ],
   "source": [
    "pd.isna(spvl_resampled).any()"
   ]
  },
  {
   "cell_type": "markdown",
   "metadata": {},
   "source": [
    "## Hide false negatives"
   ]
  },
  {
   "cell_type": "code",
   "execution_count": 21,
   "metadata": {},
   "outputs": [
    {
     "data": {
      "text/plain": [
       "0.06824954314172416"
      ]
     },
     "execution_count": 21,
     "metadata": {},
     "output_type": "execute_result"
    },
    {
     "data": {
      "image/png": "[encoded data removed]",
      "text/plain": [
       "<Figure size 640x480 with 1 Axes>"
      ]
     },
     "metadata": {},
     "output_type": "display_data"
    }
   ],
   "source": [
    "ax = spvl_hidden.plot.hist(bins=25, cumulative=True, density=True)\n",
    "x = np.linspace(spvl_hidden.min(), spvl_hidden.max(), 100)\n",
    "ax.plot(x, norm(spvl_hidden.mean(), spvl_hidden.std()).cdf(x))\n",
    "\n",
    "kstest(spvl_hidden, norm(spvl_hidden.mean(), spvl_hidden.std()).cdf).pvalue"
   ]
  },
  {
   "cell_type": "markdown",
   "metadata": {},
   "source": [
    "## Replace false negatives"
   ]
  },
  {
   "cell_type": "code",
   "execution_count": 22,
   "metadata": {},
   "outputs": [
    {
     "data": {
      "text/plain": [
       "(4.115324803826128, 0.8991230213180711)"
      ]
     },
     "execution_count": 22,
     "metadata": {},
     "output_type": "execute_result"
    }
   ],
   "source": [
    "spvl_hidden.mean(), spvl_hidden.std()"
   ]
  },
  {
   "cell_type": "code",
   "execution_count": 23,
   "metadata": {},
   "outputs": [
    {
     "data": {
      "text/plain": [
       "0.13139875478772467"
      ]
     },
     "execution_count": 23,
     "metadata": {},
     "output_type": "execute_result"
    },
    {
     "data": {
      "image/png": "[encoded data removed]",
      "text/plain": [
       "<Figure size 640x480 with 1 Axes>"
      ]
     },
     "metadata": {},
     "output_type": "display_data"
    }
   ],
   "source": [
    "ax = spvl_resampled.plot.hist(bins=25, cumulative=True, density=True)\n",
    "x = np.linspace(spvl_resampled.min(), spvl_resampled.max(), 100)\n",
    "ax.plot(x, norm(spvl_resampled.mean(), spvl_resampled.std()).cdf(x))\n",
    "ax.plot(x, norm(spvl_hidden.mean(), spvl_hidden.std()).cdf(x))\n",
    "\n",
    "kstest(spvl_resampled, norm(spvl_resampled.mean(), spvl_resampled.std()).cdf).pvalue"
   ]
  },
  {
   "cell_type": "markdown",
   "metadata": {},
   "source": [
    "**Observation:** as obviously is expected, when we replace the \"false negative\" values with the samples from the normal distribution with mean + variance determiend by non-false-negative-values, we get a distribution that is closer to normal."
   ]
  },
  {
   "cell_type": "code",
   "execution_count": 24,
   "metadata": {},
   "outputs": [
    {
     "data": {
      "image/png": "[encoded data removed]",
      "text/plain": [
       "<Figure size 640x480 with 1 Axes>"
      ]
     },
     "metadata": {},
     "output_type": "display_data"
    }
   ],
   "source": [
    "_, spvl_resampled = resample(df, 0.35)\n",
    "ax = spvl_resampled.plot.hist(bins=25, density=True)"
   ]
  },
  {
   "cell_type": "markdown",
   "metadata": {},
   "source": [
    "**Observation:** even with a large false negative rate (35% above), the data still apppears enriched at small values relative to a normal."
   ]
  },
  {
   "cell_type": "markdown",
   "metadata": {},
   "source": [
    "# Model part 1: population model and observation model towards redistributing censored data\n",
    "\n",
    "- Problem: the viral load measurements are censored if their value is below 400 copies / mL.\n",
    "- Problem: and some values are censored randomly due to false negatives.\n",
    "- Desire: redistribute the censored viral load measurements (taking into account the possibility of false negatives) below 400 copies / mL\n",
    "- Approach: propose a model for the viral load distribution in the population and a model for the observation process. Find the parameters for the population viral load model and observation model that maximize the likelihood of observing our data. Then redistribute censored data in accordance with the population model defined at the MLE.\n",
    "\n",
    "## Population model:\n",
    "\n",
    "- Two classes of individuals: elite controllers and ordinary individuals. Fraction $q$ of individuals are elite, fraction $1-q$ are not.\n",
    "- Viral load among elite controllers: $\\text{Normal} (\\mu_{\\text{e}}, \\sigma^2_\\text{e})$. PDF: $f_\\text{elite}$.\n",
    "- Viral load among non-elite controllers $\\text{Normal} (\\mu_{\\text{o}}, \\sigma^2_\\text{o})$. PDF: $f_\\text{ordinary}$.\n",
    "- PDF of viral load in the population:\n",
    "\n",
    "Monkey paper said <400 copies/mL is most common def for elite control in humans\n",
    "\n",
    "$$ f_\\text{pop} (\\text{VL}_\\text{true}) =  q f_\\text{elite} (\\text{VL}_\\text{true}) + (1 - q) f_\\text{ordinary} (\\text{VL}_\\text{true}).$$\n",
    "\n",
    "## Viral load observation model:\n",
    "\n",
    "- Assume that every individual has a fixed $\\text{VL}_\\text{true} = \\text{SPVL}_\\text{true}$ (ie there's no variability in someone's viral load, so all variability in the measurement is due to noise)\n",
    "- Measurements have (on log 10 scale) Gaussian noise $\\text{Normal}(0, \\sigma_\\text{noise}^2)$.\n",
    "- Any measurement of a value below $\\text{LLD} = 400$ copies / mL (after noise) is censored.\n",
    "- Additionally and *independently*, there is a constant probability that a viral load measurement will appear censored due to a false negative: $p_\\text{false negative}$.\n",
    "- The number of measurements made of an individual are independent of any feature of that individual. **Is this true? Is there some weird entanglement where once your partner seroconverts you get dropped from the data so maybe we have more observations for people with low viral loads?** \n",
    "\n",
    "This lumps together all variation as noise. Do we need to think about \"natural variation\" vs noise? \n",
    "\n",
    "## Viral load observation content:\n",
    "\n",
    "For each individual $i$, we make the following observation:\n",
    "\n",
    "$$\\mathcal{O}_i = \\{ n_i, k_i, \\text{SPVL}_i^o \\}$$\n",
    "\n",
    "- $n_i$: number of times viral load is measured.\n",
    "- $k_i$: number of times an undetectable result is recorded. $k_i \\le n_i$.\n",
    "- $\\text{SPVL}^o_i$: the observed ($=^o$) average (in log space) of **uncensored** viral load observations.\n",
    "\n",
    "## Likelihood of observation given the two models\n",
    "\n",
    "Let the collection of all model parameters be called $\\theta$\n",
    "\n",
    "$$ \\theta = \\theta_\\text{pop} \\cup \\theta_\\text{obs} = \\{ q, \\mu_e, \\sigma_e, \\mu_o, \\sigma_o \\} \\cup \\{ p_\\text{false negative}, \\sigma_\\text{noise} \\}$$\n",
    "\n",
    "By assumption, individual $i$ has a fixed $\\text{VL}_\\text{true} = \\text{SPVL}_\\text{true}$. By the law of total probability, the likelihood of observing $\\mathcal{O}_i$ given the model is:\n",
    "\n",
    "$$ \\mathcal{L} (\\mathcal{O}_i | \\theta ) = \\int_{\\text{VL}_\\text{true} = 0}^\\infty f_\\text{pop} (\\text{VL}_\\text{true}; \\theta_\\text{pop}) P(\\mathcal{O}_i | \\text{VL}_\\text{true}; \\theta_\\text{obs}) d\\text{VL}_\\text{true}$$\n",
    "\n",
    "The first term in the integral is known:\n",
    "\n",
    "$$ f_\\text{pop} (\\text{VL}_\\text{true}; \\theta_\\text{pop}) =  q f_\\text{elite} (\\text{VL}_\\text{true}; \\theta_\\text{pop}) + (1 - q) f_\\text{ordinary} (\\text{VL}_\\text{true}; \\theta_\\text{pop}).$$\n",
    "\n",
    "The second term in the integral is more complicated to evaluate.\n",
    "\n",
    "### The probability of an observation given a known fixed viral load\n",
    "\n",
    "The probability of $\\mathcal{O}_i$ given the model and the viral load may be split apart into a probability for observing $k_i$ undetectable results in $n_i$ tries and a probability for observing the given mean among the $n-k$ other measurements:\n",
    "\n",
    "$$ P(\\mathcal{O}_i | \\text{VL}_\\text{true}; \\theta_\\text{obs}) = P((n_i,k_i) | \\text{VL}_\\text{true}; \\theta_\\text{obs}) P( (\\text{SPVL}_i^o, n - k) | \\text{VL}_\\text{true}; \\theta_\\text{obs}) $$\n",
    "\n",
    "For a given true viral load, the observations of (the log 10 of) that viral load would follow the normal distribution $\\text{Normal} (\\text{VL}_\\text{true}, \\sigma_\\text{noise}^2)$ if not for censoring and false negatives. Let $F_\\text{uncensored}$ be the CDF of this normal distribution without censoring.\n",
    "\n",
    "Then for the first term in the previous equation we have:\n",
    "\n",
    "$$ P((n_i,k_i) | \\text{VL}_\\text{true}; \\theta_\\text{obs}) = \\text{Binom}(n_i, P(\\text{undetectable} | \\text{VL}_\\text{true}; \\theta_\\text{obs})) (k_i) $$\n",
    "\n",
    "where the probability of an undetectable result is the probability that either we have a false negative or would-be measurement below 400 copies / mL. Given independence:\n",
    "\n",
    "$$P(\\text{undetectable} | \\text{VL}_\\text{true}; \\theta_\\text{obs}) = 1 - (1 - p_\\text{false negative}) (1 - F_\\text{uncensored}(\\log_{10} (\\text{LLD})))$$\n",
    "\n",
    "That resolves one term. For the second term, we need to know the probability that we observe an average value of $\\text{SPVL}^o_i$ across $n-k$ measurements, which weren't censored, given a true viral load $\\text{VL}_\\text{true}$ and a model $\\theta_\\text{obs}$. The outcome of one observation of a viral load given that it was not censored is a random variable, call it $X$, distributed as a half-truncated normal distribution. The probability in question is \n",
    "\n",
    "$$ P( (\\text{SPVL}_i^o, n - k) | \\text{VL}_\\text{true}; \\theta_\\text{obs}) = f_{\\frac{X + X + \\ldots + X}{n -k}} (\\text{SPVL}^o_i)\\\\\n",
    "X \\sim \\text{TruncatedNormal}(\\text{SPVL}^o_i, \\sigma_\\text{noise}, x \\in [\\log_{10} (\\text{LLD}), \\infty))$$\n",
    "\n",
    "ie the probability that the value of $n - k$ convolutions of $X$ produces $(n - k) \\cdot \\text{SPVL}^o_i$. To my knowledge this probability cannot be evaluated analytically, so we will numerically compute it.\n",
    "\n",
    "So in all:\n",
    "\n",
    "$$ \\mathcal{L} (\\mathcal{O}_i | \\theta ) = \\int_{\\text{VL}_\\text{true} = 0}^\\infty f_\\text{pop} (\\text{VL}_\\text{true}; \\theta_\\text{pop}) f_{\\frac{X + X + \\ldots + X}{n -k}} (\\text{SPVL}^o_i) \\text{Binom}(n_i, P(\\text{undetectable} | \\text{VL}_\\text{true}; \\theta_\\text{obs})) (k_i) d\\text{VL}_\\text{true}\\\\\n",
    "P(\\text{undetectable} | \\text{VL}_\\text{true}; \\theta_\\text{obs}) = 1 - (1 - p_\\text{false negative}) (1 - F_\\text{uncensored}(\\log_{10}(\\text{LLD})))$$\n",
    "\n",
    "If we fit all at once, we're inherently enforcing the truth of our transmission model more than otherwise. If we fit separately transmission from this part, we have a different philosophy of relationship of transmission observation."
   ]
  },
  {
   "cell_type": "markdown",
   "metadata": {},
   "source": [
    "STAN MCMC https://pystan.readthedocs.io/en/latest/\n",
    "\n",
    "Alison's friend who has an MCMC wrapper used in astrophysics. EMCEE https://emcee.readthedocs.io/en/stable/ https://prappleizer.github.io/Tutorials/MCMC/MCMC_Tutorial.html\n",
    "\n",
    "Good starting values always helps"
   ]
  },
  {
   "cell_type": "code",
   "execution_count": 560,
   "metadata": {},
   "outputs": [],
   "source": [
    "from dataclasses import dataclass\n",
    "import scipy.integrate\n",
    "from scipy.stats import truncnorm\n",
    "from scipy.signal import convolve\n",
    "\n",
    "@dataclass()\n",
    "class ThetaObs():\n",
    "    p_false_negative: float\n",
    "    sigma_noise: float\n",
    "\n",
    "@dataclass()\n",
    "class ThetaPop():\n",
    "    q: float\n",
    "    mu_e: float\n",
    "    sigma_e: float\n",
    "    mu_o: float\n",
    "    sigma_o: float\n",
    "\n",
    "    def __post_init__(self):\n",
    "        self.pdf_e = norm(self.mu_e, self.sigma_e).pdf\n",
    "        self.pdf_o = norm(self.mu_o, self.sigma_o).pdf\n",
    "\n",
    "def build_convolution(spvl, sigma_noise, lld, n_detectable, delta=1e-4):\n",
    "    if n_detectable == 0:\n",
    "        return lambda x: 1\n",
    "    # why not just LLD? see scipy documentation notes about truncation being based on std\n",
    "    t = truncnorm((lld - spvl)/sigma_noise, np.inf, loc=spvl, scale=sigma_noise)\n",
    "    if n_detectable == 1:\n",
    "        return t.pdf\n",
    "    # go 10 stds above mean to capture all probability\n",
    "    grid = np.arange(0, spvl * n_detectable + 10 * sigma_noise * n_detectable, delta)\n",
    "\n",
    "    # discretize the pdf of the truncated normal on this grid as a pmf\n",
    "    pmf = t.pdf(grid) * delta\n",
    "    #print(\"HERE:\", np.trapz(pmf, grid))\n",
    "    c = pmf.copy()\n",
    "    # n-1 because we start with our first convolution which happens when we have 2 observations\n",
    "    for i in range(n_detectable-1):\n",
    "        c = convolve(c, pmf, 'full')[0:len(grid)]\n",
    "        #print(np.trapz(c / delta, grid), max(c/delta), n_detectable)\n",
    "\n",
    "    # / delta to convert pmf back to --> pdf\n",
    "    c_pdf = c / delta\n",
    "\n",
    "    # only need to calculate convolution once per spvl, sigma_noise, lld, n_detectable\n",
    "    # and then can query x in constant time as a lookup\n",
    "    def query_convolution(x):\n",
    "        # converting from average to sum for the x=VL_true that we query:\n",
    "        x = x*n_detectable\n",
    "        # if we are above the top of the grid, we'll say the probability is 0\n",
    "        # (the integrator may look up here, but the probability is truly infinitessimal)\n",
    "        if x > grid[-1]:\n",
    "            return 0\n",
    "        \n",
    "        # interpolate the value of x on the grid\n",
    "        # * n_detectable due to the change of variables x => n*x\n",
    "        return np.interp(x, grid, c_pdf) * n_detectable\n",
    "    return query_convolution\n",
    "\n",
    "LLD = np.log10(400)\n",
    "# some day we can worry about vectorizing this, for now let's focus on step 1\n",
    "def get_integrand(n_i, k_i, spvl_i, theta_obs, theta_pop):\n",
    "    f_pop = lambda x: theta_pop.q * theta_pop.pdf_e(x) + (1 - theta_pop.q) * theta_pop.pdf_o(x)\n",
    "    F_uncensored = lambda x: norm(x, theta_obs.sigma_noise).cdf(LLD)\n",
    "    p_undectable = lambda x: 1 - (1 - theta_obs.p_false_negative) * (1 - F_uncensored(x))\n",
    "    f_binom = lambda x: binom(n_i, p_undectable(x)).pmf(k_i)\n",
    "    f_conv = build_convolution(spvl_i, theta_obs.sigma_noise, LLD, n_i - k_i)\n",
    "    def integrand(x):\n",
    "        return f_conv(x) * f_binom(x) * f_pop(x)\n",
    "    def verbose_integrand(x):\n",
    "        f_c = f_conv(x)\n",
    "        f_b = f_binom(x)\n",
    "        f_p = f_pop(x)\n",
    "        return f_c * f_b * f_p, f_c, f_b, f_p\n",
    "    return integrand, verbose_integrand\n",
    "\n",
    "def logl_i(n_i, k_i, spvl_i, theta_obs, theta_pop, spvl_upper_bound=12.0):\n",
    "    integrand, _ = get_integrand(n_i, k_i, spvl_i, theta_obs, theta_pop)\n",
    "    # we're integrating to \"infinity\", but we will actually misbehave unless we give\n",
    "    # a reasonable upper bound, because it's easy for the integrator to miss the\n",
    "    # steeply peaked convolution component\n",
    "    return np.log(scipy.integrate.quad(integrand, 0.0, spvl_upper_bound)[0])\n",
    "\n",
    "def build_vectorized_convolution(spvl, sigma_noise, lld, n_detectable, grid_points=20000):\n",
    "    # why not just LLD? see scipy documentation notes about truncation being based on std\n",
    "    t = truncnorm((lld - spvl)/sigma_noise, np.inf, loc=spvl, scale=sigma_noise)\n",
    "\n",
    "    # go 10 stds above mean to capture all probability\n",
    "    grid = np.linspace(0, spvl * n_detectable + 10 * sigma_noise * n_detectable, grid_points)\n",
    "    # the spacing on each grid (necessary for getting pmf values)\n",
    "    delta = grid[1,:] - grid[0,:]\n",
    "\n",
    "    # discretize the pdf of the truncated normal on this grid as a pmf\n",
    "    pmf = t.pdf(grid) * delta\n",
    "    #print(\"HERE:\", np.trapz(pmf, grid))\n",
    "    c = pmf.copy()\n",
    "    for i in range(grid.shape[1]):\n",
    "        # n-1 because we start with our first convolution which happens when we have 2 observations\n",
    "        for n in range(n_detectable[i] - 1):\n",
    "            c[:,i] = convolve(c[:,i], pmf[:,i], 'full')[0:len(grid)]\n",
    "            #print(np.trapz(c / delta, grid), max(c/delta), n_detectable)\n",
    "\n",
    "    # / delta to convert pmf back to --> pdf\n",
    "    c_pdf = c / delta\n",
    "\n",
    "    # only need to calculate convolution once per spvl, sigma_noise, lld, n_detectable\n",
    "    # and then can query x in constant time as a lookup\n",
    "    def query_convolution(x):\n",
    "        assert(np.all(x >= 0))\n",
    "        # converting from average to sum for the x=VL_true that we query:\n",
    "        x = x*n_detectable\n",
    "\n",
    "        idx_floor = np.floor(x / delta).astype('int')\n",
    "        idx_ceil  = np.ceil(x / delta).astype('int')\n",
    "        idx_individuals = np.arange(0,len(idx_floor))\n",
    "        # if we are above the top of the grid, we'll say the probability is 0\n",
    "        # (the integrator may look up here, but the probability is ~0 \n",
    "        # as long as we set a large enough max in each of our grids)\n",
    "        in_grid_mask = x < grid[-1, :]\n",
    "\n",
    "        idx_floor[~in_grid_mask] = 0\n",
    "        idx_ceil[~in_grid_mask] = 0\n",
    "\n",
    "        slope = np.where(\n",
    "            in_grid_mask,\n",
    "            (c_pdf[idx_ceil, idx_individuals] - c_pdf[idx_floor, idx_individuals])/delta,\n",
    "            0\n",
    "        )\n",
    "        \n",
    "        # interpolate the value of x on the grid\n",
    "        val = np.where(\n",
    "            in_grid_mask,\n",
    "            c_pdf[idx_floor, idx_individuals] + slope * (x - grid[idx_floor, idx_individuals]),\n",
    "            0,\n",
    "        )\n",
    "\n",
    "        # * n_detectable due to the change of variables x => n*x\n",
    "        return val * n_detectable\n",
    "    return query_convolution\n",
    "\n",
    "def build_vectorized_convolution_no_interp(spvl, sigma_noise, lld, n_detectable, grid_points=20000):\n",
    "    n_detectable_s = np.squeeze(n_detectable, axis=1)\n",
    "    # why not just LLD? see scipy documentation notes about truncation being based on std\n",
    "    t = truncnorm((lld - spvl)/sigma_noise, np.inf, loc=spvl, scale=sigma_noise)\n",
    "\n",
    "    # go 10 stds above mean to capture all probability\n",
    "    grid = np.linspace(0, spvl * n_detectable_s + 10 * sigma_noise * n_detectable_s, grid_points)\n",
    "    # the spacing on each grid (necessary for getting pmf values)\n",
    "    delta = grid[1,:] - grid[0,:]\n",
    "\n",
    "    # discretize the pdf of the truncated normal on this grid as a pmf\n",
    "    pmf = t.pdf(grid) * delta\n",
    "    #print(\"HERE:\", np.trapz(pmf, grid))\n",
    "    c = pmf.copy()\n",
    "    for i in range(grid.shape[1]):\n",
    "        # n-1 because we start with our first convolution which happens when we have 2 observations\n",
    "        for n in range(n_detectable_s[i] - 1):\n",
    "            c[:,i] = convolve(c[:,i], pmf[:,i], 'full')[0:len(grid)]\n",
    "            #print(np.trapz(c / delta, grid), max(c/delta), n_detectable)\n",
    "\n",
    "    # / delta to convert pmf back to --> pdf\n",
    "    c_pdf = c / delta\n",
    "\n",
    "    # only need to calculate convolution once per spvl, sigma_noise, lld, n_detectable\n",
    "    # and then can query x in constant time as a lookup\n",
    "    def query_convolution(x):\n",
    "        d = np.expand_dims(delta, axis=1)\n",
    "        assert(np.all(x >= 0))\n",
    "        # converting from average to sum for the x=VL_true that we query:\n",
    "        x = x*n_detectable\n",
    "\n",
    "        idx_floor = np.floor(x / d).astype('int')\n",
    "        # if we are above the top of the grid, we'll say the probability is 0\n",
    "        # (the integrator may look up here, but the probability is ~0 \n",
    "        # as long as we set a large enough max in each of our grids)\n",
    "        in_grid_mask = x < np.expand_dims(grid[-1, :], axis=1)\n",
    "        idx_floor[~in_grid_mask] = 0\n",
    "        val = np.where(\n",
    "            in_grid_mask,\n",
    "            np.take_along_axis(c_pdf.T, idx_floor, axis=1),\n",
    "            0,\n",
    "        )\n",
    "        # * n_detectable due to the change of variables x => n*x\n",
    "        val = val * n_detectable\n",
    "\n",
    "        val = np.where(\n",
    "            n_detectable == 0,\n",
    "            1,\n",
    "            val\n",
    "        )\n",
    "\n",
    "        return val\n",
    "    return query_convolution\n",
    "\n",
    "from scipy.integrate import simpson\n",
    "def get_vectorized_integrand(n, k, spvl, theta_obs, theta_pop, components=False):\n",
    "    # yup vectorized\n",
    "    f_pop = lambda x: theta_pop.q * theta_pop.pdf_e(x) + (1 - theta_pop.q) * theta_pop.pdf_o(x)\n",
    "    # yup vectorized\n",
    "    F_uncensored = lambda x: norm(x, theta_obs.sigma_noise).cdf(LLD)\n",
    "    # yup vectorized\n",
    "    p_undectable = lambda x: 1 - (1 - theta_obs.p_false_negative) * (1 - F_uncensored(x))\n",
    "    # yup vectorized\n",
    "    f_binom = lambda x: binom(n, p_undectable(x)).pmf(k)\n",
    "    # yup vectorized\n",
    "    f_conv = build_vectorized_convolution_no_interp(spvl, theta_obs.sigma_noise, LLD, n - k, grid_points=12000)\n",
    "    def integrand(x):\n",
    "        return f_conv(x) * f_binom(x) * f_pop(x)\n",
    "    if not components:\n",
    "        return integrand\n",
    "    return f_conv, f_binom, f_pop\n",
    "\n",
    "def calculate_logl(n, k, spvl, theta_obs, theta_pop, dx=1e-3, components=False, spvl_upper_bound=12.0):\n",
    "    if isinstance(n, pd.Series):\n",
    "        n = n.to_numpy()\n",
    "    if isinstance(k, pd.Series):\n",
    "        k = k.to_numpy()\n",
    "    if isinstance(spvl, pd.Series):\n",
    "        spvl = spvl.to_numpy()\n",
    "    \n",
    "    if not n.shape:\n",
    "        n = np.array([n])\n",
    "    if not k.shape:\n",
    "        k = np.array([k])\n",
    "    if not spvl.shape:\n",
    "        spvl = np.array([spvl])\n",
    "    n = np.expand_dims(n, axis=1)\n",
    "    k = np.expand_dims(k, axis=1)\n",
    "\n",
    "    x_vals = np.tile(np.arange(0, spvl_upper_bound, dx), (n.shape[0],1))\n",
    "\n",
    "    if components:\n",
    "        f_c, f_b, f_p = get_vectorized_integrand(n, k, spvl, theta_obs, theta_pop, components=True)\n",
    "        integrand = lambda x: f_c(x) * f_b(x) * f_p(x)\n",
    "    else:\n",
    "        integrand = get_vectorized_integrand(n, k, spvl, theta_obs, theta_pop)\n",
    "\n",
    "    samples = integrand(x_vals)\n",
    "    integral = simpson(samples, x=x_vals, axis=1)\n",
    "\n",
    "    if not components:\n",
    "        return np.log(integral)\n",
    "\n",
    "    return np.log(integral), lambda x: f_c(x) * f_b(x) * f_p(x), f_c, f_b, f_p"
   ]
  },
  {
   "cell_type": "code",
   "execution_count": 550,
   "metadata": {},
   "outputs": [],
   "source": [
    "import matplotlib.pyplot as plt\n",
    "\n",
    "def plot_single(iloc, theta_obs, theta_pop, adaptive=True):\n",
    "    row = df.iloc[iloc]\n",
    "    if adaptive:\n",
    "        _, f = get_integrand(row['n.vl'], row['n.vl'] - row['n.vl.ur'], row['spvl.ur'], theta_obs, theta_pop)\n",
    "        x = np.linspace(0, 6.0, 100)\n",
    "        y = np.array([f(x) for x in x])\n",
    "        \n",
    "    else:\n",
    "        l, f, f_c, f_b, f_p = logl(row['n.vl'], row['n.vl'] - row['n.vl.ur'], row['spvl.ur'], theta_obs, theta_pop, components=True)\n",
    "\n",
    "        x = np.linspace(0, 6.0, 100)\n",
    "        y = np.array([(np.squeeze(f(x)), np.squeeze(f_c(x)), np.squeeze(f_b(x)), f_p(x)) for x in x])\n",
    "\n",
    "    plt.plot(x, y)\n",
    "\n",
    "    plt.title(\"The different components of the integrand\")\n",
    "    plt.legend(['integrand', 'convolution', 'binomial', 'population'])\n",
    "\n",
    "    if adaptive:\n",
    "        return np.log(scipy.integrate.quad(lambda x: f(x)[0], 0.0, 30.0)[0]), np.log(np.trapz(y[:,0], x))\n",
    "    else:\n",
    "        return np.log(np.trapz(y[:,0], x))"
   ]
  },
  {
   "cell_type": "code",
   "execution_count": 554,
   "metadata": {},
   "outputs": [
    {
     "data": {
      "text/plain": [
       "-3.1539057765691876"
      ]
     },
     "execution_count": 554,
     "metadata": {},
     "output_type": "execute_result"
    },
    {
     "data": {
      "image/png": "[encoded data removed]",
      "text/plain": [
       "<Figure size 640x480 with 1 Axes>"
      ]
     },
     "metadata": {},
     "output_type": "display_data"
    }
   ],
   "source": [
    "plot_single(0, theta_obs, theta_pop, adaptive=False)"
   ]
  },
  {
   "cell_type": "markdown",
   "metadata": {},
   "source": [
    "### Justifying `c = convolve(c, pmf, 'full')[0:len(grid)]`\n",
    "\n",
    "Suppose `x = [0, 1, 2, 3, 4]` and consider `x * x`. The 0th entry in the full convoluted array is:\n",
    "\n",
    "```\n",
    "    (x * x) [0] =              \n",
    "                    [0, 1, 2, 3, 4]\n",
    "         *  *  *  *  *\n",
    "        [4, 3, 2, 1, 0]\n",
    "```\n",
    "\n",
    "The convolution of two probability mass functions is:\n",
    "\n",
    "$$ P(Z = z) = \\sum_{k=-\\infty}^\\infty P(X = k) P(Y= z-k) $$\n",
    "\n",
    "We can see that the indices of the multiplied entries in the convoluted array is a constant value $-4 + 4 = -3 + 3 = ... = 0+0 = 0$. (Note that the negative indices into the array are padded with a value of 0). So the sum of those indices has the role of $z$ in the convolution of pmfs. Our pmf evaluations began at $x = 0$, so the 0th entry of the full convoluted array is $\\text{pmf}_\\text{convolution} (z = 0)$. Each time we slide the window, the sum of the indices increases by 1, and therefore the $z$ value that we are querying increases by 1.\n",
    "\n",
    "```\n",
    "    (x * x) [1] =              \n",
    "                    [0, 1, 2, 3, 4]\n",
    "            *  *  *  *  *\n",
    "           [4, 3, 2, 1, 0]\n",
    "```\n",
    "\n",
    "In the `full` mode, the convolution of one array with itself has `2n - 1` elements. If the $x$ positions of the elements in that array are defined by the constantly spaced sequence $x_1, x_2, \\ldots, x_n$ then the $x$ values in the full convolution are $x_1, x_2, \\ldots,  x_n, x_n + x_1, x_n + x_2, \\ldots, x_n + x_{n - 1}$. $n-1$ in the last entry because there still must be one element that overlaps between the reversed array and the stationary array. Therefore, after we calculate the convolution of $P(x=x), x \\in [0, x_\\text{max, grid})$ with itself, the first `[0:len(grid)]` values (the first `n` elements) of the convoluted array contain the $x$ values that are on the initial grid."
   ]
  },
  {
   "cell_type": "markdown",
   "metadata": {},
   "source": [
    "### Testing our likelihood"
   ]
  },
  {
   "cell_type": "code",
   "execution_count": 214,
   "metadata": {},
   "outputs": [],
   "source": [
    "theta_obs = ThetaObs(0.0206, 0.25)\n",
    "theta_pop = ThetaPop(0.07, np.log10(50), 0.1, 4.1, 0.9036287353551126)"
   ]
  },
  {
   "cell_type": "code",
   "execution_count": 557,
   "metadata": {},
   "outputs": [
    {
     "data": {
      "text/plain": [
       "<matplotlib.legend.Legend at 0x33e913b80>"
      ]
     },
     "execution_count": 557,
     "metadata": {},
     "output_type": "execute_result"
    },
    {
     "data": {
      "image/png": "[encoded data removed]",
      "text/plain": [
       "<Figure size 640x480 with 1 Axes>"
      ]
     },
     "metadata": {},
     "output_type": "display_data"
    }
   ],
   "source": [
    "import matplotlib.pyplot as plt\n",
    "\n",
    "row = df.iloc[0]\n",
    "\n",
    "z1 = build_convolution(row['spvl.ur'], theta_obs.sigma_noise, LLD, 1)\n",
    "z2 = build_convolution(row['spvl.ur'], theta_obs.sigma_noise, LLD, 2)\n",
    "z3 = build_convolution(row['spvl.ur'], theta_obs.sigma_noise, LLD, 3)\n",
    "z4 = build_convolution(row['spvl.ur'], theta_obs.sigma_noise, LLD, 4)\n",
    "\n",
    "\n",
    "plt.plot(x, [z1(a) for a in x])\n",
    "plt.plot(x, [z2(a) for a in x])\n",
    "plt.plot(x, [z3(a) for a in x])\n",
    "plt.plot(x, [z4(a) for a in x])\n",
    "\n",
    "plt.title(\"Numerically calculated average of convolutions of a truncated normal\")\n",
    "plt.legend([1,2,3,4])"
   ]
  },
  {
   "cell_type": "markdown",
   "metadata": {},
   "source": [
    "#### Slow likelihood\n",
    "\n",
    "We can calculate our likelihood slowly and precisely via adaptive step size integration. It is slow because we can't vectorize the operations, so we have to calculate each of the 700+ integrals separately."
   ]
  },
  {
   "cell_type": "code",
   "execution_count": 558,
   "metadata": {},
   "outputs": [],
   "source": [
    "logl = []\n",
    "for i,row in df.iterrows():\n",
    "    logl.append(logl_i(row['n.vl'], row['n.vl'] - row['n.vl.ur'], row['spvl.ur'], theta_obs, theta_pop))\n",
    "\n",
    "df['logl'] = logl"
   ]
  },
  {
   "cell_type": "markdown",
   "metadata": {},
   "source": [
    "#### Fast likelihood\n",
    "\n",
    "Or we can calculate the likelihood quickly, by sampling the integrand for each individual on a grid of points and then using a trapezoidal/Simpson's rule approximation of the integral. We test below for the accuracy of this approach. This is much faster because we can solve each integral at once."
   ]
  },
  {
   "cell_type": "code",
   "execution_count": 567,
   "metadata": {},
   "outputs": [
    {
     "name": "stderr",
     "output_type": "stream",
     "text": [
      "/var/folders/sv/t8bxbx_j571g94rv2ngmvx3m0000gn/T/ipykernel_35591/1818983760.py:172: RuntimeWarning: invalid value encountered in cast\n",
      "  idx_floor = np.floor(x / d).astype('int')\n"
     ]
    }
   ],
   "source": [
    "# 100x times faster than using scipy.integrate.quad\n",
    "l = calculate_logl(df['n.vl'], df['n.vl'] - df['n.vl.ur'], df['spvl.ur'], theta_obs, theta_pop)"
   ]
  },
  {
   "cell_type": "code",
   "execution_count": 564,
   "metadata": {},
   "outputs": [
    {
     "data": {
      "text/plain": [
       "(0.0, 0.01)"
      ]
     },
     "execution_count": 564,
     "metadata": {},
     "output_type": "execute_result"
    },
    {
     "data": {
      "image/png": "[encoded data removed]",
      "text/plain": [
       "<Figure size 640x480 with 1 Axes>"
      ]
     },
     "metadata": {},
     "output_type": "display_data"
    }
   ],
   "source": [
    "(np.abs(df['logl'] - l)).hist()\n",
    "plt.xlim((0, 0.01))"
   ]
  },
  {
   "cell_type": "code",
   "execution_count": 566,
   "metadata": {},
   "outputs": [
    {
     "data": {
      "text/plain": [
       "-7.418907515123687e-05"
      ]
     },
     "execution_count": 566,
     "metadata": {},
     "output_type": "execute_result"
    }
   ],
   "source": [
    "(df['logl'].sum() - l.sum())/(df['logl'].sum())"
   ]
  },
  {
   "cell_type": "markdown",
   "metadata": {},
   "source": [
    "# MCMC"
   ]
  },
  {
   "cell_type": "markdown",
   "metadata": {},
   "source": [
    "### How to numerically evaluate $m$ convolutions of a truncated normal [messy -- corrected version has already been incorporated above. will update]"
   ]
  },
  {
   "cell_type": "code",
   "execution_count": null,
   "metadata": {},
   "outputs": [
    {
     "data": {
      "text/plain": [
       "[<matplotlib.lines.Line2D at 0x29f5adfc0>]"
      ]
     },
     "execution_count": 207,
     "metadata": {},
     "output_type": "execute_result"
    },
    {
     "data": {
      "image/png": "[encoded data removed]",
      "text/plain": [
       "<Figure size 640x480 with 1 Axes>"
      ]
     },
     "metadata": {},
     "output_type": "display_data"
    }
   ],
   "source": [
    "import matplotlib.pyplot as plt\n",
    "from scipy.stats import truncnorm\n",
    "\n",
    "# Note from the scipy documentation, the a and b parameters to truncnorm\n",
    "# are not the x coordinates of truncation, but the left and right STDs of truncation\n",
    "# if we want to truncate at x_left = a_trunc and x_right = b_trunc then this formula converts:\n",
    "# a, b = (a_trunc - loc) / scale, (b_trunc - loc) / scale\n",
    "# where loc = mean and scale = std\n",
    "# https://docs.scipy.org/doc/scipy/reference/generated/scipy.stats.truncnorm.html\n",
    "\n",
    "x = np.linspace(0.0, 12, 200)\n",
    "mean = 4.0\n",
    "std = 1.0\n",
    "t = truncnorm((np.log10(400) - mean)/std, np.inf, loc=mean, scale=std)\n",
    "\n",
    "plt.plot(x, t.pdf(x))"
   ]
  },
  {
   "cell_type": "code",
   "execution_count": null,
   "metadata": {},
   "outputs": [],
   "source": [
    "from scipy.signal import convolve\n",
    "\n",
    "def f_convolution(x, spvl, sigma_noise, lld, n_detectable, delta=1e-4):\n",
    "    if n_detectable == 0:\n",
    "        return 1\n",
    "    \n",
    "    # why not just LLD? see scipy documentation notes about truncation being based on std\n",
    "    t = truncnorm((lld - spvl)/std, np.inf, loc=spvl, scale=sigma_noise)\n",
    "\n",
    "    if n_detectable == 1:\n",
    "        return t.pdf(x)\n",
    "    \n",
    "    # go 10 stds above mean to capture all probability\n",
    "    grid = np.arange(0, spvl + 10 * sigma_noise * n_detectable, delta)\n",
    "    # discretize the pdf of the truncated normal on this grid as a pmf\n",
    "    pmf = t.pdf(grid) * delta\n",
    "    print(np.trapz(pmf, grid))\n",
    "    c = pmf.copy()\n",
    "    # n-1 because we start with our first convolution which happens when we have 2 observations\n",
    "    for i in range(n_detectable-1):\n",
    "        c = convolve(c, pmf, 'full')[0:len(grid)]\n",
    "\n",
    "    print(np.trapz(c / delta, grid))\n",
    "    # the nearest value to x calculated in our big grid\n",
    "    index_of_x = int(np.round(x / delta))\n",
    "    return c[index_of_x] / delta, c / delta, pmf / delta, grid"
   ]
  },
  {
   "cell_type": "code",
   "execution_count": null,
   "metadata": {},
   "outputs": [
    {
     "name": "stdout",
     "output_type": "stream",
     "text": [
      "0.0 46.1938\n"
     ]
    },
    {
     "ename": "TypeError",
     "evalue": "cannot unpack non-iterable int object",
     "output_type": "error",
     "traceback": [
      "\u001b[0;31m---------------------------------------------------------------------------\u001b[0m",
      "\u001b[0;31mTypeError\u001b[0m                                 Traceback (most recent call last)",
      "Cell \u001b[0;32mIn[273], line 1\u001b[0m\n\u001b[0;32m----> 1\u001b[0m p, c_pmf, original_pmf, grid \u001b[38;5;241m=\u001b[39m f_convolution(np\u001b[38;5;241m.\u001b[39mlog10(\u001b[38;5;241m500\u001b[39m)\u001b[38;5;241m*\u001b[39m\u001b[38;5;241m3\u001b[39m, np\u001b[38;5;241m.\u001b[39mlog10(\u001b[38;5;241m500\u001b[39m), \u001b[38;5;241m0.5\u001b[39m, np\u001b[38;5;241m.\u001b[39mlog10(\u001b[38;5;241m400\u001b[39m), \u001b[38;5;241m6\u001b[39m)\n",
      "\u001b[0;31mTypeError\u001b[0m: cannot unpack non-iterable int object"
     ]
    }
   ],
   "source": [
    "p, c_pmf, original_pmf, grid = f_convolution(np.log10(500)*3, np.log10(500), 0.5, np.log10(400), 6)"
   ]
  },
  {
   "cell_type": "code",
   "execution_count": null,
   "metadata": {},
   "outputs": [
    {
     "data": {
      "text/plain": [
       "0.03405438402051446"
      ]
     },
     "execution_count": 203,
     "metadata": {},
     "output_type": "execute_result"
    }
   ],
   "source": [
    "p"
   ]
  },
  {
   "cell_type": "code",
   "execution_count": null,
   "metadata": {},
   "outputs": [
    {
     "data": {
      "text/plain": [
       "[<matplotlib.lines.Line2D at 0x29f3ecc40>]"
      ]
     },
     "execution_count": 192,
     "metadata": {},
     "output_type": "execute_result"
    },
    {
     "data": {
      "image/png": "[encoded data removed]",
      "text/plain": [
       "<Figure size 640x480 with 1 Axes>"
      ]
     },
     "metadata": {},
     "output_type": "display_data"
    }
   ],
   "source": [
    "plt.plot(grid, c_pmf)\n",
    "plt.plot(grid, original_pmf)"
   ]
  },
  {
   "cell_type": "markdown",
   "metadata": {},
   "source": [
    "$$ P(Z = z) = \\sum_{k=-\\infty}^\\infty P(X = k) P(Y= z-k)"
   ]
  },
  {
   "cell_type": "code",
   "execution_count": null,
   "metadata": {},
   "outputs": [
    {
     "data": {
      "text/plain": [
       "8.913267608338033e-05"
      ]
     },
     "execution_count": 138,
     "metadata": {},
     "output_type": "execute_result"
    }
   ],
   "source": [
    "c[int(np.round(2/delta))]"
   ]
  },
  {
   "cell_type": "code",
   "execution_count": null,
   "metadata": {},
   "outputs": [
    {
     "data": {
      "text/plain": [
       "array([ 0,  0,  1,  4, 10, 12,  9])"
      ]
     },
     "execution_count": 158,
     "metadata": {},
     "output_type": "execute_result"
    }
   ],
   "source": [
    "x = [0,1,2,3]\n",
    "#   [3,2,1,0]\n",
    "\n",
    "# there are 4 + 3 places to put the endpoint of the reversed array\n",
    "np.convolve(x,x)"
   ]
  },
  {
   "cell_type": "code",
   "execution_count": null,
   "metadata": {},
   "outputs": [
    {
     "data": {
      "text/plain": [
       "array([  0,   0,   0,   0,   0,   0,   1,   4,  10,  20,  35,  56,  84,\n",
       "       120, 165, 220, 286, 364, 429, 480, 516, 536, 539, 524, 490, 436,\n",
       "       361, 264, 144])"
      ]
     },
     "execution_count": 156,
     "metadata": {},
     "output_type": "execute_result"
    }
   ],
   "source": [
    "x = [0,1,2,3,4,5,6,7,8,9,10,11,12,13,14]\n",
    "A = [0,0,0,1,2,3,4,5,6,7 ,8 ,9,10,11,12] # [0,0,0,1,2] \n",
    "np.convolve(A, A, mode='full')\n",
    "\n",
    "# the sum of the indices is constant at each slot in the convolution and gives z\n",
    "# so the 0th entry of the full convolution is z=0\n",
    "# the 1st entry of the full convolution is z=1\n",
    "# the last entry of the full convolution is z = 2*n - 1"
   ]
  },
  {
   "cell_type": "code",
   "execution_count": null,
   "metadata": {},
   "outputs": [],
   "source": [
    "# our question is what x values correspond to the values of the convolved arrays"
   ]
  },
  {
   "cell_type": "code",
   "execution_count": null,
   "metadata": {},
   "outputs": [
    {
     "data": {
      "text/plain": [
       "array([  4,  10,  20,  35,  56,  84, 120, 165, 220, 286, 364, 429, 480,\n",
       "       516, 536])"
      ]
     },
     "execution_count": 153,
     "metadata": {},
     "output_type": "execute_result"
    }
   ],
   "source": [
    "np.convolve(A, A, mode='same')"
   ]
  }
 ],
 "metadata": {
  "kernelspec": {
   "display_name": ".venv",
   "language": "python",
   "name": "python3"
  },
  "language_info": {
   "codemirror_mode": {
    "name": "ipython",
    "version": 3
   },
   "file_extension": ".py",
   "mimetype": "text/x-python",
   "name": "python",
   "nbconvert_exporter": "python",
   "pygments_lexer": "ipython3",
   "version": "3.10.13"
  }
 },
 "nbformat": 4,
 "nbformat_minor": 2
}
