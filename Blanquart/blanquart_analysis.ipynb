{
 "cells": [
  {
   "cell_type": "code",
   "execution_count": 1,
   "metadata": {},
   "outputs": [],
   "source": [
    "import pandas as pd\n",
    "import numpy as np"
   ]
  },
  {
   "cell_type": "code",
   "execution_count": 2,
   "metadata": {},
   "outputs": [],
   "source": [
    "df = pd.read_csv('blanquart.couples.for.fitting.all.columns.csv')\n",
    "df = df.set_index('Couple')"
   ]
  },
  {
   "cell_type": "code",
   "execution_count": 3,
   "metadata": {},
   "outputs": [
    {
     "data": {
      "text/html": [
       "<div>\n",
       "<style scoped>\n",
       "    .dataframe tbody tr th:only-of-type {\n",
       "        vertical-align: middle;\n",
       "    }\n",
       "\n",
       "    .dataframe tbody tr th {\n",
       "        vertical-align: top;\n",
       "    }\n",
       "\n",
       "    .dataframe thead th {\n",
       "        text-align: right;\n",
       "    }\n",
       "</style>\n",
       "<table border=\"1\" class=\"dataframe\">\n",
       "  <thead>\n",
       "    <tr style=\"text-align: right;\">\n",
       "      <th></th>\n",
       "      <th>male.firstPosDate</th>\n",
       "      <th>male.lastNegDate</th>\n",
       "      <th>female.firstPosDate</th>\n",
       "      <th>female.lastNegDate</th>\n",
       "      <th>male.index</th>\n",
       "      <th>female.index</th>\n",
       "      <th>female.firstObsDate</th>\n",
       "      <th>male.firstObsDate</th>\n",
       "      <th>female.lastObsDate</th>\n",
       "      <th>male.lastObsDate</th>\n",
       "      <th>...</th>\n",
       "      <th>assay</th>\n",
       "      <th>n.vl.ur</th>\n",
       "      <th>spvl.ur</th>\n",
       "      <th>partner.ever.seroconverted</th>\n",
       "      <th>partner.first.pos.after.art</th>\n",
       "      <th>partner.seroconverted.before.art</th>\n",
       "      <th>index.inferred.spvl.start.date</th>\n",
       "      <th>partner.inferred.seroconversion.date</th>\n",
       "      <th>infectious.contact.period.end</th>\n",
       "      <th>duration</th>\n",
       "    </tr>\n",
       "    <tr>\n",
       "      <th>Couple</th>\n",
       "      <th></th>\n",
       "      <th></th>\n",
       "      <th></th>\n",
       "      <th></th>\n",
       "      <th></th>\n",
       "      <th></th>\n",
       "      <th></th>\n",
       "      <th></th>\n",
       "      <th></th>\n",
       "      <th></th>\n",
       "      <th></th>\n",
       "      <th></th>\n",
       "      <th></th>\n",
       "      <th></th>\n",
       "      <th></th>\n",
       "      <th></th>\n",
       "      <th></th>\n",
       "      <th></th>\n",
       "      <th></th>\n",
       "      <th></th>\n",
       "      <th></th>\n",
       "    </tr>\n",
       "  </thead>\n",
       "  <tbody>\n",
       "    <tr>\n",
       "      <th>1</th>\n",
       "      <td>2002.1</td>\n",
       "      <td>2000.8</td>\n",
       "      <td>1994.9</td>\n",
       "      <td>NaN</td>\n",
       "      <td>False</td>\n",
       "      <td>True</td>\n",
       "      <td>1994.9</td>\n",
       "      <td>1994.9</td>\n",
       "      <td>2002.1</td>\n",
       "      <td>2002.1</td>\n",
       "      <td>...</td>\n",
       "      <td>Roche 1.0</td>\n",
       "      <td>4</td>\n",
       "      <td>3.085649</td>\n",
       "      <td>True</td>\n",
       "      <td>False</td>\n",
       "      <td>True</td>\n",
       "      <td>1995.4</td>\n",
       "      <td>2001.45</td>\n",
       "      <td>2001.45</td>\n",
       "      <td>6.05</td>\n",
       "    </tr>\n",
       "    <tr>\n",
       "      <th>7</th>\n",
       "      <td>inf</td>\n",
       "      <td>1995.7</td>\n",
       "      <td>1994.9</td>\n",
       "      <td>NaN</td>\n",
       "      <td>False</td>\n",
       "      <td>True</td>\n",
       "      <td>1994.9</td>\n",
       "      <td>1994.9</td>\n",
       "      <td>1995.7</td>\n",
       "      <td>1995.7</td>\n",
       "      <td>...</td>\n",
       "      <td>Roche 1.0</td>\n",
       "      <td>1</td>\n",
       "      <td>2.750508</td>\n",
       "      <td>False</td>\n",
       "      <td>False</td>\n",
       "      <td>False</td>\n",
       "      <td>1995.4</td>\n",
       "      <td>inf</td>\n",
       "      <td>1995.70</td>\n",
       "      <td>0.30</td>\n",
       "    </tr>\n",
       "    <tr>\n",
       "      <th>9</th>\n",
       "      <td>2002.1</td>\n",
       "      <td>2000.8</td>\n",
       "      <td>inf</td>\n",
       "      <td>2007.9</td>\n",
       "      <td>True</td>\n",
       "      <td>False</td>\n",
       "      <td>2002.1</td>\n",
       "      <td>2002.1</td>\n",
       "      <td>2003.3</td>\n",
       "      <td>2002.1</td>\n",
       "      <td>...</td>\n",
       "      <td>Roche 1.0</td>\n",
       "      <td>1</td>\n",
       "      <td>5.669317</td>\n",
       "      <td>False</td>\n",
       "      <td>False</td>\n",
       "      <td>False</td>\n",
       "      <td>2002.6</td>\n",
       "      <td>inf</td>\n",
       "      <td>2003.30</td>\n",
       "      <td>0.70</td>\n",
       "    </tr>\n",
       "    <tr>\n",
       "      <th>11</th>\n",
       "      <td>inf</td>\n",
       "      <td>1996.5</td>\n",
       "      <td>1994.9</td>\n",
       "      <td>NaN</td>\n",
       "      <td>False</td>\n",
       "      <td>True</td>\n",
       "      <td>1994.9</td>\n",
       "      <td>1994.9</td>\n",
       "      <td>1996.5</td>\n",
       "      <td>1996.5</td>\n",
       "      <td>...</td>\n",
       "      <td>Roche 1.0</td>\n",
       "      <td>5</td>\n",
       "      <td>3.595304</td>\n",
       "      <td>False</td>\n",
       "      <td>False</td>\n",
       "      <td>False</td>\n",
       "      <td>1995.4</td>\n",
       "      <td>inf</td>\n",
       "      <td>1996.50</td>\n",
       "      <td>1.10</td>\n",
       "    </tr>\n",
       "    <tr>\n",
       "      <th>14</th>\n",
       "      <td>1994.9</td>\n",
       "      <td>NaN</td>\n",
       "      <td>inf</td>\n",
       "      <td>2000.9</td>\n",
       "      <td>True</td>\n",
       "      <td>False</td>\n",
       "      <td>1999.8</td>\n",
       "      <td>1999.8</td>\n",
       "      <td>2000.9</td>\n",
       "      <td>2000.7</td>\n",
       "      <td>...</td>\n",
       "      <td>Roche 1.0</td>\n",
       "      <td>1</td>\n",
       "      <td>3.327359</td>\n",
       "      <td>False</td>\n",
       "      <td>False</td>\n",
       "      <td>False</td>\n",
       "      <td>1995.4</td>\n",
       "      <td>inf</td>\n",
       "      <td>2000.90</td>\n",
       "      <td>5.50</td>\n",
       "    </tr>\n",
       "    <tr>\n",
       "      <th>...</th>\n",
       "      <td>...</td>\n",
       "      <td>...</td>\n",
       "      <td>...</td>\n",
       "      <td>...</td>\n",
       "      <td>...</td>\n",
       "      <td>...</td>\n",
       "      <td>...</td>\n",
       "      <td>...</td>\n",
       "      <td>...</td>\n",
       "      <td>...</td>\n",
       "      <td>...</td>\n",
       "      <td>...</td>\n",
       "      <td>...</td>\n",
       "      <td>...</td>\n",
       "      <td>...</td>\n",
       "      <td>...</td>\n",
       "      <td>...</td>\n",
       "      <td>...</td>\n",
       "      <td>...</td>\n",
       "      <td>...</td>\n",
       "      <td>...</td>\n",
       "    </tr>\n",
       "    <tr>\n",
       "      <th>3111</th>\n",
       "      <td>inf</td>\n",
       "      <td>2008.2</td>\n",
       "      <td>1995.4</td>\n",
       "      <td>NaN</td>\n",
       "      <td>False</td>\n",
       "      <td>True</td>\n",
       "      <td>2004.8</td>\n",
       "      <td>2004.9</td>\n",
       "      <td>2008.2</td>\n",
       "      <td>2008.2</td>\n",
       "      <td>...</td>\n",
       "      <td>Roche 1.5</td>\n",
       "      <td>1</td>\n",
       "      <td>5.745893</td>\n",
       "      <td>False</td>\n",
       "      <td>False</td>\n",
       "      <td>False</td>\n",
       "      <td>1995.9</td>\n",
       "      <td>inf</td>\n",
       "      <td>2005.20</td>\n",
       "      <td>9.30</td>\n",
       "    </tr>\n",
       "    <tr>\n",
       "      <th>3114</th>\n",
       "      <td>inf</td>\n",
       "      <td>2009.1</td>\n",
       "      <td>2005.6</td>\n",
       "      <td>NaN</td>\n",
       "      <td>False</td>\n",
       "      <td>True</td>\n",
       "      <td>2005.6</td>\n",
       "      <td>2005.6</td>\n",
       "      <td>2009.1</td>\n",
       "      <td>2009.1</td>\n",
       "      <td>...</td>\n",
       "      <td>Roche 1.5</td>\n",
       "      <td>1</td>\n",
       "      <td>2.966611</td>\n",
       "      <td>False</td>\n",
       "      <td>False</td>\n",
       "      <td>False</td>\n",
       "      <td>2006.1</td>\n",
       "      <td>inf</td>\n",
       "      <td>2007.30</td>\n",
       "      <td>1.20</td>\n",
       "    </tr>\n",
       "    <tr>\n",
       "      <th>3117</th>\n",
       "      <td>inf</td>\n",
       "      <td>2013.5</td>\n",
       "      <td>2002.6</td>\n",
       "      <td>NaN</td>\n",
       "      <td>False</td>\n",
       "      <td>True</td>\n",
       "      <td>2006.7</td>\n",
       "      <td>2006.7</td>\n",
       "      <td>2011.6</td>\n",
       "      <td>2011.6</td>\n",
       "      <td>...</td>\n",
       "      <td>Roche 1.5</td>\n",
       "      <td>1</td>\n",
       "      <td>3.723456</td>\n",
       "      <td>False</td>\n",
       "      <td>False</td>\n",
       "      <td>False</td>\n",
       "      <td>2003.1</td>\n",
       "      <td>inf</td>\n",
       "      <td>2005.20</td>\n",
       "      <td>2.10</td>\n",
       "    </tr>\n",
       "    <tr>\n",
       "      <th>3121</th>\n",
       "      <td>2008.7</td>\n",
       "      <td>NaN</td>\n",
       "      <td>inf</td>\n",
       "      <td>2014.1</td>\n",
       "      <td>True</td>\n",
       "      <td>False</td>\n",
       "      <td>2008.7</td>\n",
       "      <td>2008.7</td>\n",
       "      <td>2011.9</td>\n",
       "      <td>2011.9</td>\n",
       "      <td>...</td>\n",
       "      <td>Roche 1.5</td>\n",
       "      <td>1</td>\n",
       "      <td>3.069298</td>\n",
       "      <td>False</td>\n",
       "      <td>False</td>\n",
       "      <td>False</td>\n",
       "      <td>2009.2</td>\n",
       "      <td>inf</td>\n",
       "      <td>2011.90</td>\n",
       "      <td>2.70</td>\n",
       "    </tr>\n",
       "    <tr>\n",
       "      <th>3124</th>\n",
       "      <td>2011.4</td>\n",
       "      <td>2009.7</td>\n",
       "      <td>2006.4</td>\n",
       "      <td>NaN</td>\n",
       "      <td>False</td>\n",
       "      <td>True</td>\n",
       "      <td>2009.7</td>\n",
       "      <td>2009.7</td>\n",
       "      <td>2011.4</td>\n",
       "      <td>2011.4</td>\n",
       "      <td>...</td>\n",
       "      <td>Roche 1.5</td>\n",
       "      <td>1</td>\n",
       "      <td>5.509463</td>\n",
       "      <td>True</td>\n",
       "      <td>True</td>\n",
       "      <td>False</td>\n",
       "      <td>2006.9</td>\n",
       "      <td>2010.55</td>\n",
       "      <td>2007.20</td>\n",
       "      <td>0.30</td>\n",
       "    </tr>\n",
       "  </tbody>\n",
       "</table>\n",
       "<p>759 rows × 36 columns</p>\n",
       "</div>"
      ],
      "text/plain": [
       "        male.firstPosDate  male.lastNegDate  female.firstPosDate  \\\n",
       "Couple                                                             \n",
       "1                  2002.1            2000.8               1994.9   \n",
       "7                     inf            1995.7               1994.9   \n",
       "9                  2002.1            2000.8                  inf   \n",
       "11                    inf            1996.5               1994.9   \n",
       "14                 1994.9               NaN                  inf   \n",
       "...                   ...               ...                  ...   \n",
       "3111                  inf            2008.2               1995.4   \n",
       "3114                  inf            2009.1               2005.6   \n",
       "3117                  inf            2013.5               2002.6   \n",
       "3121               2008.7               NaN                  inf   \n",
       "3124               2011.4            2009.7               2006.4   \n",
       "\n",
       "        female.lastNegDate  male.index  female.index  female.firstObsDate  \\\n",
       "Couple                                                                      \n",
       "1                      NaN       False          True               1994.9   \n",
       "7                      NaN       False          True               1994.9   \n",
       "9                   2007.9        True         False               2002.1   \n",
       "11                     NaN       False          True               1994.9   \n",
       "14                  2000.9        True         False               1999.8   \n",
       "...                    ...         ...           ...                  ...   \n",
       "3111                   NaN       False          True               2004.8   \n",
       "3114                   NaN       False          True               2005.6   \n",
       "3117                   NaN       False          True               2006.7   \n",
       "3121                2014.1        True         False               2008.7   \n",
       "3124                   NaN       False          True               2009.7   \n",
       "\n",
       "        male.firstObsDate  female.lastObsDate  male.lastObsDate  ...  \\\n",
       "Couple                                                           ...   \n",
       "1                  1994.9              2002.1            2002.1  ...   \n",
       "7                  1994.9              1995.7            1995.7  ...   \n",
       "9                  2002.1              2003.3            2002.1  ...   \n",
       "11                 1994.9              1996.5            1996.5  ...   \n",
       "14                 1999.8              2000.9            2000.7  ...   \n",
       "...                   ...                 ...               ...  ...   \n",
       "3111               2004.9              2008.2            2008.2  ...   \n",
       "3114               2005.6              2009.1            2009.1  ...   \n",
       "3117               2006.7              2011.6            2011.6  ...   \n",
       "3121               2008.7              2011.9            2011.9  ...   \n",
       "3124               2009.7              2011.4            2011.4  ...   \n",
       "\n",
       "            assay  n.vl.ur   spvl.ur  partner.ever.seroconverted  \\\n",
       "Couple                                                             \n",
       "1       Roche 1.0        4  3.085649                        True   \n",
       "7       Roche 1.0        1  2.750508                       False   \n",
       "9       Roche 1.0        1  5.669317                       False   \n",
       "11      Roche 1.0        5  3.595304                       False   \n",
       "14      Roche 1.0        1  3.327359                       False   \n",
       "...           ...      ...       ...                         ...   \n",
       "3111    Roche 1.5        1  5.745893                       False   \n",
       "3114    Roche 1.5        1  2.966611                       False   \n",
       "3117    Roche 1.5        1  3.723456                       False   \n",
       "3121    Roche 1.5        1  3.069298                       False   \n",
       "3124    Roche 1.5        1  5.509463                        True   \n",
       "\n",
       "        partner.first.pos.after.art  partner.seroconverted.before.art  \\\n",
       "Couple                                                                  \n",
       "1                             False                              True   \n",
       "7                             False                             False   \n",
       "9                             False                             False   \n",
       "11                            False                             False   \n",
       "14                            False                             False   \n",
       "...                             ...                               ...   \n",
       "3111                          False                             False   \n",
       "3114                          False                             False   \n",
       "3117                          False                             False   \n",
       "3121                          False                             False   \n",
       "3124                           True                             False   \n",
       "\n",
       "        index.inferred.spvl.start.date  partner.inferred.seroconversion.date  \\\n",
       "Couple                                                                         \n",
       "1                               1995.4                               2001.45   \n",
       "7                               1995.4                                   inf   \n",
       "9                               2002.6                                   inf   \n",
       "11                              1995.4                                   inf   \n",
       "14                              1995.4                                   inf   \n",
       "...                                ...                                   ...   \n",
       "3111                            1995.9                                   inf   \n",
       "3114                            2006.1                                   inf   \n",
       "3117                            2003.1                                   inf   \n",
       "3121                            2009.2                                   inf   \n",
       "3124                            2006.9                               2010.55   \n",
       "\n",
       "        infectious.contact.period.end  duration  \n",
       "Couple                                           \n",
       "1                             2001.45      6.05  \n",
       "7                             1995.70      0.30  \n",
       "9                             2003.30      0.70  \n",
       "11                            1996.50      1.10  \n",
       "14                            2000.90      5.50  \n",
       "...                               ...       ...  \n",
       "3111                          2005.20      9.30  \n",
       "3114                          2007.30      1.20  \n",
       "3117                          2005.20      2.10  \n",
       "3121                          2011.90      2.70  \n",
       "3124                          2007.20      0.30  \n",
       "\n",
       "[759 rows x 36 columns]"
      ]
     },
     "execution_count": 3,
     "metadata": {},
     "output_type": "execute_result"
    }
   ],
   "source": [
    "df"
   ]
  },
  {
   "cell_type": "markdown",
   "metadata": {},
   "source": [
    "# Distribution of set point viral load"
   ]
  },
  {
   "cell_type": "code",
   "execution_count": 4,
   "metadata": {},
   "outputs": [
    {
     "data": {
      "text/plain": [
       "<Axes: ylabel='Frequency'>"
      ]
     },
     "execution_count": 4,
     "metadata": {},
     "output_type": "execute_result"
    },
    {
     "data": {
      "image/png": "[encoded data removed]",
      "text/plain": [
       "<Figure size 640x480 with 1 Axes>"
      ]
     },
     "metadata": {},
     "output_type": "display_data"
    }
   ],
   "source": [
    "df['spvl'].plot.hist(bins=25, cumulative=False)"
   ]
  },
  {
   "cell_type": "code",
   "execution_count": 5,
   "metadata": {},
   "outputs": [
    {
     "data": {
      "text/plain": [
       "[<matplotlib.lines.Line2D at 0x16a969570>]"
      ]
     },
     "execution_count": 5,
     "metadata": {},
     "output_type": "execute_result"
    },
    {
     "data": {
      "image/png": "[encoded data removed]",
      "text/plain": [
       "<Figure size 640x480 with 1 Axes>"
      ]
     },
     "metadata": {},
     "output_type": "display_data"
    }
   ],
   "source": [
    "from scipy.stats import kstest, norm\n",
    "\n",
    "ax = df['spvl'].plot.hist(bins=25, cumulative=True, density=True)\n",
    "x = np.linspace(df['spvl'].min(), df['spvl'].max(), 100)\n",
    "ax.plot(x, norm(df['spvl'].mean(), df['spvl'].std()).cdf(x))"
   ]
  },
  {
   "cell_type": "code",
   "execution_count": 6,
   "metadata": {},
   "outputs": [
    {
     "data": {
      "text/plain": [
       "0.043098851411678796"
      ]
     },
     "execution_count": 6,
     "metadata": {},
     "output_type": "execute_result"
    }
   ],
   "source": [
    "kstest(df['spvl'], norm(df['spvl'].mean(), df['spvl'].std()).cdf).pvalue"
   ]
  },
  {
   "cell_type": "markdown",
   "metadata": {},
   "source": [
    "**Observation:** the data is not normally distributed."
   ]
  },
  {
   "cell_type": "markdown",
   "metadata": {},
   "source": [
    "# False negativity analysis"
   ]
  },
  {
   "cell_type": "markdown",
   "metadata": {},
   "source": [
    "In the RCSS data used by Blanquart et al. the viral load measurement had a detection threshold of 400 copies/mL. Measurements below this threshold were censored. The authors identify a number of reasons that a measurement might be below the detection threshold:\n",
    "\n",
    "1. The participant is an 'elite controller' who truly has a low viral load at the time of measurement.\n",
    "2. A measurement error and/or degradation of the RNA sample.\n",
    "3. The participant was prescribed ART in a clinic other than the RHSP clinics and did not report that fact.\n",
    "4. The participant is falsely believed to be infected.\n",
    "\n",
    "In order to account for factor 2, Blanquart et al. \"assumed that any single viral load measure below 400 copies/mL in a participant with more than one measure over 400 copies/mL was due to either error or sample degradation, and we removed these measurements from our analysis (44 measures out of 2135).\"\n",
    "\n",
    "If we assume that the event of a measurement error or sample degradation is independent of how many past measurements have been made of the individual and independent of the participant's viral load, then the measurements rejected by above can be seen as establishing a minimum false negative rate of $44/2135 \\approx 2.06 \\%$."
   ]
  },
  {
   "cell_type": "markdown",
   "metadata": {},
   "source": [
    "# Transmission given undetectable viral load"
   ]
  },
  {
   "cell_type": "markdown",
   "metadata": {},
   "source": [
    "Four couples where the index partner always recorded an undectable viral load (5 measurements total; average = 1.25) had a seroconversion in the recipient partner. In and of itself, this is a notable finding because the metastudy of sexual transmission given low-level viremia by Broyles et al. included RCSS only up through the Gray study (2000) which had 0 transmission events when the index partner had undectable viral load."
   ]
  },
  {
   "cell_type": "code",
   "execution_count": 7,
   "metadata": {},
   "outputs": [
    {
     "data": {
      "text/plain": [
       "Couple\n",
       "356     1\n",
       "942     2\n",
       "1255    1\n",
       "2504    1\n",
       "Name: n.vl, dtype: int64"
      ]
     },
     "execution_count": 7,
     "metadata": {},
     "output_type": "execute_result"
    }
   ],
   "source": [
    "df[(df['n.vl.ur'] == 0) & df['partner.seroconverted.before.art']]['n.vl']"
   ]
  },
  {
   "cell_type": "markdown",
   "metadata": {},
   "source": [
    "Given a putative false negative rate of $2.06 \\%$ (this is likely a lower bound on the false negative rate), we can query the significance of these four observations with the following framework:\n",
    "\n",
    "1. Null hypothesis: given undetectable (< 400 copies/mL) viral load in the index partner, transmission is impossible.\n",
    "2. Evaluate the p-value for rejecting the null hypothesis given four transmission events and a false negative rate of $2.06\\%$.\n",
    "\n",
    "To complete (2) in the simplest way, we consider all couples where the recipient partner seroconverted regardless of viral load. Given the distribution of viral load measurements across those index partners, we ask how likely would it be to have four or more index partners record only undetectable viral loads due to independently random measurement failures at a rate of $2.06\\%$"
   ]
  },
  {
   "cell_type": "code",
   "execution_count": 8,
   "metadata": {},
   "outputs": [],
   "source": [
    "n_measurements = df[df['partner.seroconverted.before.art']]['n.vl']"
   ]
  },
  {
   "cell_type": "code",
   "execution_count": 9,
   "metadata": {},
   "outputs": [],
   "source": [
    "from scipy.stats import binom\n",
    "\n",
    "p_false_negative = 0.0206\n",
    "n_undectables = []\n",
    "for i in range(20000):\n",
    "    n_failure_samples = binom(n_measurements, p_false_negative).rvs()\n",
    "    n_undetectable = np.sum(n_failure_samples == n_measurements)\n",
    "    n_undectables.append(n_undetectable)\n",
    "n_undectables = np.array(n_undectables)"
   ]
  },
  {
   "cell_type": "code",
   "execution_count": 10,
   "metadata": {},
   "outputs": [
    {
     "data": {
      "text/plain": [
       "3.0"
      ]
     },
     "execution_count": 10,
     "metadata": {},
     "output_type": "execute_result"
    }
   ],
   "source": [
    "np.quantile(n_undectables, 0.95)"
   ]
  },
  {
   "cell_type": "code",
   "execution_count": 11,
   "metadata": {},
   "outputs": [
    {
     "data": {
      "text/plain": [
       "array([0.01805])"
      ]
     },
     "execution_count": 11,
     "metadata": {},
     "output_type": "execute_result"
    }
   ],
   "source": [
    "np.sum(n_undectables >= 4) / np.shape(n_undectables)"
   ]
  },
  {
   "cell_type": "markdown",
   "metadata": {},
   "source": [
    "**Observation:** with a false negative rate of 2.06%, we can reject the null hypothesis that transmission is impossible for index patients who only record undetectable results. (This assumes the only mode of measurement inaccuracy is complete failure. It does not include noise in the measurement.)\n",
    "\n",
    "**Note:** we also aren't including the possibility for extra-partner transmission. (Recall: these cases aren't confirmed to be linked.)"
   ]
  },
  {
   "cell_type": "markdown",
   "metadata": {},
   "source": [
    "# False negative rates and normality of the distribution\n",
    "\n",
    "We resample the distribution by assuming X% of the undetectable measurements were false negatives. We handle this process in two ways\n",
    "\n",
    "1. Remove the undetectable measurement and recalculate VL as if the measurement didn't exist.\n",
    "2. After removing all those measurements, calculate the mean and variance of SPVL and then draw random values from the normal with that mean and variance and reassign them to the presumptive false negatives.\n",
    "\n",
    "In each case, we then compare the resultant distribution to a normal distribution using the KS test.\n",
    "\n",
    "**Note:** neither of these approaches corrects for the fact that instead of doing something sensible for the censored data, we supply 200 copies / mL for all of the ones that *aren't* false negative in both cases."
   ]
  },
  {
   "cell_type": "code",
   "execution_count": 73,
   "metadata": {},
   "outputs": [],
   "source": [
    "def resample(df, p_false_negative):\n",
    "    df = df.copy()\n",
    "    # for negative tests, assume that p fraction was false negative\n",
    "    # ie the true viral load was > 400 copies/mL\n",
    "    n_now_positive = binom(df['n.vl'] - df['n.vl.ur'], p_false_negative).rvs()\n",
    "\n",
    "    # since it's unclear what VL to supply as the true VL in these observations,\n",
    "    # we try two approaches\n",
    "    # (1) hide those measurements\n",
    "    df['spvl2'] = (df['spvl'] * df['n.vl'] - n_now_positive * np.log10(200)) / (df['n.vl'] - n_now_positive)\n",
    "    df_hidden = df[(df['n.vl'] - n_now_positive) > 0]\n",
    "    df['spvl2'] = np.where(\n",
    "        (df['n.vl'] - n_now_positive) == 0,\n",
    "        0,\n",
    "        df['spvl2']\n",
    "    )\n",
    "\n",
    "    # (2) after hiding those measurements, calculate the mean and variance of distribution\n",
    "    # and then replace those measurements with RVs from the normal distribution with that mean and variance\n",
    "    mean, std = df['spvl2'].mean(), df['spvl2'].std()\n",
    "    n = norm(mean, std)\n",
    "    replacement_vls = n.rvs(np.sum(n_now_positive))\n",
    "    added_vl = []\n",
    "    i = 0\n",
    "    for n in n_now_positive:\n",
    "        added_vl.append(np.sum(replacement_vls[i:i+n]))\n",
    "        i += n\n",
    "    df['spvl3'] = (df['spvl2'] * (df['n.vl'] - n_now_positive) + added_vl) / (df['n.vl'])\n",
    "\n",
    "    return df_hidden['spvl2'], df['spvl3']"
   ]
  },
  {
   "cell_type": "code",
   "execution_count": 78,
   "metadata": {},
   "outputs": [],
   "source": [
    "p_false_negative = 0.10\n",
    "\n",
    "spvl_hidden, spvl_resampled = resample(df, p_false_negative)"
   ]
  },
  {
   "cell_type": "code",
   "execution_count": 79,
   "metadata": {},
   "outputs": [
    {
     "data": {
      "text/plain": [
       "False"
      ]
     },
     "execution_count": 79,
     "metadata": {},
     "output_type": "execute_result"
    }
   ],
   "source": [
    "pd.isna(spvl_resampled).any()"
   ]
  },
  {
   "cell_type": "markdown",
   "metadata": {},
   "source": [
    "## Hide false negatives"
   ]
  },
  {
   "cell_type": "code",
   "execution_count": 81,
   "metadata": {},
   "outputs": [
    {
     "data": {
      "text/plain": [
       "0.062034347719769456"
      ]
     },
     "execution_count": 81,
     "metadata": {},
     "output_type": "execute_result"
    },
    {
     "data": {
      "image/png": "[encoded data removed]",
      "text/plain": [
       "<Figure size 640x480 with 1 Axes>"
      ]
     },
     "metadata": {},
     "output_type": "display_data"
    }
   ],
   "source": [
    "ax = spvl_hidden.plot.hist(bins=25, cumulative=True, density=True)\n",
    "x = np.linspace(spvl_hidden.min(), spvl_hidden.max(), 100)\n",
    "ax.plot(x, norm(spvl_hidden.mean(), spvl_hidden.std()).cdf(x))\n",
    "\n",
    "kstest(spvl_hidden, norm(spvl_hidden.mean(), spvl_hidden.std()).cdf).pvalue"
   ]
  },
  {
   "cell_type": "markdown",
   "metadata": {},
   "source": [
    "## Replace false negatives"
   ]
  },
  {
   "cell_type": "code",
   "execution_count": 80,
   "metadata": {},
   "outputs": [
    {
     "data": {
      "text/plain": [
       "0.1213392795049536"
      ]
     },
     "execution_count": 80,
     "metadata": {},
     "output_type": "execute_result"
    },
    {
     "data": {
      "image/png": "[encoded data removed]",
      "text/plain": [
       "<Figure size 640x480 with 1 Axes>"
      ]
     },
     "metadata": {},
     "output_type": "display_data"
    }
   ],
   "source": [
    "ax = spvl_resampled.plot.hist(bins=25, cumulative=True, density=True)\n",
    "x = np.linspace(spvl_resampled.min(), spvl_resampled.max(), 100)\n",
    "ax.plot(x, norm(spvl_resampled.mean(), spvl_resampled.std()).cdf(x))\n",
    "ax.plot(x, norm(spvl_hidden.mean(), spvl_hidden.std()).cdf(x))\n",
    "\n",
    "kstest(spvl_resampled, norm(spvl_resampled.mean(), spvl_resampled.std()).cdf).pvalue"
   ]
  },
  {
   "cell_type": "markdown",
   "metadata": {},
   "source": [
    "**Observation:** as obviously is expected, when we replace the \"false negative\" values with the samples from the normal distribution with mean + variance determiend by non-false-negative-values, we get a distribution that is closer to normal."
   ]
  },
  {
   "cell_type": "code",
   "execution_count": 84,
   "metadata": {},
   "outputs": [
    {
     "data": {
      "image/png": "[encoded data removed]",
      "text/plain": [
       "<Figure size 640x480 with 1 Axes>"
      ]
     },
     "metadata": {},
     "output_type": "display_data"
    }
   ],
   "source": [
    "_, spvl_resampled = resample(df, 0.35)\n",
    "ax = spvl_resampled.plot.hist(bins=25, density=True)"
   ]
  },
  {
   "cell_type": "markdown",
   "metadata": {},
   "source": [
    "**Observation:** even with a large false negative rate (35% above), the data still apppears enriched at small values relative to a normal."
   ]
  },
  {
   "cell_type": "markdown",
   "metadata": {},
   "source": [
    "# Model part 1: population model and observation model towards redistributing censored data\n",
    "\n",
    "- Problem: the viral load measurements are censored if their value is below 400 copies / mL.\n",
    "- Desire: redistribute the censored viral load measurements (taking into account the possibility of false negatives) below 400 copies / mL\n",
    "- Approach: propose a model for the viral load distribution in the population and a model for the observation process. Find the parameters for the population viral load model and observation model that maximize the likelihood of observing our data. Then redistribute censored data in accordance with the population model.\n",
    "\n",
    "## Population model:\n",
    "\n",
    "- Two classes of individuals: elite controllers and ordinary individuals. Fraction $q$ of individuals are elite, fraction $1-q$ are not.\n",
    "- Viral load among elite controllers: $\\text{Normal} (\\mu_{\\text{e}}, \\sigma^2_\\text{e})$. PDF: $f_\\text{elite}$.\n",
    "- Viral load among non-elite contorllers $\\text{Normal} (\\mu_{\\text{o}}, \\sigma^2_\\text{o})$. PDF: $f_\\text{ordinary}$.\n",
    "- PDF of viral load in the population:\n",
    "\n",
    "$$ f_\\text{pop} (\\text{VL}_\\text{true}) =  q f_\\text{elite} (\\text{VL}_\\text{true}) + (1 - q) f_\\text{ordinary} (\\text{VL}_\\text{true}).$$\n",
    "\n",
    "## Observation model:\n",
    "\n",
    "- Assume that every individual has a fixed $\\text{VL}_\\text{true} = \\text{SPVL}_\\text{true}$.\n",
    "- Measurements have Gaussian noise $\\text{Normal}(0, \\sigma_\\text{noise}^2)$.\n",
    "- Any measurement of a value below 400 copies / mL (after noise) is censored.\n",
    "- Additionally and *independently*, there is a constant probability that a viral load measurement will appear censored due to a false negative: $p_\\text{false negative}$.\n",
    "- The number of measurements made of an individual are independent of any feature of that individual. **Is this true? Is there some weird entanglement where once your partner seroconverts you get dropped from the data so maybe we have more observations for people with low viral loads?** \n",
    "\n",
    "## Observation content:\n",
    "\n",
    "For each individual $i$, we make the following observation:\n",
    "\n",
    "$$\\mathcal{O}_i = \\{ n_i, k_i, \\text{SPVL}_i^o \\}$$\n",
    "\n",
    "- $n_i$: number of times viral load is measured.\n",
    "- $k_i$: number of times an undetectable result is recorded. $k_i \\le n_i$.\n",
    "- $\\text{SPVL}^o_i$: the observed ($=^o$) average (in log space) of **uncensored** viral load observations.\n",
    "\n",
    "## Likelihood of observation given the two models\n",
    "\n",
    "Let the collection of all model parameters be called $\\theta$\n",
    "\n",
    "$$ \\theta = \\theta_\\text{pop} \\cup \\theta_\\text{obs} = \\{ q, \\mu_e, \\sigma_e, \\mu_o, \\sigma_o \\} \\cup \\{ p_\\text{false negative}, \\sigma_\\text{noise} \\}$$\n",
    "\n",
    "By assumption, individual $i$ has a fixed $\\text{VL}_\\text{true} = \\text{SPVL}_\\text{true}$. By the law of total probability, the likelihood of observing $\\mathcal{O}_i$ given the model is:\n",
    "\n",
    "$$ \\mathcal{L} (\\mathcal{O}_i | \\theta ) = \\int_{\\text{VL}_\\text{true} = 0}^\\infty f_\\text{pop} (\\text{VL}_\\text{true}; \\theta_\\text{pop}) P(\\mathcal{O}_i | \\text{VL}_\\text{true}; \\theta_\\text{obs}) d\\text{VL}_\\text{true}$$\n",
    "\n",
    "The first term in the integral is known:\n",
    "\n",
    "$$ f_\\text{pop} (\\text{VL}_\\text{true}; \\theta_\\text{pop}) =  q f_\\text{elite} (\\text{VL}_\\text{true}) + (1 - q) f_\\text{ordinary} (\\text{VL}_\\text{true}).$$\n",
    "\n",
    "The second term in the integral is more complicated to evaluate.\n",
    "\n",
    "### The probability of an observation given a known fixed viral load\n",
    "\n",
    "The probability of $\\mathcal{O}_i$ given the model and the viral load may be split apart into a probability for observing $k_i$ undetectable results and a probability for observing the given mean among the $n-k$ other measurements:\n",
    "\n",
    "$$ P(\\mathcal{O}_i | \\text{VL}_\\text{true}; \\theta_\\text{obs}) = P((n_i,k_i) | \\text{VL}_\\text{true}; \\theta_\\text{obs}) P( (\\text{SPVL}_i^o, n - k) | \\text{VL}_\\text{true}; \\theta_\\text{obs}) $$\n",
    "\n",
    "Given the true viral load, the observations would follow the normal distribution $\\text{Normal} (\\text{VL}_\\text{true}, \\sigma_\\text{noise}^2)$ but for censoring and false negatives. Let $F_\\text{uncensored}$ be the CDF of this normal distribution.\n",
    "\n",
    "Then for the first term in the previous equation we have:\n",
    "\n",
    "$$ P((n_i,k_i) | \\text{VL}_\\text{true}; \\theta_\\text{obs}) = \\text{Binom}(n_i, P(\\text{undetectable} | \\text{VL}_\\text{true}; \\theta_\\text{obs})) (k_i) $$\n",
    "\n",
    "where the probability of an undetectable result is the probability that either we have a false negative or would-be measurement below 400 copies / mL. Given independence:\n",
    "\n",
    "$$P(\\text{undetectable} | \\text{VL}_\\text{true}; \\theta_\\text{obs}) = 1 - (1 - p_\\text{false negative}) (1 - F_\\text{uncensored}(400))$$\n",
    "\n",
    "That resolves one term. For the second term, we need to know the probability that we observe an average value of $\\text{SPVL}^o_i$ across $n-k$ measurements, which weren't censored, given a true viral load $\\text{VL}_\\text{true}$ and a model $\\theta_\\text{obs}$. The outcome of one observation of a viral load given that it was not censored is a random variable, call it $X$, distributed as a half-truncated normal distribution. The probability in question is \n",
    "\n",
    "$$ f_{\\frac{X + X + \\ldots + X}{n -k}} (\\text{SPVL}^o_i) $$\n",
    "\n",
    "ie the probability that the value of $n - k$ convolutions of $X$ produces $(n - k) \\cdot \\text{SPVL}^o_i$."
   ]
  },
  {
   "cell_type": "code",
   "execution_count": null,
   "metadata": {},
   "outputs": [],
   "source": []
  }
 ],
 "metadata": {
  "kernelspec": {
   "display_name": ".venv",
   "language": "python",
   "name": "python3"
  },
  "language_info": {
   "codemirror_mode": {
    "name": "ipython",
    "version": 3
   },
   "file_extension": ".py",
   "mimetype": "text/x-python",
   "name": "python",
   "nbconvert_exporter": "python",
   "pygments_lexer": "ipython3",
   "version": "3.10.13"
  }
 },
 "nbformat": 4,
 "nbformat_minor": 2
}
