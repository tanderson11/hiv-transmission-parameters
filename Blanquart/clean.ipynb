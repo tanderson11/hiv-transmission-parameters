{
 "cells": [
  {
   "cell_type": "code",
   "execution_count": null,
   "metadata": {},
   "outputs": [],
   "source": [
    "import pandas as pd\n",
    "import numpy as np"
   ]
  },
  {
   "cell_type": "code",
   "execution_count": null,
   "metadata": {},
   "outputs": [],
   "source": [
    "df = pd.read_csv('couples.unique.csv')\n",
    "df = df.set_index('Couple')\n",
    "df = df[~pd.isnull(df['spvl'])]\n",
    "og_df = df.copy()"
   ]
  },
  {
   "cell_type": "markdown",
   "metadata": {},
   "source": [
    "## Options of how to treat the data"
   ]
  },
  {
   "cell_type": "code",
   "execution_count": null,
   "metadata": {},
   "outputs": [],
   "source": [
    "base_output_name = 'blanquart.couples.for.fitting'\n",
    "\n",
    "file_suffix = ''\n",
    "dose_column = 'spvl'\n",
    "# remove undectable viral load?\n",
    "remove_undectable = True\n",
    "if remove_undectable:\n",
    "    file_suffix += '.ur'\n",
    "    dose_column = 'spvl.ur'"
   ]
  },
  {
   "cell_type": "code",
   "execution_count": null,
   "metadata": {},
   "outputs": [],
   "source": [
    "if remove_undectable:\n",
    "    df = df[~pd.isna(df['spvl.ur'])]"
   ]
  },
  {
   "cell_type": "markdown",
   "metadata": {},
   "source": [
    "## Processing data"
   ]
  },
  {
   "cell_type": "code",
   "execution_count": null,
   "metadata": {},
   "outputs": [],
   "source": [
    "df['partner.ever.seroconverted'] = (df['partner.firstPosDate'] != np.inf)\n",
    "df['partner.ever.seroconverted'].sum()"
   ]
  },
  {
   "cell_type": "code",
   "execution_count": null,
   "metadata": {},
   "outputs": [],
   "source": [
    "# do this later with inferred seroconversion date?\n",
    "df['partner.first.pos.after.art'] = df['partner.ever.seroconverted'] & (df['partner.firstPosDate'] > df['index.first.art.date'])\n",
    "df['partner.first.pos.after.art'].sum()"
   ]
  },
  {
   "cell_type": "code",
   "execution_count": null,
   "metadata": {},
   "outputs": [],
   "source": [
    "df['partner.seroconverted.before.art'] = df['partner.ever.seroconverted'] & ~df['partner.first.pos.after.art']\n",
    "df['partner.seroconverted.before.art'].sum()"
   ]
  },
  {
   "cell_type": "code",
   "execution_count": null,
   "metadata": {},
   "outputs": [],
   "source": [
    "df['index.inferred.spvl.start.date'] = df['index.firstPosDate'] + 0.5"
   ]
  },
  {
   "cell_type": "code",
   "execution_count": null,
   "metadata": {},
   "outputs": [],
   "source": [
    "# here we can choose to do midpoint or not!\n",
    "\n",
    "df['partner.inferred.seroconversion.date'] = np.where(\n",
    "    df['partner.ever.seroconverted'],\n",
    "    (df['partner.firstPosDate'] + df['partner.lastNegDate'])/2,\n",
    "    np.inf\n",
    ")"
   ]
  },
  {
   "cell_type": "code",
   "execution_count": null,
   "metadata": {},
   "outputs": [],
   "source": [
    "df['infectious.contact.period.end'] = np.where(\n",
    "    df['partner.seroconverted.before.art'],\n",
    "    df[['index.first.art.date', 'partner.inferred.seroconversion.date']].min(axis=1),\n",
    "    df[['index.first.art.date', 'partner.lastNegDate']].min(axis=1),\n",
    ")"
   ]
  },
  {
   "cell_type": "code",
   "execution_count": null,
   "metadata": {},
   "outputs": [],
   "source": [
    "df['duration'] = df['infectious.contact.period.end'] - df['index.inferred.spvl.start.date']"
   ]
  },
  {
   "cell_type": "code",
   "execution_count": null,
   "metadata": {},
   "outputs": [],
   "source": [
    "df[df['duration'] <= 0].index"
   ]
  },
  {
   "cell_type": "code",
   "execution_count": null,
   "metadata": {},
   "outputs": [],
   "source": [
    "df_bad = df[df['duration'] <= 0]\n",
    "df = df[df['duration'] > 0]\n",
    "\n",
    "with open('couples.extra.columns.csv', 'w') as f:\n",
    "    df.to_csv(f)\n",
    "\n",
    "df_new = pd.DataFrame({\n",
    "    'couple': df.index,\n",
    "    'dose': 10**df[dose_column],\n",
    "    'number': 1,\n",
    "    'success': df['partner.seroconverted.before.art'],\n",
    "    'duration': df['duration'],\n",
    "    'dose_frequency': 9*12.\n",
    "    },\n",
    ")\n",
    "\n",
    "df_new['success'] = df_new['success'].astype(int)\n",
    "df_new = df_new.set_index('couple')\n",
    "\n",
    "with open(base_output_name + file_suffix + '.csv', 'w') as f:\n",
    "    df_new.to_csv(f)\n",
    "\n",
    "with open('dropped.blanquart.couples.csv', 'w') as f:\n",
    "    df_bad.to_csv(f)"
   ]
  },
  {
   "cell_type": "code",
   "execution_count": null,
   "metadata": {},
   "outputs": [],
   "source": [
    "df_bad[df_bad['index.first.art.date'] < df_bad['index.firstPosDate']]"
   ]
  },
  {
   "cell_type": "code",
   "execution_count": null,
   "metadata": {},
   "outputs": [],
   "source": [
    "df"
   ]
  }
 ],
 "metadata": {
  "kernelspec": {
   "display_name": ".venv",
   "language": "python",
   "name": "python3"
  },
  "language_info": {
   "codemirror_mode": {
    "name": "ipython",
    "version": 3
   },
   "file_extension": ".py",
   "mimetype": "text/x-python",
   "name": "python",
   "nbconvert_exporter": "python",
   "pygments_lexer": "ipython3",
   "version": "3.10.13"
  }
 },
 "nbformat": 4,
 "nbformat_minor": 2
}
