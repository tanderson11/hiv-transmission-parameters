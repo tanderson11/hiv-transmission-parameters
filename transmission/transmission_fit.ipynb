{
 "cells": [
  {
   "cell_type": "code",
   "execution_count": 1,
   "metadata": {},
   "outputs": [],
   "source": [
    "import numpy as np\n",
    "import pandas as pd\n",
    "from transmissionlogl import Fitter, model_klasses"
   ]
  },
  {
   "cell_type": "code",
   "execution_count": 2,
   "metadata": {},
   "outputs": [],
   "source": [
    "data = pd.read_csv('../Blanquart/blanquart.couples.for.fitting.csv')"
   ]
  },
  {
   "cell_type": "code",
   "execution_count": 3,
   "metadata": {},
   "outputs": [
    {
     "data": {
      "text/html": [
       "<div>\n",
       "<style scoped>\n",
       "    .dataframe tbody tr th:only-of-type {\n",
       "        vertical-align: middle;\n",
       "    }\n",
       "\n",
       "    .dataframe tbody tr th {\n",
       "        vertical-align: top;\n",
       "    }\n",
       "\n",
       "    .dataframe thead th {\n",
       "        text-align: right;\n",
       "    }\n",
       "</style>\n",
       "<table border=\"1\" class=\"dataframe\">\n",
       "  <thead>\n",
       "    <tr style=\"text-align: right;\">\n",
       "      <th></th>\n",
       "      <th>couple</th>\n",
       "      <th>dose</th>\n",
       "      <th>number</th>\n",
       "      <th>success</th>\n",
       "      <th>duration</th>\n",
       "      <th>dose_frequency</th>\n",
       "    </tr>\n",
       "  </thead>\n",
       "  <tbody>\n",
       "    <tr>\n",
       "      <th>0</th>\n",
       "      <td>1</td>\n",
       "      <td>848.643326</td>\n",
       "      <td>1</td>\n",
       "      <td>1</td>\n",
       "      <td>6.05</td>\n",
       "      <td>108.0</td>\n",
       "    </tr>\n",
       "    <tr>\n",
       "      <th>1</th>\n",
       "      <td>7</td>\n",
       "      <td>335.559235</td>\n",
       "      <td>1</td>\n",
       "      <td>0</td>\n",
       "      <td>0.30</td>\n",
       "      <td>108.0</td>\n",
       "    </tr>\n",
       "    <tr>\n",
       "      <th>2</th>\n",
       "      <td>9</td>\n",
       "      <td>467000.000467</td>\n",
       "      <td>1</td>\n",
       "      <td>0</td>\n",
       "      <td>0.70</td>\n",
       "      <td>108.0</td>\n",
       "    </tr>\n",
       "    <tr>\n",
       "      <th>3</th>\n",
       "      <td>11</td>\n",
       "      <td>3938.256196</td>\n",
       "      <td>1</td>\n",
       "      <td>0</td>\n",
       "      <td>1.10</td>\n",
       "      <td>108.0</td>\n",
       "    </tr>\n",
       "    <tr>\n",
       "      <th>4</th>\n",
       "      <td>14</td>\n",
       "      <td>2124.999998</td>\n",
       "      <td>1</td>\n",
       "      <td>0</td>\n",
       "      <td>5.50</td>\n",
       "      <td>108.0</td>\n",
       "    </tr>\n",
       "    <tr>\n",
       "      <th>...</th>\n",
       "      <td>...</td>\n",
       "      <td>...</td>\n",
       "      <td>...</td>\n",
       "      <td>...</td>\n",
       "      <td>...</td>\n",
       "      <td>...</td>\n",
       "    </tr>\n",
       "    <tr>\n",
       "      <th>754</th>\n",
       "      <td>3111</td>\n",
       "      <td>557049.000087</td>\n",
       "      <td>1</td>\n",
       "      <td>0</td>\n",
       "      <td>9.30</td>\n",
       "      <td>108.0</td>\n",
       "    </tr>\n",
       "    <tr>\n",
       "      <th>755</th>\n",
       "      <td>3114</td>\n",
       "      <td>926.000001</td>\n",
       "      <td>1</td>\n",
       "      <td>0</td>\n",
       "      <td>1.20</td>\n",
       "      <td>108.0</td>\n",
       "    </tr>\n",
       "    <tr>\n",
       "      <th>756</th>\n",
       "      <td>3117</td>\n",
       "      <td>5290.000000</td>\n",
       "      <td>1</td>\n",
       "      <td>0</td>\n",
       "      <td>2.10</td>\n",
       "      <td>108.0</td>\n",
       "    </tr>\n",
       "    <tr>\n",
       "      <th>757</th>\n",
       "      <td>3121</td>\n",
       "      <td>1173.000000</td>\n",
       "      <td>1</td>\n",
       "      <td>0</td>\n",
       "      <td>2.70</td>\n",
       "      <td>108.0</td>\n",
       "    </tr>\n",
       "    <tr>\n",
       "      <th>758</th>\n",
       "      <td>3124</td>\n",
       "      <td>323194.000275</td>\n",
       "      <td>1</td>\n",
       "      <td>0</td>\n",
       "      <td>0.30</td>\n",
       "      <td>108.0</td>\n",
       "    </tr>\n",
       "  </tbody>\n",
       "</table>\n",
       "<p>759 rows × 6 columns</p>\n",
       "</div>"
      ],
      "text/plain": [
       "     couple           dose  number  success  duration  dose_frequency\n",
       "0         1     848.643326       1        1      6.05           108.0\n",
       "1         7     335.559235       1        0      0.30           108.0\n",
       "2         9  467000.000467       1        0      0.70           108.0\n",
       "3        11    3938.256196       1        0      1.10           108.0\n",
       "4        14    2124.999998       1        0      5.50           108.0\n",
       "..      ...            ...     ...      ...       ...             ...\n",
       "754    3111  557049.000087       1        0      9.30           108.0\n",
       "755    3114     926.000001       1        0      1.20           108.0\n",
       "756    3117    5290.000000       1        0      2.10           108.0\n",
       "757    3121    1173.000000       1        0      2.70           108.0\n",
       "758    3124  323194.000275       1        0      0.30           108.0\n",
       "\n",
       "[759 rows x 6 columns]"
      ]
     },
     "execution_count": 3,
     "metadata": {},
     "output_type": "execute_result"
    }
   ],
   "source": [
    "data"
   ]
  },
  {
   "cell_type": "code",
   "execution_count": 4,
   "metadata": {},
   "outputs": [
    {
     "data": {
      "text/plain": [
       "567.4316260697988"
      ]
     },
     "execution_count": 4,
     "metadata": {},
     "output_type": "execute_result"
    }
   ],
   "source": [
    "model = model_klasses['gamma'](5.7945e-07, 4.2594e-05**2)\n",
    "Fitter.nlogl(data, model)\n",
    "\n",
    "# Matlab:\n",
    "#nloglik_min = 567.4316"
   ]
  },
  {
   "cell_type": "code",
   "execution_count": 5,
   "metadata": {},
   "outputs": [
    {
     "data": {
      "text/plain": [
       "747.9700851233299"
      ]
     },
     "execution_count": 5,
     "metadata": {},
     "output_type": "execute_result"
    }
   ],
   "source": [
    "model = model_klasses['bdsim'](1.2054e-08)\n",
    "Fitter.nlogl(data, model)\n",
    "\n",
    "# Matlab:\n",
    "#nloglik_min = 747.9701"
   ]
  },
  {
   "cell_type": "code",
   "execution_count": 6,
   "metadata": {},
   "outputs": [
    {
     "data": {
      "text/plain": [
       "569.9033770409906"
      ]
     },
     "execution_count": 6,
     "metadata": {},
     "output_type": "execute_result"
    }
   ],
   "source": [
    "model = model_klasses['bdmax'](0.0010, 1.4778e-04)\n",
    "Fitter.nlogl(data, model)\n",
    "\n",
    "# Matlab:\n",
    "#nloglik_min = 569.8906"
   ]
  },
  {
   "cell_type": "code",
   "execution_count": 7,
   "metadata": {},
   "outputs": [
    {
     "name": "stdout",
     "output_type": "stream",
     "text": [
      "[1.e-08] 751.0435217912933\n",
      "[2.e-08] 776.3816070251626\n"
     ]
    },
    {
     "data": {
      "text/plain": [
       "  message: CONVERGENCE: NORM_OF_PROJECTED_GRADIENT_<=_PGTOL\n",
       "  success: True\n",
       "   status: 0\n",
       "      fun: 751.0435217912933\n",
       "        x: [ 1.000e-08]\n",
       "      nit: 0\n",
       "      jac: [ 2.534e+09]\n",
       "     nfev: 2\n",
       "     njev: 1\n",
       " hess_inv: <1x1 LbfgsInvHessProduct with dtype=float64>"
      ]
     },
     "execution_count": 7,
     "metadata": {},
     "output_type": "execute_result"
    }
   ],
   "source": [
    "Fitter.calculate_mle(data, 'bdsim', x0=1.0e-9, bounds=((1e-10, 1e-5),))"
   ]
  },
  {
   "cell_type": "code",
   "execution_count": null,
   "metadata": {},
   "outputs": [],
   "source": []
  }
 ],
 "metadata": {
  "kernelspec": {
   "display_name": ".venv",
   "language": "python",
   "name": "python3"
  },
  "language_info": {
   "codemirror_mode": {
    "name": "ipython",
    "version": 3
   },
   "file_extension": ".py",
   "mimetype": "text/x-python",
   "name": "python",
   "nbconvert_exporter": "python",
   "pygments_lexer": "ipython3",
   "version": "3.10.13"
  }
 },
 "nbformat": 4,
 "nbformat_minor": 2
}
